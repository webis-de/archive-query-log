{
 "cells": [
  {
   "cell_type": "code",
   "execution_count": 62,
   "id": "2cf28ecc-8f7c-45ee-ad56-7086a738d189",
   "metadata": {},
   "outputs": [],
   "source": [
    "from json import loads \n",
    "from datetime import datetime\n",
    "from uuid import UUID\n",
    "from gzip import GzipFile\n",
    "from io import TextIOWrapper\n",
    "from json import dumps\n",
    "from csv import reader\n",
    "from pathlib import Path\n",
    "from pyspark import SparkConf, SparkContext"
   ]
  },
  {
   "cell_type": "code",
   "execution_count": 1,
   "id": "35756464-ec74-4453-826a-3395699f4d27",
   "metadata": {},
   "outputs": [
    {
     "data": {
      "text/html": [
       "\n",
       "        <div>\n",
       "            <p><b>SparkContext</b></p>\n",
       "\n",
       "            <p><a href=\"http://10.23.88.185:4040\">Spark UI</a></p>\n",
       "\n",
       "            <dl>\n",
       "              <dt>Version</dt>\n",
       "                <dd><code>v3.2.1</code></dd>\n",
       "              <dt>Master</dt>\n",
       "                <dd><code>yarn</code></dd>\n",
       "              <dt>AppName</dt>\n",
       "                <dd><code>web-archive-ql-join</code></dd>\n",
       "            </dl>\n",
       "        </div>\n",
       "        "
      ],
      "text/plain": [
       "<SparkContext master=yarn appName=web-archive-ql-join>"
      ]
     },
     "execution_count": 1,
     "metadata": {},
     "output_type": "execute_result"
    }
   ],
   "source": [
    "conf = SparkConf()\n",
    "conf.setAll([\n",
    "    (\"spark.executor.instances\", 3)\n",
    "])\n",
    "sc = SparkContext(\n",
    "    master=\"yarn\",\n",
    "    appName=\"web-archive-ql-join\",\n",
    "    conf=conf,\n",
    ")\n",
    "sc"
   ]
  },
  {
   "cell_type": "code",
   "execution_count": 63,
   "id": "28df0d23-001b-4699-9627-e4c7e20bd609",
   "metadata": {},
   "outputs": [
    {
     "data": {
      "text/plain": [
       "PosixPath('/mnt/ceph/storage/data-in-progress/data-research/web-search/web-archive-query-log')"
      ]
     },
     "execution_count": 63,
     "metadata": {},
     "output_type": "execute_result"
    }
   ],
   "source": [
    "global_data_dir = Path(\"/mnt/ceph/storage/data-in-progress/data-research/web-search/web-archive-query-log/\")\n",
    "global_data_dir"
   ]
  },
  {
   "cell_type": "code",
   "execution_count": 64,
   "id": "054aebc7-2ede-49ef-9d7b-aea5027edcc3",
   "metadata": {},
   "outputs": [
    {
     "data": {
      "text/plain": [
       "PosixPath('/mnt/ceph/storage/data-in-progress/data-research/web-search/web-archive-query-log/focused')"
      ]
     },
     "execution_count": 64,
     "metadata": {},
     "output_type": "execute_result"
    }
   ],
   "source": [
    "data_dir = global_data_dir / \"focused\"\n",
    "data_dir"
   ]
  },
  {
   "cell_type": "code",
   "execution_count": 56,
   "id": "4f376fdf-792d-4df0-afc2-8302b39dd44f",
   "metadata": {},
   "outputs": [
    {
     "data": {
      "text/plain": [
       "59403"
      ]
     },
     "execution_count": 56,
     "metadata": {},
     "output_type": "execute_result"
    }
   ],
   "source": [
    "relative_paths = [\n",
    "    path.relative_to(data_dir / \"archived-urls\").with_name(path.name[:-len(\".jsonl.gz\")])\n",
    "    for path in data_dir.glob(\"archived-urls/*/*/*.jsonl.gz\")\n",
    "]\n",
    "len(relative_paths)"
   ]
  },
  {
   "cell_type": "code",
   "execution_count": 117,
   "id": "e3852e31-88e1-49de-891e-82976b1dec96",
   "metadata": {},
   "outputs": [],
   "source": [
    "def process_snippet(\n",
    "    archived_search_result_snippet_index: dict,\n",
    "    archived_raw_search_result_index: dict,\n",
    "    archived_parsed_search_result_index: dict,\n",
    "    archived_search_result_snippet: dict,\n",
    "    archived_search_result_snippet_id: UUID,\n",
    ") -> dict:\n",
    "    print(f\"Process archived search result snippet ID {archived_search_result_snippet_id}.\")\n",
    "    archived_search_result_snippet_location = archived_search_result_snippet_index.get(archived_search_result_snippet_id)\n",
    "    archived_raw_search_result_location = archived_raw_search_result_index.get(archived_search_result_snippet_id)\n",
    "    archived_parsed_search_result_location = archived_parsed_search_result_index.get(archived_search_result_snippet_id)\n",
    "    \n",
    "    if archived_search_result_snippet_location is not None:\n",
    "        with GzipFile(archived_search_result_snippet_location[0], \"rb\") as gzip_file:\n",
    "            gzip_file.seek(archived_search_result_snippet_location[1])\n",
    "            with TextIOWrapper(gzip_file) as text_file:\n",
    "                line = text_file.readline()\n",
    "                archived_search_result_snippet = loads(line)\n",
    "    else:\n",
    "        print(f\"Could not find archived search result snippet ID {archived_search_result_snippet_id}.\")\n",
    "        return None\n",
    "    \n",
    "    wayback_timestamp = datetime.fromtimestamp(archived_search_result_snippet[\"timestamp\"]).strftime(\"%Y%m%d%H%M%S\")\n",
    "    wayback_url = f\"https://web.archive.org/web/{wayback_timestamp}/{archived_search_result_snippet['url']}\"\n",
    "    wayback_raw_url = f\"https://web.archive.org/web/{wayback_timestamp}id_/{archived_search_result_snippet['url']}\"\n",
    "    \n",
    "    document = {\n",
    "        \"id\": str(archived_search_result_snippet_id),\n",
    "        \"url\": archived_search_result_snippet[\"url\"],\n",
    "        \"timestamp\": archived_search_result_snippet[\"timestamp\"],\n",
    "        \"wayback_url\": wayback_url,\n",
    "        \"wayback_raw_url\": wayback_raw_url,\n",
    "        \"snippet_rank\": archived_search_result_snippet[\"rank\"],\n",
    "        \"snippet_title\": archived_search_result_snippet[\"title\"],\n",
    "        \"snippet_text\": archived_search_result_snippet[\"snippet\"],\n",
    "        \"archived_snippet_location\": {\n",
    "            \"relative_path\": str(archived_search_result_snippet_location[0].relative_to(global_data_dir)),\n",
    "            \"byte_offset\": archived_search_result_snippet_location[1],\n",
    "            \"index\": archived_search_result_snippet_location[2],\n",
    "        } if archived_search_result_snippet_location is not None else None,\n",
    "        \"archived_raw_search_result_location\": {\n",
    "            \"relative_path\": str(archived_raw_search_result_location[0].relative_to(global_data_dir)),\n",
    "            \"byte_offset\": archived_raw_search_result_location[1],\n",
    "        } if archived_raw_search_result_location is not None else None,\n",
    "        \"archived_parsed_search_result_location\": {\n",
    "            \"relative_path\": str(archived_parsed_search_result_location[0].relative_to(global_data_dir)),\n",
    "            \"byte_offset\": archived_parsed_search_result_location[1],\n",
    "        } if archived_parsed_search_result_location is not None else None,\n",
    "    }\n",
    "    print(f\"Finished processing archived search result snippet ID {archived_search_result_snippet_id}.\")\n",
    "    return document"
   ]
  },
  {
   "cell_type": "code",
   "execution_count": 118,
   "id": "7b50fe82-53a8-4f1f-abe2-5810e0e51476",
   "metadata": {},
   "outputs": [],
   "source": [
    "def process_url(\n",
    "    service: str,\n",
    "    archived_urls_index: dict,\n",
    "    archived_query_urls_index: dict,\n",
    "    archived_raw_serps_index: dict,\n",
    "    archived_parsed_serps_index: dict,\n",
    "    archived_search_result_snippet_index: dict,\n",
    "    archived_raw_search_result_index: dict,\n",
    "    archived_parsed_search_result_index: dict,\n",
    "    archived_url_id: UUID,\n",
    ") -> dict:\n",
    "    print(f\"Process archived URL ID {archived_url_id}.\")\n",
    "    \n",
    "    archived_url_location = archived_urls_index.get(archived_url_id)\n",
    "    archived_query_url_location = archived_query_urls_index.get(archived_url_id)\n",
    "    archived_raw_serp_location = archived_raw_serps_index.get(archived_url_id)\n",
    "    archived_parsed_serp_location = archived_parsed_serps_index.get(archived_url_id)\n",
    "    \n",
    "    if archived_url_location is not None:\n",
    "        with GzipFile(archived_url_location[0], \"rb\") as gzip_file:\n",
    "            gzip_file.seek(archived_url_location[1])\n",
    "            with TextIOWrapper(gzip_file) as text_file:\n",
    "                line = text_file.readline()\n",
    "                archived_url = loads(line)\n",
    "    else:\n",
    "        print(f\"Could not find archived URL ID {archived_url_id}.\")\n",
    "        return None\n",
    "    if archived_query_url_location is not None:\n",
    "        with GzipFile(archived_query_url_location[0], \"rb\") as gzip_file:\n",
    "            gzip_file.seek(archived_query_url_location[1])\n",
    "            with TextIOWrapper(gzip_file) as text_file:\n",
    "                line = text_file.readline()\n",
    "                archived_query_url = loads(line)\n",
    "    else:\n",
    "        archived_query_url = None\n",
    "    if archived_parsed_serp_location is not None:\n",
    "        with GzipFile(archived_parsed_serp_location[0], \"rb\") as gzip_file:\n",
    "            gzip_file.seek(archived_parsed_serp_location[1])\n",
    "            with TextIOWrapper(gzip_file) as text_file:\n",
    "                line = text_file.readline()\n",
    "                archived_parsed_serp = loads(line)\n",
    "    else:\n",
    "        archived_parsed_serp = None\n",
    "            \n",
    "    wayback_timestamp = datetime.fromtimestamp(archived_url[\"timestamp\"]).strftime(\"%Y%m%d%H%M%S\")\n",
    "    wayback_url = f\"https://web.archive.org/web/{wayback_timestamp}/{archived_url['url']}\"\n",
    "    wayback_raw_url = f\"https://web.archive.org/web/{wayback_timestamp}id_/{archived_url['url']}\"\n",
    "    \n",
    "    partial_documents = [\n",
    "        process_snippet(\n",
    "            archived_search_result_snippet_index,\n",
    "            archived_raw_search_result_index,\n",
    "            archived_parsed_search_result_index,\n",
    "            archived_search_result_snippet,\n",
    "        )\n",
    "        for archived_search_result_snippet in archived_parsed_serp[\"results\"]\n",
    "    ] if archived_parsed_serp is not None else None\n",
    "    \n",
    "    partial_query = {\n",
    "        \"id\": str(archived_url_id),\n",
    "        \"url\": archived_url[\"url\"],\n",
    "        \"timestamp\": archived_url[\"timestamp\"],\n",
    "        \"wayback_url\": wayback_url,\n",
    "        \"wayback_raw_url\": wayback_raw_url,\n",
    "        \"url_query\": archived_query_url[\"query\"] if archived_query_url is not None else None,\n",
    "        \"url_page\": archived_query_url[\"page\"] if archived_query_url is not None else None,\n",
    "        \"url_offset\": archived_query_url[\"offset\"] if archived_query_url is not None else None,\n",
    "        \"serp_query\": archived_parsed_serp[\"interpreted_query\"] if archived_parsed_serp is not None else None,\n",
    "        \"archived_url_location\":{\n",
    "            \"relative_path\": str(archived_url_location[0].relative_to(global_data_dir)),\n",
    "            \"byte_offset\": archived_url_location[1],\n",
    "        },\n",
    "        \"archived_query_url_location\":{\n",
    "            \"relative_path\": str(archived_query_url_location[0].relative_to(global_data_dir)),\n",
    "            \"byte_offset\": archived_query_url_location[1],\n",
    "        } if archived_query_url_location is not None else None,\n",
    "        \"archived_raw_serp_location\":{\n",
    "            \"relative_path\": str(archived_raw_serp_location[0].relative_to(global_data_dir)),\n",
    "            \"byte_offset\": archived_raw_serp_location[1],\n",
    "        } if archived_raw_serp_location is not None else None,\n",
    "        \"archived_parsed_serp_location\":{\n",
    "            \"relative_path\": str(archived_parsed_serp_location[0].relative_to(global_data_dir)),\n",
    "            \"byte_offset\": archived_parsed_serp_location[1],\n",
    "        } if archived_parsed_serp_location is not None else None,\n",
    "    }\n",
    "    \n",
    "    query = {\n",
    "        **partial_query,\n",
    "        \"service\": service,\n",
    "        \"results\": partial_documents,\n",
    "    }\n",
    "    documents = [\n",
    "        {\n",
    "            **partial_document,\n",
    "            \"service\": service,\n",
    "            \"query\": partial_query,\n",
    "        }\n",
    "        for partial_document in partial_documents\n",
    "    ] if partial_documents is not None else None\n",
    "    print(f\"Finished processing archived URL ID {archived_url_id}.\")\n",
    "    return query, documents"
   ]
  },
  {
   "cell_type": "code",
   "execution_count": 119,
   "id": "65a791f3-4d26-437b-a1ca-d1bef0151fad",
   "metadata": {},
   "outputs": [],
   "source": [
    "def process_relative_path(path: Path):\n",
    "    print(f\"Process relative path {path}.\")\n",
    "    \n",
    "    service = path.parts[0]\n",
    "    \n",
    "    archived_urls_index_path = data_dir / \"archived-urls\" / path.with_suffix(\".index\")\n",
    "    archived_query_urls_index_path = data_dir / \"archived-query-urls\" / path.with_suffix(\".index\")\n",
    "    archived_raw_serps_index_path = data_dir / \"archived-raw-serps\" / path / \".index\"\n",
    "    archived_parsed_serps_index_path = data_dir / \"archived-parsed-serps\" / path.with_suffix(\".index\")\n",
    "    archived_search_result_snippets_index_path = data_dir / \"archived-parsed-serps\" / path.with_suffix(\".snippets.index\")\n",
    "    archived_raw_search_results_index_path = data_dir / \"archived-raw-search-results\" / path / \".index\"\n",
    "    archived_parsed_search_results_index_path = data_dir / \"archived-parsed-search-results\" / path.with_suffix(\".index\")\n",
    "    \n",
    "    if archived_urls_index_path.exists():\n",
    "        with archived_urls_index_path.open(\"rt\") as index_file:\n",
    "            archived_urls_index = {\n",
    "                UUID(row[0]): (\n",
    "                    global_data_dir / row[1],\n",
    "                    int(row[2]),\n",
    "                )\n",
    "                for row in reader(index_file)\n",
    "            }\n",
    "    else:\n",
    "        archived_urls_index = {}\n",
    "    if archived_query_urls_index_path.exists():\n",
    "        with archived_query_urls_index_path.open(\"rt\") as index_file:\n",
    "            archived_query_urls_index = {\n",
    "                UUID(row[0]): (\n",
    "                    global_data_dir / row[1],\n",
    "                    int(row[2]),\n",
    "                )\n",
    "                for row in reader(index_file)\n",
    "            }\n",
    "    else:\n",
    "        archived_query_urls_index = {}\n",
    "    if archived_raw_serps_index_path.exists():\n",
    "        with archived_raw_serps_index_path.open(\"rt\") as index_file:\n",
    "            archived_raw_serps_index = {\n",
    "                UUID(row[0]): (\n",
    "                    global_data_dir / row[1],\n",
    "                    int(row[2]),\n",
    "                )\n",
    "                for row in reader(index_file)\n",
    "            }\n",
    "    else:\n",
    "        archived_raw_serps_index = {}\n",
    "    if archived_parsed_serps_index_path.exists():\n",
    "        with archived_parsed_serps_index_path.open(\"rt\") as index_file:\n",
    "            archived_parsed_serps_index = {\n",
    "                UUID(row[0]): (\n",
    "                    global_data_dir / row[1],\n",
    "                    int(row[2]),\n",
    "                )\n",
    "                for row in reader(index_file)\n",
    "            }\n",
    "    else:\n",
    "        archived_parsed_serps_index = {}\n",
    "    if archived_search_result_snippets_index_path.exists():\n",
    "        with archived_search_result_snippets_index_path.open(\"rt\") as index_file:\n",
    "            archived_search_result_snippets_index = {\n",
    "                UUID(row[0]): (\n",
    "                    global_data_dir / row[1],\n",
    "                    int(row[2]),\n",
    "                    int(row[3]),\n",
    "                )\n",
    "                for row in reader(index_file)\n",
    "            }\n",
    "    else:\n",
    "        archived_search_result_snippets_index = {}\n",
    "    if archived_raw_search_results_index_path.exists():\n",
    "        with archived_raw_search_results_index_path.open(\"rt\") as index_file:\n",
    "            archived_raw_search_results_index = {\n",
    "                UUID(row[0]): (\n",
    "                    global_data_dir / row[1], \n",
    "                    int(row[2]),\n",
    "                )\n",
    "                for row in reader(index_file)\n",
    "            }\n",
    "    else:\n",
    "        archived_raw_search_results_index = {}\n",
    "    if archived_parsed_search_results_index_path.exists():\n",
    "        with archived_parsed_search_results_index_path.open(\"rt\") as index_file:\n",
    "            archived_parsed_search_results_index = {\n",
    "                UUID(row[0]): (\n",
    "                    global_data_dir / row[1],\n",
    "                    int(row[2]),\n",
    "                )\n",
    "                for row in reader(index_file)\n",
    "            }\n",
    "    else:\n",
    "        archived_parsed_search_results_index = {}\n",
    "        \n",
    "    archived_ids = archived_parsed_serps_index.keys()\n",
    "    corpus = [\n",
    "        process_url(\n",
    "            service, \n",
    "            archived_urls_index,\n",
    "            archived_query_urls_index,\n",
    "            archived_raw_serps_index,\n",
    "            archived_parsed_serps_index,\n",
    "            archived_search_result_snippets_index,\n",
    "            archived_raw_search_results_index,\n",
    "            archived_parsed_search_results_index,\n",
    "            archived_id,\n",
    "        )\n",
    "        for archived_id in archived_ids\n",
    "    ]\n",
    "    corpus_queries = [\n",
    "        corpus_query\n",
    "        for corpus_query, _ in corpus\n",
    "    ]\n",
    "    corpus_documents = [\n",
    "        corpus_document\n",
    "        for _, corpus_query_documents in corpus\n",
    "        for corpus_document in (\n",
    "            corpus_query_documents if corpus_query_documents is not None else []\n",
    "        )\n",
    "    ]\n",
    "    print(f\"Finished processing relative path {path}.\")\n",
    "    return corpus_queries, corpus_documents"
   ]
  },
  {
   "cell_type": "code",
   "execution_count": 120,
   "id": "f6639db3-c6c3-4e39-8d3c-cb8ffade41ba",
   "metadata": {},
   "outputs": [],
   "source": [
    "def process_relative_path_queries(path: Path):\n",
    "    print(f\"Process corpus queries for path {path}.\")\n",
    "    corpus_queries, _ = process_relative_path(path)\n",
    "    yield from corpus_queries\n",
    "    print(f\"Finished processing corpus queries for path {path}.\")"
   ]
  },
  {
   "cell_type": "code",
   "execution_count": 121,
   "id": "7cc48cb9-b9b0-406a-a3d3-acbe927a3dbe",
   "metadata": {},
   "outputs": [],
   "source": [
    "def process_relative_path_documents(path: Path):\n",
    "    print(f\"Process corpus documents for path {path}.\")\n",
    "    _, corpus_documents = process_relative_path(path)\n",
    "    yield from corpus_documents\n",
    "    print(f\"Finished processing corpus documents for path {path}.\")"
   ]
  },
  {
   "cell_type": "code",
   "execution_count": 122,
   "id": "666b7d73-7f74-4288-b0fe-bc22621fbc82",
   "metadata": {},
   "outputs": [
    {
     "name": "stdout",
     "output_type": "stream",
     "text": [
      "Found 3 items\n",
      "drwxr-xr-x   - ajjxp ajjxp          0 2023-02-06 15:29 .sparkStaging\n",
      "drwxr-xr-x   - ajjxp ajjxp          0 2022-08-22 20:34 ccqa\n",
      "drwxr-xr-x   - ajjxp ajjxp          0 2023-02-06 20:30 web-archive-query-log\n"
     ]
    }
   ],
   "source": [
    "!hdfs dfs -ls"
   ]
  },
  {
   "cell_type": "code",
   "execution_count": 131,
   "id": "dbe41453-43fc-4e48-a297-942a6ff044f1",
   "metadata": {},
   "outputs": [
    {
     "name": "stdout",
     "output_type": "stream",
     "text": [
      "Deleted web-archive-query-log\n"
     ]
    }
   ],
   "source": [
    "!hdfs dfs -rm -r web-archive-query-log"
   ]
  },
  {
   "cell_type": "code",
   "execution_count": null,
   "id": "7cb402be-8b5d-4706-80eb-823907f6e0d0",
   "metadata": {},
   "outputs": [],
   "source": [
    "rdd = sc.parallelize(relative_paths)\n",
    "rdd = rdd.flatMap(process_relative_path_queries)\n",
    "rdd.repartition(100).saveAsTextFile(\"web-archive-query-log/queries/\", compressionCodecClass='org.apache.hadoop.io.compress.GzipCodec')"
   ]
  },
  {
   "cell_type": "code",
   "execution_count": null,
   "id": "b5f81b6d-03af-4825-b9bf-764febf7725d",
   "metadata": {},
   "outputs": [],
   "source": [
    "rdd = sc.parallelize(relative_paths)\n",
    "rdd = rdd.flatMap(process_relative_path_documents)\n",
    "rdd.repartition(100).saveAsTextFile(\"web-archive-query-log/documents/\", compressionCodecClass='org.apache.hadoop.io.compress.GzipCodec')"
   ]
  }
 ],
 "metadata": {
  "kernelspec": {
   "display_name": "Python 3",
   "language": "python",
   "name": "python3"
  },
  "language_info": {
   "codemirror_mode": {
    "name": "ipython",
    "version": 3
   },
   "file_extension": ".py",
   "mimetype": "text/x-python",
   "name": "python",
   "nbconvert_exporter": "python",
   "pygments_lexer": "ipython3",
   "version": "3.8.13"
  }
 },
 "nbformat": 4,
 "nbformat_minor": 5
}
