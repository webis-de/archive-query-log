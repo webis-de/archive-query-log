{
 "cells": [
  {
   "cell_type": "markdown",
   "id": "46e51f67-0b65-4e1d-ad55-e87da6c0195d",
   "metadata": {},
   "source": [
    "# Find pornographic queries in non-pornographic services\n",
    "This notebook uses the metric nTIC proposed by Suronov et al. (http://www.isa.ru/arxiv/2013/2013_SPECOM.pdf) to evaluate whether a query is likely to be pornographic"
   ]
  },
  {
   "cell_type": "markdown",
   "id": "b0d5b578-ff22-4528-82d8-952de5cfe40c",
   "metadata": {},
   "source": [
    "## Preparation"
   ]
  },
  {
   "cell_type": "code",
   "execution_count": 54,
   "id": "a31f6474-e5c9-47a6-b660-dd77ab9857ed",
   "metadata": {},
   "outputs": [],
   "source": [
    "# TODO: Find different source for non-sexual queries. Using the queries from non-pornographic services likely leads to bias as they contain porn queries themselves\n",
    "\n",
    "from os import environ\n",
    "import pandas as pd\n",
    "import math\n",
    "from pathlib import Path\n",
    "from json import loads\n",
    "import numpy as np"
   ]
  },
  {
   "cell_type": "code",
   "execution_count": 4,
   "id": "514a15fc-6a47-4124-abfc-ea814981db13",
   "metadata": {},
   "outputs": [
    {
     "name": "stderr",
     "output_type": "stream",
     "text": [
      "WARNING:root:'PYARROW_IGNORE_TIMEZONE' environment variable was not set. It is required to set this environment variable to '1' in both driver and executor sides if you use pyarrow>=2.0.0. pandas-on-Spark will set it for you but it does not work if there is a Spark context already launched.\n"
     ]
    }
   ],
   "source": [
    "from pyspark.sql import SparkSession\n",
    "\n",
    "environ[\n",
    "    'PYSPARK_PYTHON'] = \"/mnt/ceph/storage/data-in-progress/data-research/web-search/web-archive-query-log/venv/bin/python\"\n",
    "session = SparkSession.builder \\\n",
    "    .master(\"yarn\") \\\n",
    "    .appName(\"pornographic_queries\") \\\n",
    "    .config(\"spark.executor.instances\", 3) \\\n",
    "    .getOrCreate()"
   ]
  },
  {
   "cell_type": "code",
   "execution_count": 5,
   "id": "825af897-f70d-4534-a54f-93953e1c6e56",
   "metadata": {},
   "outputs": [
    {
     "data": {
      "text/html": [
       "\n",
       "        <div>\n",
       "            <p><b>SparkContext</b></p>\n",
       "\n",
       "            <p><a href=\"http://10.23.202.78:4040\">Spark UI</a></p>\n",
       "\n",
       "            <dl>\n",
       "              <dt>Version</dt>\n",
       "                <dd><code>v3.2.1</code></dd>\n",
       "              <dt>Master</dt>\n",
       "                <dd><code>yarn</code></dd>\n",
       "              <dt>AppName</dt>\n",
       "                <dd><code>pornographic_queries</code></dd>\n",
       "            </dl>\n",
       "        </div>\n",
       "        "
      ],
      "text/plain": [
       "<SparkContext master=yarn appName=pornographic_queries>"
      ]
     },
     "execution_count": 5,
     "metadata": {},
     "output_type": "execute_result"
    }
   ],
   "source": [
    "sc = session.sparkContext\n",
    "sc"
   ]
  },
  {
   "cell_type": "code",
   "execution_count": 6,
   "id": "f66dd3be-f8b3-4997-af7b-60d8d1e8a1e7",
   "metadata": {},
   "outputs": [
    {
     "data": {
      "text/plain": [
       "PosixPath('/mnt/ceph/storage/data-in-progress/data-research/web-search/web-archive-query-log/focused/sample-corpus/queries-2023-02-16')"
      ]
     },
     "execution_count": 6,
     "metadata": {},
     "output_type": "execute_result"
    }
   ],
   "source": [
    "# TODO: For final evaluation, use the full corpus.\n",
    "# corpus_dir = Path(\"/mnt/ceph/storage/data-in-progress/data-research/web-search/web-archive-query-log/focused/corpus\")\n",
    "# queries_dir = corpus_dir / \"queries-2023-02-14\"\n",
    "corpus_dir = Path(\n",
    "    \"/mnt/ceph/storage/data-in-progress/data-research/web-search/web-archive-query-log/focused/sample-corpus\")\n",
    "queries_dir = corpus_dir / \"queries-2023-02-16\"\n",
    "queries_dir"
   ]
  },
  {
   "cell_type": "code",
   "execution_count": 7,
   "id": "537d44a0-f754-4507-8b9a-c0dd1353cf89",
   "metadata": {},
   "outputs": [],
   "source": [
    "figures_dir = Path(\"figures\")\n",
    "figures_dir.mkdir(parents=True, exist_ok=True)"
   ]
  },
  {
   "cell_type": "markdown",
   "id": "bbdddff6-5552-4772-af74-13a8b2352f38",
   "metadata": {},
   "source": [
    "## Load and prepare queries"
   ]
  },
  {
   "cell_type": "code",
   "execution_count": 8,
   "id": "638719ae-4a7f-44ec-888b-e40814f3169e",
   "metadata": {},
   "outputs": [],
   "source": [
    "def adapt_query(query: dict) -> tuple:\n",
    "    query_text = query[\"url_query\"].lower()\n",
    "    query_text = query_text.replace('+', ' ').replace('-', ' ').replace('|', ' ').replace('_', ' ')\n",
    "    query_text = query_text.replace('[^\\w\\s]','')\n",
    "    return query[\"service\"],   query[\"language\"], query_text"
   ]
  },
  {
   "cell_type": "code",
   "execution_count": 9,
   "id": "e2f31174-5832-4045-96bc-f159f5d9f363",
   "metadata": {},
   "outputs": [],
   "source": [
    "# Get all queries to construct a  set of query terms\n",
    "queries = sc.textFile(f\"file://{queries_dir}\") \\\n",
    "    .map(lambda line: loads(line)) \\\n",
    "    .filter(lambda query: query[\"url_query\"] is not None) \\\n",
    "    .keyBy(lambda query: query[\"id\"]) \\\n",
    "    .mapValues(adapt_query) \\\n",
    "    .countByValue()"
   ]
  },
  {
   "cell_type": "code",
   "execution_count": 10,
   "id": "627a5bb3-7639-4e39-9b5b-d671dbe8ccd5",
   "metadata": {},
   "outputs": [],
   "source": [
    "df = pd.DataFrame([\n",
    "    {\n",
    "        \"service\": service,\n",
    "        \"language\": language,\n",
    "        \"query\": query,\n",
    "    }\n",
    "    for (_, (service, language, query)), _ in queries.items()\n",
    "])"
   ]
  },
  {
   "cell_type": "code",
   "execution_count": 12,
   "id": "c7f56fde-aac5-4e45-8dbc-66ab9ffb3819",
   "metadata": {},
   "outputs": [],
   "source": [
    "import yaml\n",
    "yaml_path = \"../data/selected-services.yaml\"\n",
    "with open(yaml_path, \"r\") as file:\n",
    "    yaml_list = yaml.safe_load(file)\n",
    "    \n",
    "porn_services = [elem[\"name\"] for elem in yaml_list if elem[\"category\"] == \"pornography\"]"
   ]
  },
  {
   "cell_type": "code",
   "execution_count": 67,
   "id": "fae63770-e7e4-4b29-844c-11602f74e50c",
   "metadata": {},
   "outputs": [],
   "source": [
    "# Creating a dataframes of queries from pornographic/other services\n",
    "df_porn = df.loc[df[\"service\"].isin(porn_services)]\n",
    "df_porn = df_porn.loc[df_porn[\"service\"] != \"livejasmin\"]\n",
    "df_porn = df_porn.loc[df_porn[\"query\"] != \"\"]\n",
    "\n",
    "df_non_porn = df.loc[~df[\"service\"].isin(porn_services)]\n",
    "df_non_porn = df_non_porn.loc[df_non_porn[\"query\"] != \"\"]"
   ]
  },
  {
   "cell_type": "markdown",
   "id": "e9f284f1-f2fd-419e-b076-074d11ddb7a2",
   "metadata": {},
   "source": [
    "## Calculate TIC values for queries from non-pornographic services\n",
    "- Generate a set of terms in all queries\n",
    "- Calculate IDF-values for each term and a corpus of (non-)pornographic queries\n",
    "- Caclulate nTIC values for all non-pornographic queries (Higher values indicates higher similarity to pornographic queries)"
   ]
  },
  {
   "cell_type": "markdown",
   "id": "97011e23-7e60-4998-a662-9b25859fed58",
   "metadata": {},
   "source": [
    "### Set of terms"
   ]
  },
  {
   "cell_type": "code",
   "execution_count": 14,
   "id": "c539ebc6-921f-4eac-812a-c1cb32916447",
   "metadata": {},
   "outputs": [],
   "source": [
    "def get_term_set(df: pd.DataFrame):\n",
    "    query_lists = [str(query).split() for query in list(df[\"query\"])]\n",
    "    query_terms = [term for query_list in query_lists for term in query_list]\n",
    "    return set(query_terms)"
   ]
  },
  {
   "cell_type": "code",
   "execution_count": 68,
   "id": "4a0e51e9-ea23-4280-82e9-cbdfcab2b5d0",
   "metadata": {},
   "outputs": [],
   "source": [
    "def count_queries_with_term(query_lst, term):\n",
    "    count = 0\n",
    "    for query in query_lst:\n",
    "        if term in query:\n",
    "            count += 1\n",
    "    return count\n",
    "\n",
    "# Get all queries from both df's\n",
    "query_lst_porn = list(df_porn[\"query\"])\n",
    "query_lst_non_porn = list(df_non_porn[\"query\"])\n",
    "\n",
    "# Get all unique terms used in both dataframes\n",
    "term_set = get_term_set(df_porn).union(get_term_set(df_non_porn))\n",
    "term_rdd = sc.parallelize(list(term_set))"
   ]
  },
  {
   "cell_type": "markdown",
   "id": "ac13411d-bb58-4dd1-abe7-5f32c75d6763",
   "metadata": {},
   "source": [
    "### IDF values"
   ]
  },
  {
   "cell_type": "code",
   "execution_count": 69,
   "id": "58f75803-1bc1-4b3c-8e65-2984d75fe8a2",
   "metadata": {},
   "outputs": [],
   "source": [
    "# For each term, count how often it occurs in the two query lists\n",
    "counts_rdd_porn = term_rdd.map(lambda term: (term, count_queries_with_term(query_lst_porn, term), len(query_lst_porn)))\n",
    "counts_rdd_non_porn = term_rdd.map(lambda term: (term, count_queries_with_term(query_lst_non_porn, term), len(query_lst_porn)))"
   ]
  },
  {
   "cell_type": "code",
   "execution_count": 70,
   "id": "67305961-e931-4e6c-b39e-9bd4383910e3",
   "metadata": {},
   "outputs": [],
   "source": [
    "# Calculate the IDF values based on the count results\n",
    "idf_porn_rdd = counts_rdd_porn.map(lambda x: (x[0], math.log(x[2]/(x[1]+1), x[2])))\n",
    "idf_non_porn_rdd = counts_rdd_non_porn.map(lambda x: (x[0], math.log(x[2]/(x[1]+1), x[2])))"
   ]
  },
  {
   "cell_type": "code",
   "execution_count": 71,
   "id": "172967ac-d8ff-4c9e-81c8-e784c482bac7",
   "metadata": {},
   "outputs": [],
   "source": [
    "idf_porn = {x[0]:x[1] for x in idf_porn_rdd.collect()}\n",
    "idf_non_porn = {x[0]:x[1] for x in idf_non_porn_rdd.collect()}"
   ]
  },
  {
   "cell_type": "markdown",
   "id": "40920f91-a001-4fdb-bf14-1b8beb70d5fa",
   "metadata": {},
   "source": [
    "### nTIC values"
   ]
  },
  {
   "cell_type": "code",
   "execution_count": 60,
   "id": "110e60ed-fd0d-4862-8184-835d78f99af6",
   "metadata": {},
   "outputs": [],
   "source": [
    "def ltf(term: str, query: str):\n",
    "    # Create a space split array and a weighting array\n",
    "    query_arr = np.array(str(query).split())\n",
    "    weight_arr = np.array([1/np.log(x+2) for x in range(query_arr.shape[0])])\n",
    "    # Get positional weights for each occurrence of the term in the query\n",
    "    matched = np.where(query_arr==term, weight_arr, np.zeros_like(weight_arr))\n",
    "    # Return lTF value\n",
    "    return math.log(1 + np.sum(matched), 1 + np.sum(weight_arr))\n",
    "\n",
    "def ltf_idf(term: str, query: str, idf_dict: dict):\n",
    "    return ltf(term=term, query=query)*idf_dict[term]\n",
    "\n",
    "def term_TIC(term: str, query: str, idf_porn: dict, idf_non_porn: dict):\n",
    "    delta_info = idf_non_porn[term] - idf_porn[term]\n",
    "    delta_info_pos = np.heaviside(delta_info, 0) * delta_info\n",
    "    return ltf(term=term, query=query)*delta_info_pos\n",
    "\n",
    "def nTIC(query: str, idf_porn: dict, idf_non_porn: dict):\n",
    "    tic = 0\n",
    "    query_info = 0\n",
    "    for term in str(query).split():\n",
    "        tic += term_TIC(term=term, query=query, idf_porn=idf_porn, idf_non_porn=idf_non_porn)\n",
    "        query_info += ltf_idf(term=term, query=query, idf_dict=idf_non_porn)\n",
    "    try:\n",
    "        nTIC = tic/query_info\n",
    "    except:\n",
    "        nTIC = 0\n",
    "    return nTIC"
   ]
  },
  {
   "cell_type": "code",
   "execution_count": 94,
   "id": "d4732cb8-6285-4746-815c-85f194b323ee",
   "metadata": {},
   "outputs": [],
   "source": [
    "non_porn_rdd = sc.parallelize(df_non_porn.to_dict(\"records\"))\n",
    "nTIC_rdd = non_porn_rdd.map(lambda row: {**row, **{\"nTIC\": nTIC(row[\"query\"], idf_porn, idf_non_porn)}})"
   ]
  },
  {
   "cell_type": "code",
   "execution_count": 101,
   "id": "f9b6ef90-f7f5-4db4-99df-7b6a3346de54",
   "metadata": {},
   "outputs": [],
   "source": [
    "df_ntic = pd.DataFrame(nTIC_rdd.collect())"
   ]
  },
  {
   "cell_type": "code",
   "execution_count": 107,
   "id": "9a611a59-6e2d-4cf3-a3e3-50f5fd118589",
   "metadata": {},
   "outputs": [],
   "source": [
    "df_ntic.sort_values(\"nTIC\", ascending=False, inplace=True)"
   ]
  },
  {
   "cell_type": "markdown",
   "id": "6e5933cc-2b73-4332-81e2-721b7657f767",
   "metadata": {},
   "source": [
    "## Analysis"
   ]
  },
  {
   "cell_type": "code",
   "execution_count": 109,
   "id": "215c3809-904b-481b-acdb-dcbc43f01af2",
   "metadata": {},
   "outputs": [],
   "source": [
    "rel = df_ntic.loc[df_ntic[\"nTIC\"]>0.07]"
   ]
  },
  {
   "cell_type": "code",
   "execution_count": 112,
   "id": "d5935c8a-0164-446a-bdf7-45bf3bb2dc7b",
   "metadata": {},
   "outputs": [
    {
     "data": {
      "text/html": [
       "<div>\n",
       "<style scoped>\n",
       "    .dataframe tbody tr th:only-of-type {\n",
       "        vertical-align: middle;\n",
       "    }\n",
       "\n",
       "    .dataframe tbody tr th {\n",
       "        vertical-align: top;\n",
       "    }\n",
       "\n",
       "    .dataframe thead th {\n",
       "        text-align: right;\n",
       "    }\n",
       "</style>\n",
       "<table border=\"1\" class=\"dataframe\">\n",
       "  <thead>\n",
       "    <tr style=\"text-align: right;\">\n",
       "      <th></th>\n",
       "      <th>service</th>\n",
       "      <th>language</th>\n",
       "      <th>query</th>\n",
       "      <th>nTIC</th>\n",
       "    </tr>\n",
       "  </thead>\n",
       "  <tbody>\n",
       "    <tr>\n",
       "      <th>148070</th>\n",
       "      <td>yahoo</td>\n",
       "      <td>fr</td>\n",
       "      <td>amateur sex porn</td>\n",
       "      <td>0.273191</td>\n",
       "    </tr>\n",
       "    <tr>\n",
       "      <th>77994</th>\n",
       "      <td>google</td>\n",
       "      <td>None</td>\n",
       "      <td>hardcore animal sex,dog porn</td>\n",
       "      <td>0.101485</td>\n",
       "    </tr>\n",
       "    <tr>\n",
       "      <th>103272</th>\n",
       "      <td>bing</td>\n",
       "      <td>en</td>\n",
       "      <td>bisexual, gay, and lesbian association</td>\n",
       "      <td>0.070101</td>\n",
       "    </tr>\n",
       "    <tr>\n",
       "      <th>59333</th>\n",
       "      <td>yahoo</td>\n",
       "      <td>None</td>\n",
       "      <td>asian phone sex</td>\n",
       "      <td>0.059598</td>\n",
       "    </tr>\n",
       "    <tr>\n",
       "      <th>59338</th>\n",
       "      <td>yahoo</td>\n",
       "      <td>en</td>\n",
       "      <td>asian anal sex gallery</td>\n",
       "      <td>0.045571</td>\n",
       "    </tr>\n",
       "    <tr>\n",
       "      <th>...</th>\n",
       "      <td>...</td>\n",
       "      <td>...</td>\n",
       "      <td>...</td>\n",
       "      <td>...</td>\n",
       "    </tr>\n",
       "    <tr>\n",
       "      <th>148384</th>\n",
       "      <td>wikimedia</td>\n",
       "      <td>en</td>\n",
       "      <td>sexuality</td>\n",
       "      <td>0.000000</td>\n",
       "    </tr>\n",
       "    <tr>\n",
       "      <th>148444</th>\n",
       "      <td>all-free-download</td>\n",
       "      <td>None</td>\n",
       "      <td>sexy</td>\n",
       "      <td>0.000000</td>\n",
       "    </tr>\n",
       "    <tr>\n",
       "      <th>150232</th>\n",
       "      <td>bing</td>\n",
       "      <td>en</td>\n",
       "      <td>only sexi grannies in gonjog</td>\n",
       "      <td>0.000000</td>\n",
       "    </tr>\n",
       "    <tr>\n",
       "      <th>151249</th>\n",
       "      <td>yahoo</td>\n",
       "      <td>lb</td>\n",
       "      <td>women sex</td>\n",
       "      <td>0.000000</td>\n",
       "    </tr>\n",
       "    <tr>\n",
       "      <th>152801</th>\n",
       "      <td>naver</td>\n",
       "      <td>fy</td>\n",
       "      <td>www.sex host.net</td>\n",
       "      <td>0.000000</td>\n",
       "    </tr>\n",
       "  </tbody>\n",
       "</table>\n",
       "<p>210 rows × 4 columns</p>\n",
       "</div>"
      ],
      "text/plain": [
       "                  service language                                   query  \\\n",
       "148070              yahoo       fr                        amateur sex porn   \n",
       "77994              google     None            hardcore animal sex,dog porn   \n",
       "103272               bing       en  bisexual, gay, and lesbian association   \n",
       "59333               yahoo     None                         asian phone sex   \n",
       "59338               yahoo       en                  asian anal sex gallery   \n",
       "...                   ...      ...                                     ...   \n",
       "148384          wikimedia       en                               sexuality   \n",
       "148444  all-free-download     None                                    sexy   \n",
       "150232               bing       en            only sexi grannies in gonjog   \n",
       "151249              yahoo       lb                               women sex   \n",
       "152801              naver       fy                        www.sex host.net   \n",
       "\n",
       "            nTIC  \n",
       "148070  0.273191  \n",
       "77994   0.101485  \n",
       "103272  0.070101  \n",
       "59333   0.059598  \n",
       "59338   0.045571  \n",
       "...          ...  \n",
       "148384  0.000000  \n",
       "148444  0.000000  \n",
       "150232  0.000000  \n",
       "151249  0.000000  \n",
       "152801  0.000000  \n",
       "\n",
       "[210 rows x 4 columns]"
      ]
     },
     "execution_count": 112,
     "metadata": {},
     "output_type": "execute_result"
    }
   ],
   "source": [
    "df_ntic.loc[df_ntic[\"query\"].str.contains(\"sex\")]"
   ]
  },
  {
   "cell_type": "code",
   "execution_count": null,
   "id": "dd96fe24-d798-4b1e-8115-74fbfcd179f8",
   "metadata": {},
   "outputs": [],
   "source": []
  }
 ],
 "metadata": {
  "kernelspec": {
   "display_name": "Python 3",
   "language": "python",
   "name": "python3"
  },
  "language_info": {
   "codemirror_mode": {
    "name": "ipython",
    "version": 3
   },
   "file_extension": ".py",
   "mimetype": "text/x-python",
   "name": "python",
   "nbconvert_exporter": "python",
   "pygments_lexer": "ipython3",
   "version": "3.8.13"
  }
 },
 "nbformat": 4,
 "nbformat_minor": 5
}
