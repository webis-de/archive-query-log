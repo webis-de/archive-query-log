{
 "cells": [
  {
   "cell_type": "code",
   "execution_count": 1,
   "metadata": {},
   "outputs": [],
   "source": [
    "from os import environ\n",
    "\n",
    "from pyspark.sql import SparkSession\n",
    "\n",
    "environ[\n",
    "    'PYSPARK_PYTHON'] = \"/mnt/ceph/storage/data-in-progress/data-research/web-search/web-archive-query-log/venv/bin/python\"\n",
    "session = SparkSession.builder \\\n",
    "    .master(\"yarn\") \\\n",
    "    .appName(\"web-archive-query-log-time-series\") \\\n",
    "    .config(\"spark.executor.instances\", 3) \\\n",
    "    .getOrCreate()"
   ]
  },
  {
   "cell_type": "code",
   "execution_count": 2,
   "metadata": {},
   "outputs": [
    {
     "data": {
      "text/html": [
       "\n",
       "        <div>\n",
       "            <p><b>SparkContext</b></p>\n",
       "\n",
       "            <p><a href=\"http://10.23.88.185:4041\">Spark UI</a></p>\n",
       "\n",
       "            <dl>\n",
       "              <dt>Version</dt>\n",
       "                <dd><code>v3.2.1</code></dd>\n",
       "              <dt>Master</dt>\n",
       "                <dd><code>yarn</code></dd>\n",
       "              <dt>AppName</dt>\n",
       "                <dd><code>web-archive-query-log-query-length</code></dd>\n",
       "            </dl>\n",
       "        </div>\n",
       "        "
      ],
      "text/plain": [
       "<SparkContext master=yarn appName=web-archive-query-log-query-length>"
      ]
     },
     "execution_count": 2,
     "metadata": {},
     "output_type": "execute_result"
    }
   ],
   "source": [
    "sc = session.sparkContext\n",
    "sc"
   ]
  },
  {
   "cell_type": "code",
   "execution_count": 70,
   "metadata": {
    "collapsed": false,
    "jupyter": {
     "outputs_hidden": false
    }
   },
   "outputs": [],
   "source": [
    "from pathlib import Path\n",
    "\n",
    "# TODO: For final evaluation, use the full corpus.\n",
    "corpus_dir = Path(\"/mnt/ceph/storage/data-in-progress/data-research/web-search/web-archive-query-log/focused/corpus\")\n",
    "queries_dir = corpus_dir / \"queries-2023-02-14\"\n",
    "# corpus_dir = Path(\"/mnt/ceph/storage/data-in-progress/data-research/web-search/web-archive-query-log/focused/sample-corpus\")\n",
    "# queries_dir = corpus_dir / \"queries\""
   ]
  },
  {
   "cell_type": "code",
   "execution_count": 71,
   "metadata": {
    "collapsed": false,
    "jupyter": {
     "outputs_hidden": false
    }
   },
   "outputs": [],
   "source": [
    "from pathlib import Path\n",
    "\n",
    "figures_dir = Path(\"figures\")\n",
    "figures_dir.mkdir(parents=True, exist_ok=True)"
   ]
  },
  {
   "cell_type": "code",
   "execution_count": null,
   "outputs": [],
   "source": [
    "def group(query: dict) -> tuple:\n",
    "    timestamp = datetime.fromtimestamp(query[\"timestamp\"])\n",
    "    return query[\"service\"],   query[\"language\"],   timestamp.year,   timestamp.month"
   ],
   "metadata": {
    "collapsed": false
   }
  },
  {
   "cell_type": "code",
   "execution_count": 72,
   "metadata": {
    "collapsed": false,
    "jupyter": {
     "outputs_hidden": false
    }
   },
   "outputs": [],
   "source": [
    "from json import loads\n",
    "from pandas import DataFrame\n",
    "from datetime import datetime\n",
    "\n",
    "counts = sc.textFile(f\"file://{queries_dir}\") \\\n",
    "    .map(lambda line: loads(line)) \\\n",
    "    .filter(lambda query: query[\"url_query\"] is not None) \\\n",
    "    .keyBy(lambda query: query[\"id\"]) \\\n",
    "    .mapValues(group) \\\n",
    "    .countByValue()"
   ]
  },
  {
   "cell_type": "code",
   "execution_count": 73,
   "metadata": {},
   "outputs": [
    {
     "data": {
      "text/plain": [
       "year\n",
       "1999       25556\n",
       "2000     1357906\n",
       "2001      277314\n",
       "2002      455106\n",
       "2003      419509\n",
       "2004      260278\n",
       "2005     1341800\n",
       "2006      977793\n",
       "2007     1302466\n",
       "2008     1916674\n",
       "2009     2839414\n",
       "2010     2734954\n",
       "2011     3663493\n",
       "2012     7093003\n",
       "2013    12882141\n",
       "2014    12317200\n",
       "2015    16173190\n",
       "2016    11501944\n",
       "2017    20177522\n",
       "2018    27462834\n",
       "2019    78620056\n",
       "2020    49808115\n",
       "2021    39554381\n",
       "2022    50178579\n",
       "Name: count, dtype: int64"
      ]
     },
     "execution_count": 73,
     "metadata": {},
     "output_type": "execute_result"
    }
   ],
   "source": [
    "\n",
    "from math import log10\n",
    "\n",
    "df = DataFrame([\n",
    "    {\n",
    "        \"service\": service,\n",
    "        \"language\": language,\n",
    "        \"year\": year,\n",
    "        \"month\": month,\n",
    "        \"count\": count,\n",
    "        \"log_count\": log10(count),\n",
    "    }\n",
    "    for (service, language, year, month), count in counts.items()\n",
    "])\n",
    "df"
   ]
  },
  {
   "cell_type": "code",
   "execution_count": null,
   "outputs": [],
   "source": [
    "top_services = df.groupby(\"service\")[\"count\"].sum().sort_values(ascending=False).head(5).index\n",
    "top_services"
   ],
   "metadata": {
    "collapsed": false
   }
  },
  {
   "cell_type": "code",
   "execution_count": null,
   "outputs": [],
   "source": [
    "df_plot = df.copy()\n",
    "df_plot.loc[\n",
    "    ~df_plot[\"service\"].isin(top_services),\n",
    "    \"service\",\n",
    "] = \"other\"\n",
    "df_plot[\"year\"] = df_plot[\"year\"].astype(str)\n",
    "df_plot[\"month\"] = df_plot[\"month\"].astype(str)"
   ],
   "metadata": {
    "collapsed": false
   }
  },
  {
   "cell_type": "code",
   "execution_count": 74,
   "metadata": {
    "collapsed": false,
    "jupyter": {
     "outputs_hidden": false
    }
   },
   "outputs": [
    {
     "data": {
      "text/plain": [
       "<seaborn.axisgrid.JointGrid at 0x7fe774dbcb50>"
      ]
     },
     "execution_count": 74,
     "metadata": {},
     "output_type": "execute_result"
    },
    {
     "data": {
      "image/png": "[encoded data removed]",
      "text/plain": [
       "<Figure size 600x600 with 3 Axes>"
      ]
     },
     "metadata": {},
     "output_type": "display_data"
    }
   ],
   "source": [
    "from seaborn import histplot, JointGrid\n",
    "\n",
    "plot = JointGrid()\n",
    "histplot(\n",
    "    ax=plot.ax_joint,\n",
    "    data=df,\n",
    "    x=\"year\",\n",
    "    y=\"month\",\n",
    "    weights=\"log_count\",\n",
    ")\n",
    "histplot(\n",
    "    ax=plot.ax_marg_x,\n",
    "    data=df,\n",
    "    x=\"year\",\n",
    "    weights=\"log_count\",\n",
    ")\n",
    "\n",
    "histplot(\n",
    "    ax=plot.ax_marg_y,\n",
    "    data=df,\n",
    "    y=\"month\",\n",
    "    weights=\"log_count\",\n",
    ")\n",
    "plot"
   ]
  },
  {
   "cell_type": "code",
   "execution_count": null,
   "metadata": {},
   "outputs": [],
   "source": []
  }
 ],
 "metadata": {
  "kernelspec": {
   "display_name": "Python 3",
   "language": "python",
   "name": "python3"
  },
  "language_info": {
   "codemirror_mode": {
    "name": "ipython",
    "version": 3
   },
   "file_extension": ".py",
   "mimetype": "text/x-python",
   "name": "python",
   "nbconvert_exporter": "python",
   "pygments_lexer": "ipython3",
   "version": "3.8.13"
  }
 },
 "nbformat": 4,
 "nbformat_minor": 4
}
