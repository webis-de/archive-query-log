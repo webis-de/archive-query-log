{
 "cells": [
  {
   "cell_type": "code",
   "execution_count": 1,
   "metadata": {},
   "outputs": [],
   "source": [
    "from os import environ\n",
    "\n",
    "from pyspark.sql import SparkSession\n",
    "\n",
    "environ[\n",
    "    'PYSPARK_PYTHON'] = \"/mnt/ceph/storage/data-in-progress/data-research/web-search/web-archive-query-log/venv/bin/python\"\n",
    "session = SparkSession.builder \\\n",
    "    .master(\"yarn\") \\\n",
    "    .appName(\"web-archive-query-log-query-length\") \\\n",
    "    .config(\"spark.executor.instances\", 3) \\\n",
    "    .getOrCreate()"
   ]
  },
  {
   "cell_type": "code",
   "execution_count": 2,
   "metadata": {},
   "outputs": [
    {
     "data": {
      "text/html": [
       "\n",
       "        <div>\n",
       "            <p><b>SparkContext</b></p>\n",
       "\n",
       "            <p><a href=\"http://10.23.88.185:4041\">Spark UI</a></p>\n",
       "\n",
       "            <dl>\n",
       "              <dt>Version</dt>\n",
       "                <dd><code>v3.2.1</code></dd>\n",
       "              <dt>Master</dt>\n",
       "                <dd><code>yarn</code></dd>\n",
       "              <dt>AppName</dt>\n",
       "                <dd><code>web-archive-query-log-query-length</code></dd>\n",
       "            </dl>\n",
       "        </div>\n",
       "        "
      ],
      "text/plain": [
       "<SparkContext master=yarn appName=web-archive-query-log-query-length>"
      ]
     },
     "execution_count": 2,
     "metadata": {},
     "output_type": "execute_result"
    }
   ],
   "source": [
    "sc = session.sparkContext\n",
    "sc"
   ]
  },
  {
   "cell_type": "code",
   "execution_count": 3,
   "metadata": {},
   "outputs": [],
   "source": [
    "stop_words = [\n",
    "    # \"茅聵驴茅聡聦猫聹聵猫聸聸忙卤\",\n",
    "    # \"é\\x98¿é\\x87\\x8cè\\x9c\\x98è\\x9b\\x9bæ±\",\n",
    "]"
   ]
  },
  {
   "cell_type": "code",
   "execution_count": 4,
   "metadata": {
    "collapsed": false,
    "jupyter": {
     "outputs_hidden": false
    }
   },
   "outputs": [
    {
     "data": {
      "text/plain": [
       "PosixPath('/mnt/ceph/storage/data-in-progress/data-research/web-search/web-archive-query-log')"
      ]
     },
     "execution_count": 4,
     "metadata": {},
     "output_type": "execute_result"
    }
   ],
   "source": [
    "from pathlib import Path\n",
    "\n",
    "global_data_dir = Path(\"/mnt/ceph/storage/data-in-progress/data-research/web-search/web-archive-query-log/\")\n",
    "global_data_dir"
   ]
  },
  {
   "cell_type": "code",
   "execution_count": 5,
   "metadata": {},
   "outputs": [
    {
     "data": {
      "text/plain": [
       "PosixPath('/mnt/ceph/storage/data-in-progress/data-research/web-search/web-archive-query-log/focused')"
      ]
     },
     "execution_count": 5,
     "metadata": {},
     "output_type": "execute_result"
    }
   ],
   "source": [
    "data_dir = global_data_dir / \"focused\"\n",
    "data_dir"
   ]
  },
  {
   "cell_type": "code",
   "execution_count": 6,
   "metadata": {
    "collapsed": false,
    "jupyter": {
     "outputs_hidden": false
    }
   },
   "outputs": [],
   "source": [
    "from pathlib import Path\n",
    "\n",
    "figures_dir = Path(\"figures\")\n",
    "figures_dir.mkdir(parents=True, exist_ok=True)"
   ]
  },
  {
   "cell_type": "code",
   "execution_count": 7,
   "metadata": {},
   "outputs": [],
   "source": [
    "def paths_jsonl(service: str, base_type: str):\n",
    "    base_path = data_dir / base_type / service\n",
    "    if not base_path.exists():\n",
    "        return []\n",
    "    yield from base_path.glob(\"*/*.jsonl.gz\")"
   ]
  },
  {
   "cell_type": "code",
   "execution_count": 34,
   "metadata": {},
   "outputs": [],
   "source": [
    "from json import loads, JSONDecodeError\n",
    "from typing import Iterator\n",
    "from gzip import GzipFile\n",
    "\n",
    "def read_jsonl(path: Path) -> Iterator:\n",
    "    print(f\"Read JSONL records in {path}.\")\n",
    "    try:\n",
    "        with GzipFile(path, \"r\") as gzip_file:\n",
    "            for line in gzip_file:\n",
    "                try:\n",
    "                    url = loads(line)\n",
    "                except JSONDecodeError:\n",
    "                    continue\n",
    "                yield url\n",
    "    except:\n",
    "        raise\n",
    "        return "
   ]
  },
  {
   "cell_type": "code",
   "execution_count": 35,
   "metadata": {},
   "outputs": [],
   "source": [
    "from typing import Optional\n",
    "\n",
    "\n",
    "def detect_language(text: str) -> Optional[str]:\n",
    "    text = text.replace(\"\\n\", \" \")\n",
    "    # if len(text) < 10:\n",
    "    #     return None\n",
    "    from cld3 import get_language\n",
    "    language_prediction = get_language(text)\n",
    "    if language_prediction is None:\n",
    "        return None\n",
    "    return language_prediction.language.split(\"-\")[0] if language_prediction.is_reliable else None"
   ]
  },
  {
   "cell_type": "code",
   "execution_count": 85,
   "metadata": {
    "collapsed": false,
    "jupyter": {
     "outputs_hidden": false
    }
   },
   "outputs": [],
   "source": [
    "def group_key(service_query: tuple) -> tuple:\n",
    "    service, query = service_query\n",
    "    query_text = query[\"query\"]\n",
    "    language = detect_language(query_text)\n",
    "    return service, language, len(query_text)"
   ]
  },
  {
   "cell_type": "code",
   "execution_count": 86,
   "metadata": {},
   "outputs": [
    {
     "data": {
      "text/plain": [
       "1087"
      ]
     },
     "execution_count": 86,
     "metadata": {},
     "output_type": "execute_result"
    }
   ],
   "source": [
    "with Path(\"services.txt\").open(\"rt\") as file:\n",
    "    alexa_services = [\n",
    "        line.strip()\n",
    "        for line in file\n",
    "        if line\n",
    "    ]\n",
    "len(alexa_services)"
   ]
  },
  {
   "cell_type": "code",
   "execution_count": 87,
   "metadata": {
    "collapsed": false,
    "jupyter": {
     "outputs_hidden": false
    }
   },
   "outputs": [],
   "source": [
    "from json import loads\n",
    "from pandas import DataFrame\n",
    "from datetime import datetime\n",
    "\n",
    "counts = sc.parallelize(alexa_services, 1000)\\\n",
    "    .keyBy(lambda service: service)\\\n",
    "    .flatMapValues(lambda service: paths_jsonl(service, \"archived-query-urls\"))\\\n",
    "    .repartition(10_000)\\\n",
    "    .flatMapValues(read_jsonl)\\\n",
    "    .keyBy(group_key)\\\n",
    "    .countByKey()"
   ]
  },
  {
   "cell_type": "code",
   "execution_count": 88,
   "metadata": {},
   "outputs": [
    {
     "data": {
      "text/plain": [
       "450647"
      ]
     },
     "execution_count": 88,
     "metadata": {},
     "output_type": "execute_result"
    }
   ],
   "source": [
    "len(counts)"
   ]
  },
  {
   "cell_type": "code",
   "execution_count": 90,
   "metadata": {},
   "outputs": [
    {
     "data": {
      "text/html": [
       "<div>\n",
       "<style scoped>\n",
       "    .dataframe tbody tr th:only-of-type {\n",
       "        vertical-align: middle;\n",
       "    }\n",
       "\n",
       "    .dataframe tbody tr th {\n",
       "        vertical-align: top;\n",
       "    }\n",
       "\n",
       "    .dataframe thead th {\n",
       "        text-align: right;\n",
       "    }\n",
       "</style>\n",
       "<table border=\"1\" class=\"dataframe\">\n",
       "  <thead>\n",
       "    <tr style=\"text-align: right;\">\n",
       "      <th></th>\n",
       "      <th>service</th>\n",
       "      <th>language</th>\n",
       "      <th>query_length</th>\n",
       "      <th>count</th>\n",
       "    </tr>\n",
       "  </thead>\n",
       "  <tbody>\n",
       "    <tr>\n",
       "      <th>0</th>\n",
       "      <td>wikimedia</td>\n",
       "      <td>en</td>\n",
       "      <td>32</td>\n",
       "      <td>654</td>\n",
       "    </tr>\n",
       "    <tr>\n",
       "      <th>1</th>\n",
       "      <td>wikimedia</td>\n",
       "      <td>None</td>\n",
       "      <td>9</td>\n",
       "      <td>3665</td>\n",
       "    </tr>\n",
       "    <tr>\n",
       "      <th>2</th>\n",
       "      <td>wikimedia</td>\n",
       "      <td>None</td>\n",
       "      <td>13</td>\n",
       "      <td>6724</td>\n",
       "    </tr>\n",
       "    <tr>\n",
       "      <th>3</th>\n",
       "      <td>wikimedia</td>\n",
       "      <td>it</td>\n",
       "      <td>26</td>\n",
       "      <td>67</td>\n",
       "    </tr>\n",
       "    <tr>\n",
       "      <th>4</th>\n",
       "      <td>wikimedia</td>\n",
       "      <td>sv</td>\n",
       "      <td>12</td>\n",
       "      <td>155</td>\n",
       "    </tr>\n",
       "    <tr>\n",
       "      <th>...</th>\n",
       "      <td>...</td>\n",
       "      <td>...</td>\n",
       "      <td>...</td>\n",
       "      <td>...</td>\n",
       "    </tr>\n",
       "    <tr>\n",
       "      <th>450642</th>\n",
       "      <td>wikimedia</td>\n",
       "      <td>ceb</td>\n",
       "      <td>46</td>\n",
       "      <td>1</td>\n",
       "    </tr>\n",
       "    <tr>\n",
       "      <th>450643</th>\n",
       "      <td>wikimedia</td>\n",
       "      <td>bs</td>\n",
       "      <td>1</td>\n",
       "      <td>1</td>\n",
       "    </tr>\n",
       "    <tr>\n",
       "      <th>450644</th>\n",
       "      <td>wikimedia</td>\n",
       "      <td>da</td>\n",
       "      <td>55</td>\n",
       "      <td>2</td>\n",
       "    </tr>\n",
       "    <tr>\n",
       "      <th>450645</th>\n",
       "      <td>wikimedia</td>\n",
       "      <td>sq</td>\n",
       "      <td>5</td>\n",
       "      <td>1</td>\n",
       "    </tr>\n",
       "    <tr>\n",
       "      <th>450646</th>\n",
       "      <td>wikimedia</td>\n",
       "      <td>pl</td>\n",
       "      <td>2</td>\n",
       "      <td>1</td>\n",
       "    </tr>\n",
       "  </tbody>\n",
       "</table>\n",
       "<p>450647 rows × 4 columns</p>\n",
       "</div>"
      ],
      "text/plain": [
       "          service language  query_length  count\n",
       "0       wikimedia       en            32    654\n",
       "1       wikimedia     None             9   3665\n",
       "2       wikimedia     None            13   6724\n",
       "3       wikimedia       it            26     67\n",
       "4       wikimedia       sv            12    155\n",
       "...           ...      ...           ...    ...\n",
       "450642  wikimedia      ceb            46      1\n",
       "450643  wikimedia       bs             1      1\n",
       "450644  wikimedia       da            55      2\n",
       "450645  wikimedia       sq             5      1\n",
       "450646  wikimedia       pl             2      1\n",
       "\n",
       "[450647 rows x 4 columns]"
      ]
     },
     "execution_count": 90,
     "metadata": {},
     "output_type": "execute_result"
    }
   ],
   "source": [
    "df = DataFrame([\n",
    "    {\n",
    "        \"service\": service,\n",
    "        \"language\": language,\n",
    "        \"query_length\": query_length,\n",
    "        \"count\": count,\n",
    "    }\n",
    "    for (service, language, query_length), count in counts.items()\n",
    "])\n",
    "df"
   ]
  },
  {
   "cell_type": "code",
   "execution_count": 150,
   "metadata": {},
   "outputs": [
    {
     "data": {
      "text/plain": [
       "Index(['google', 'baidu', 'twitter', 'youtube', 'stackoverflow'], dtype='object', name='service')"
      ]
     },
     "execution_count": 150,
     "metadata": {},
     "output_type": "execute_result"
    }
   ],
   "source": [
    "top_services = df.groupby(\"service\")[\"count\"].sum().sort_values(ascending=False).head(5).index\n",
    "#     \"google\",\n",
    "#     \"youtube\",\n",
    "#     \"baidu\",\n",
    "#     \"qq\",\n",
    "#     \"facebook\",\n",
    "#     # \"yahoo\",\n",
    "#     # \"amazon\",\n",
    "#     # \"wikimedia\",\n",
    "#     # \"jd\",\n",
    "#     # \"360\",\n",
    "# ]\n",
    "top_services"
   ]
  },
  {
   "cell_type": "code",
   "execution_count": 151,
   "metadata": {},
   "outputs": [
    {
     "data": {
      "text/plain": [
       "Index(['zh', 'en', 'ga', 'ja', 'ru'], dtype='object', name='language')"
      ]
     },
     "execution_count": 151,
     "metadata": {},
     "output_type": "execute_result"
    }
   ],
   "source": [
    "top_languages = df.groupby(\"language\")[\"count\"].sum().sort_values(ascending=False).head(5).index\n",
    "top_languages"
   ]
  },
  {
   "cell_type": "code",
   "execution_count": 152,
   "metadata": {},
   "outputs": [],
   "source": [
    "service_names = {\n",
    "    \"google\": \"Google\",\n",
    "    \"youtube\": \"YouTube\",\n",
    "    \"baidu\": \"Baidu\",\n",
    "    \"qq\": \"QQ\",\n",
    "    \"facebook\": \"Facebook\",\n",
    "    \"twitter\": \"Twitter\",\n",
    "    \"stackoverflow\": \"StackOverflow\",\n",
    "}"
   ]
  },
  {
   "cell_type": "code",
   "execution_count": 153,
   "metadata": {
    "collapsed": false,
    "jupyter": {
     "outputs_hidden": false
    }
   },
   "outputs": [
    {
     "data": {
      "text/html": [
       "<div>\n",
       "<style scoped>\n",
       "    .dataframe tbody tr th:only-of-type {\n",
       "        vertical-align: middle;\n",
       "    }\n",
       "\n",
       "    .dataframe tbody tr th {\n",
       "        vertical-align: top;\n",
       "    }\n",
       "\n",
       "    .dataframe thead th {\n",
       "        text-align: right;\n",
       "    }\n",
       "</style>\n",
       "<table border=\"1\" class=\"dataframe\">\n",
       "  <thead>\n",
       "    <tr style=\"text-align: right;\">\n",
       "      <th></th>\n",
       "      <th>service</th>\n",
       "      <th>query_length</th>\n",
       "      <th>count</th>\n",
       "    </tr>\n",
       "  </thead>\n",
       "  <tbody>\n",
       "    <tr>\n",
       "      <th>0</th>\n",
       "      <td>Baidu</td>\n",
       "      <td>0</td>\n",
       "      <td>90</td>\n",
       "    </tr>\n",
       "    <tr>\n",
       "      <th>1</th>\n",
       "      <td>Baidu</td>\n",
       "      <td>1</td>\n",
       "      <td>9723</td>\n",
       "    </tr>\n",
       "    <tr>\n",
       "      <th>2</th>\n",
       "      <td>Baidu</td>\n",
       "      <td>2</td>\n",
       "      <td>1213140</td>\n",
       "    </tr>\n",
       "    <tr>\n",
       "      <th>3</th>\n",
       "      <td>Baidu</td>\n",
       "      <td>3</td>\n",
       "      <td>1398569</td>\n",
       "    </tr>\n",
       "    <tr>\n",
       "      <th>4</th>\n",
       "      <td>Baidu</td>\n",
       "      <td>4</td>\n",
       "      <td>2066450</td>\n",
       "    </tr>\n",
       "    <tr>\n",
       "      <th>...</th>\n",
       "      <td>...</td>\n",
       "      <td>...</td>\n",
       "      <td>...</td>\n",
       "    </tr>\n",
       "    <tr>\n",
       "      <th>3601</th>\n",
       "      <td>YouTube</td>\n",
       "      <td>3386</td>\n",
       "      <td>1</td>\n",
       "    </tr>\n",
       "    <tr>\n",
       "      <th>3602</th>\n",
       "      <td>YouTube</td>\n",
       "      <td>4699</td>\n",
       "      <td>3</td>\n",
       "    </tr>\n",
       "    <tr>\n",
       "      <th>3603</th>\n",
       "      <td>YouTube</td>\n",
       "      <td>5105</td>\n",
       "      <td>1</td>\n",
       "    </tr>\n",
       "    <tr>\n",
       "      <th>3604</th>\n",
       "      <td>YouTube</td>\n",
       "      <td>5636</td>\n",
       "      <td>1</td>\n",
       "    </tr>\n",
       "    <tr>\n",
       "      <th>3605</th>\n",
       "      <td>YouTube</td>\n",
       "      <td>6901</td>\n",
       "      <td>1</td>\n",
       "    </tr>\n",
       "  </tbody>\n",
       "</table>\n",
       "<p>3606 rows × 3 columns</p>\n",
       "</div>"
      ],
      "text/plain": [
       "      service  query_length    count\n",
       "0       Baidu             0       90\n",
       "1       Baidu             1     9723\n",
       "2       Baidu             2  1213140\n",
       "3       Baidu             3  1398569\n",
       "4       Baidu             4  2066450\n",
       "...       ...           ...      ...\n",
       "3601  YouTube          3386        1\n",
       "3602  YouTube          4699        3\n",
       "3603  YouTube          5105        1\n",
       "3604  YouTube          5636        1\n",
       "3605  YouTube          6901        1\n",
       "\n",
       "[3606 rows x 3 columns]"
      ]
     },
     "execution_count": 153,
     "metadata": {},
     "output_type": "execute_result"
    }
   ],
   "source": [
    "df_plot = df.copy()\n",
    "df_plot = df_plot[df_plot[\"service\"].isin(top_services)]\n",
    "# df_plot.loc[\n",
    "#     ~df_plot[\"service\"].isin(top_services),\n",
    "#     \"service\",\n",
    "# ] = \"other\"\n",
    "# df_plot.loc[\n",
    "#     ~df_plot[\"language\"].isin(top_languages),\n",
    "#     \"language\",\n",
    "# ] = \"other\"\n",
    "df_plot[\"service\"] = df_plot[\"service\"].map(service_names)\n",
    "top_services = [service_names.get(service, None) for service in top_services]\n",
    "df_plot = df_plot.groupby([\n",
    "    \"service\", \n",
    "    # \"language\", \n",
    "    \"query_length\",\n",
    "])[\"count\"].sum().reset_index()\n",
    "df_plot"
   ]
  },
  {
   "cell_type": "code",
   "execution_count": 162,
   "metadata": {},
   "outputs": [
    {
     "data": {
      "text/plain": [
       "<seaborn.axisgrid.FacetGrid at 0x7fa66649d310>"
      ]
     },
     "execution_count": 162,
     "metadata": {},
     "output_type": "execute_result"
    },
    {
     "data": {
      "text/plain": [
       "<Figure size 640x480 with 0 Axes>"
      ]
     },
     "metadata": {},
     "output_type": "display_data"
    },
    {
     "data": {
      "image/png": "[encoded data removed]",
      "text/plain": [
       "<Figure size 916.125x375 with 1 Axes>"
      ]
     },
     "metadata": {},
     "output_type": "display_data"
    }
   ],
   "source": [
    "from seaborn import histplot, FacetGrid, color_palette, kdeplot, displot, set_theme, set_style, move_legend\n",
    "from matplotlib.pyplot import tight_layout, axhline\n",
    "\n",
    "width = 7.5\n",
    "aspect = 2\n",
    "set_theme()\n",
    "tight_layout()\n",
    "set_style(\"ticks\")\n",
    "plot = displot(\n",
    "    data=df_plot,\n",
    "    kind=\"hist\",\n",
    "    x=\"query_length\",\n",
    "    weights=\"count\",\n",
    "    # hue=\"language\",\n",
    "    # hue_order=[*top_languages, \"other\"],\n",
    "    hue=\"service\",\n",
    "    hue_order=[*top_services],\n",
    "    palette=\"bright\",\n",
    "    element=\"step\",\n",
    "    # element=\"poly\",\n",
    "    # multiple=\"stack\",\n",
    "    # alpha=0.5,\n",
    "    linewidth=0.75,\n",
    "    alpha=0.03,\n",
    "    binwidth=1,\n",
    "    aspect=aspect,\n",
    "    height=width/aspect,\n",
    "    # linewidth=0,\n",
    ")\n",
    "plot.set(\n",
    "    xlim=(1, 3000),\n",
    ")\n",
    "plot.set_axis_labels(\"Query Length\", \"Count\")\n",
    "# plot.set_axis_labels(\"\", \"\")\n",
    "move_legend(\n",
    "    plot,\n",
    "    title=\"\",\n",
    "    loc=\"upper right\",\n",
    "    bbox_to_anchor=(0.8, 0.9),\n",
    ")\n",
    "plot.set(\n",
    "    yscale=\"log\", \n",
    "    xscale=\"log\",\n",
    ")\n",
    "# plot.despine(left=True)\n",
    "plot.savefig(\"figures/plot-query-length-histogram.pdf\")\n",
    "plot.savefig(\"figures/plot-query-length-histogram.png\")\n",
    "plot"
   ]
  },
  {
   "cell_type": "code",
   "execution_count": null,
   "metadata": {},
   "outputs": [],
   "source": []
  },
  {
   "cell_type": "code",
   "execution_count": null,
   "metadata": {},
   "outputs": [],
   "source": []
  }
 ],
 "metadata": {
  "kernelspec": {
   "display_name": "Python 3",
   "language": "python",
   "name": "python3"
  },
  "language_info": {
   "codemirror_mode": {
    "name": "ipython",
    "version": 3
   },
   "file_extension": ".py",
   "mimetype": "text/x-python",
   "name": "python",
   "nbconvert_exporter": "python",
   "pygments_lexer": "ipython3",
   "version": "3.8.13"
  }
 },
 "nbformat": 4,
 "nbformat_minor": 4
}
