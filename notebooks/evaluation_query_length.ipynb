{
 "cells": [
  {
   "cell_type": "code",
   "execution_count": 1,
   "metadata": {},
   "outputs": [],
   "source": [
    "from os import environ\n",
    "\n",
    "from pyspark.sql import SparkSession\n",
    "\n",
    "environ[\n",
    "    'PYSPARK_PYTHON'] = \"/mnt/ceph/storage/data-in-progress/data-research/web-search/web-archive-query-log/venv/bin/python\"\n",
    "session = SparkSession.builder \\\n",
    "    .master(\"yarn\") \\\n",
    "    .appName(\"web-archive-query-log-query-length\") \\\n",
    "    .config(\"spark.executor.instances\", 3) \\\n",
    "    .getOrCreate()"
   ]
  },
  {
   "cell_type": "code",
   "execution_count": 2,
   "metadata": {},
   "outputs": [
    {
     "data": {
      "text/html": [
       "\n",
       "        <div>\n",
       "            <p><b>SparkContext</b></p>\n",
       "\n",
       "            <p><a href=\"http://10.23.88.185:4043\">Spark UI</a></p>\n",
       "\n",
       "            <dl>\n",
       "              <dt>Version</dt>\n",
       "                <dd><code>v3.2.1</code></dd>\n",
       "              <dt>Master</dt>\n",
       "                <dd><code>yarn</code></dd>\n",
       "              <dt>AppName</dt>\n",
       "                <dd><code>web-archive-query-log-query-length</code></dd>\n",
       "            </dl>\n",
       "        </div>\n",
       "        "
      ],
      "text/plain": [
       "<SparkContext master=yarn appName=web-archive-query-log-query-length>"
      ]
     },
     "execution_count": 2,
     "metadata": {},
     "output_type": "execute_result"
    }
   ],
   "source": [
    "sc = session.sparkContext\n",
    "sc"
   ]
  },
  {
   "cell_type": "code",
   "execution_count": 3,
   "metadata": {},
   "outputs": [],
   "source": [
    "stop_words = [\n",
    "    # \"茅聵驴茅聡聦猫聹聵猫聸聸忙卤\",\n",
    "    # \"é\\x98¿é\\x87\\x8cè\\x9c\\x98è\\x9b\\x9bæ±\",\n",
    "]"
   ]
  },
  {
   "cell_type": "code",
   "execution_count": 4,
   "metadata": {
    "collapsed": false,
    "jupyter": {
     "outputs_hidden": false
    }
   },
   "outputs": [
    {
     "data": {
      "text/plain": [
       "PosixPath('/mnt/ceph/storage/data-in-progress/data-research/web-search/web-archive-query-log')"
      ]
     },
     "execution_count": 4,
     "metadata": {},
     "output_type": "execute_result"
    }
   ],
   "source": [
    "from pathlib import Path\n",
    "\n",
    "global_data_dir = Path(\"/mnt/ceph/storage/data-in-progress/data-research/web-search/web-archive-query-log/\")\n",
    "global_data_dir"
   ]
  },
  {
   "cell_type": "code",
   "execution_count": 5,
   "metadata": {},
   "outputs": [
    {
     "data": {
      "text/plain": [
       "PosixPath('/mnt/ceph/storage/data-in-progress/data-research/web-search/web-archive-query-log/focused')"
      ]
     },
     "execution_count": 5,
     "metadata": {},
     "output_type": "execute_result"
    }
   ],
   "source": [
    "data_dir = global_data_dir / \"focused\"\n",
    "data_dir"
   ]
  },
  {
   "cell_type": "code",
   "execution_count": 6,
   "metadata": {
    "collapsed": false,
    "jupyter": {
     "outputs_hidden": false
    }
   },
   "outputs": [],
   "source": [
    "from pathlib import Path\n",
    "\n",
    "figures_dir = Path(\"figures\")\n",
    "figures_dir.mkdir(parents=True, exist_ok=True)"
   ]
  },
  {
   "cell_type": "code",
   "execution_count": 7,
   "metadata": {},
   "outputs": [],
   "source": [
    "def paths_jsonl(service: str, base_type: str):\n",
    "    base_path = data_dir / base_type / service\n",
    "    if not base_path.exists():\n",
    "        return []\n",
    "    yield from base_path.glob(\"*/*.jsonl.gz\")"
   ]
  },
  {
   "cell_type": "code",
   "execution_count": 8,
   "metadata": {},
   "outputs": [],
   "source": [
    "from json import loads, JSONDecodeError\n",
    "from typing import Iterator\n",
    "from gzip import GzipFile\n",
    "\n",
    "def read_jsonl(path: Path) -> Iterator:\n",
    "    print(f\"Read JSONL records in {path}.\")\n",
    "    try:\n",
    "        with GzipFile(path, \"r\") as gzip_file:\n",
    "            for line in gzip_file:\n",
    "                try:\n",
    "                    url = loads(line)\n",
    "                except JSONDecodeError:\n",
    "                    continue\n",
    "                yield url\n",
    "    except:\n",
    "        raise\n",
    "        return "
   ]
  },
  {
   "cell_type": "code",
   "execution_count": 9,
   "metadata": {},
   "outputs": [],
   "source": [
    "from typing import Optional\n",
    "\n",
    "\n",
    "def detect_language(text: str) -> Optional[str]:\n",
    "    text = text.replace(\"\\n\", \" \")\n",
    "    # if len(text) < 10:\n",
    "    #     return None\n",
    "    from cld3 import get_language\n",
    "    language_prediction = get_language(text)\n",
    "    if language_prediction is None:\n",
    "        return None\n",
    "    return language_prediction.language.split(\"-\")[0] if language_prediction.is_reliable else None"
   ]
  },
  {
   "cell_type": "code",
   "execution_count": 10,
   "metadata": {
    "collapsed": false,
    "jupyter": {
     "outputs_hidden": false
    }
   },
   "outputs": [],
   "source": [
    "def group_key(service_query: tuple) -> tuple:\n",
    "    service, query = service_query\n",
    "    query_text = query[\"query\"]\n",
    "    language = detect_language(query_text)\n",
    "    return service, language, len(query_text)"
   ]
  },
  {
   "cell_type": "code",
   "execution_count": 11,
   "metadata": {},
   "outputs": [
    {
     "data": {
      "text/plain": [
       "1087"
      ]
     },
     "execution_count": 11,
     "metadata": {},
     "output_type": "execute_result"
    }
   ],
   "source": [
    "with Path(\"services.txt\").open(\"rt\") as file:\n",
    "    alexa_services = [\n",
    "        line.strip()\n",
    "        for line in file\n",
    "        if line\n",
    "    ]\n",
    "len(alexa_services)"
   ]
  },
  {
   "cell_type": "code",
   "execution_count": 12,
   "metadata": {
    "collapsed": false,
    "jupyter": {
     "outputs_hidden": false
    }
   },
   "outputs": [],
   "source": [
    "from json import loads\n",
    "from pandas import DataFrame\n",
    "from datetime import datetime\n",
    "\n",
    "counts = sc.parallelize(alexa_services, 1000)\\\n",
    "    .keyBy(lambda service: service)\\\n",
    "    .flatMapValues(lambda service: paths_jsonl(service, \"archived-query-urls\"))\\\n",
    "    .repartition(10_000)\\\n",
    "    .flatMapValues(read_jsonl)\\\n",
    "    .keyBy(group_key)\\\n",
    "    .countByKey()"
   ]
  },
  {
   "cell_type": "code",
   "execution_count": 13,
   "metadata": {},
   "outputs": [
    {
     "data": {
      "text/plain": [
       "450647"
      ]
     },
     "execution_count": 13,
     "metadata": {},
     "output_type": "execute_result"
    }
   ],
   "source": [
    "len(counts)"
   ]
  },
  {
   "cell_type": "code",
   "execution_count": 83,
   "metadata": {},
   "outputs": [
    {
     "data": {
      "text/html": [
       "<div>\n",
       "<style scoped>\n",
       "    .dataframe tbody tr th:only-of-type {\n",
       "        vertical-align: middle;\n",
       "    }\n",
       "\n",
       "    .dataframe tbody tr th {\n",
       "        vertical-align: top;\n",
       "    }\n",
       "\n",
       "    .dataframe thead th {\n",
       "        text-align: right;\n",
       "    }\n",
       "</style>\n",
       "<table border=\"1\" class=\"dataframe\">\n",
       "  <thead>\n",
       "    <tr style=\"text-align: right;\">\n",
       "      <th></th>\n",
       "      <th>service</th>\n",
       "      <th>language</th>\n",
       "      <th>query_length</th>\n",
       "      <th>count</th>\n",
       "    </tr>\n",
       "  </thead>\n",
       "  <tbody>\n",
       "    <tr>\n",
       "      <th>0</th>\n",
       "      <td>wikimedia</td>\n",
       "      <td>en</td>\n",
       "      <td>32</td>\n",
       "      <td>654</td>\n",
       "    </tr>\n",
       "    <tr>\n",
       "      <th>1</th>\n",
       "      <td>wikimedia</td>\n",
       "      <td>None</td>\n",
       "      <td>9</td>\n",
       "      <td>3665</td>\n",
       "    </tr>\n",
       "    <tr>\n",
       "      <th>2</th>\n",
       "      <td>wikimedia</td>\n",
       "      <td>None</td>\n",
       "      <td>13</td>\n",
       "      <td>6724</td>\n",
       "    </tr>\n",
       "    <tr>\n",
       "      <th>3</th>\n",
       "      <td>wikimedia</td>\n",
       "      <td>it</td>\n",
       "      <td>26</td>\n",
       "      <td>67</td>\n",
       "    </tr>\n",
       "    <tr>\n",
       "      <th>4</th>\n",
       "      <td>wikimedia</td>\n",
       "      <td>sv</td>\n",
       "      <td>12</td>\n",
       "      <td>155</td>\n",
       "    </tr>\n",
       "    <tr>\n",
       "      <th>...</th>\n",
       "      <td>...</td>\n",
       "      <td>...</td>\n",
       "      <td>...</td>\n",
       "      <td>...</td>\n",
       "    </tr>\n",
       "    <tr>\n",
       "      <th>450642</th>\n",
       "      <td>wikimedia</td>\n",
       "      <td>ceb</td>\n",
       "      <td>46</td>\n",
       "      <td>1</td>\n",
       "    </tr>\n",
       "    <tr>\n",
       "      <th>450643</th>\n",
       "      <td>wikimedia</td>\n",
       "      <td>bs</td>\n",
       "      <td>1</td>\n",
       "      <td>1</td>\n",
       "    </tr>\n",
       "    <tr>\n",
       "      <th>450644</th>\n",
       "      <td>wikimedia</td>\n",
       "      <td>da</td>\n",
       "      <td>55</td>\n",
       "      <td>2</td>\n",
       "    </tr>\n",
       "    <tr>\n",
       "      <th>450645</th>\n",
       "      <td>wikimedia</td>\n",
       "      <td>sq</td>\n",
       "      <td>5</td>\n",
       "      <td>1</td>\n",
       "    </tr>\n",
       "    <tr>\n",
       "      <th>450646</th>\n",
       "      <td>wikimedia</td>\n",
       "      <td>pl</td>\n",
       "      <td>2</td>\n",
       "      <td>1</td>\n",
       "    </tr>\n",
       "  </tbody>\n",
       "</table>\n",
       "<p>450647 rows × 4 columns</p>\n",
       "</div>"
      ],
      "text/plain": [
       "          service language  query_length  count\n",
       "0       wikimedia       en            32    654\n",
       "1       wikimedia     None             9   3665\n",
       "2       wikimedia     None            13   6724\n",
       "3       wikimedia       it            26     67\n",
       "4       wikimedia       sv            12    155\n",
       "...           ...      ...           ...    ...\n",
       "450642  wikimedia      ceb            46      1\n",
       "450643  wikimedia       bs             1      1\n",
       "450644  wikimedia       da            55      2\n",
       "450645  wikimedia       sq             5      1\n",
       "450646  wikimedia       pl             2      1\n",
       "\n",
       "[450647 rows x 4 columns]"
      ]
     },
     "execution_count": 83,
     "metadata": {},
     "output_type": "execute_result"
    }
   ],
   "source": [
    "df = DataFrame([\n",
    "    {\n",
    "        \"service\": service,\n",
    "        \"language\": language,\n",
    "        \"query_length\": query_length,\n",
    "        \"count\": count,\n",
    "    }\n",
    "    for (service, language, query_length), count in counts.items()\n",
    "])\n",
    "df.to_csv(\"query-length-counts.csv\")\n",
    "df"
   ]
  },
  {
   "cell_type": "code",
   "execution_count": 88,
   "metadata": {},
   "outputs": [
    {
     "data": {
      "text/plain": [
       "Index(['google', 'baidu', 'twitter', 'youtube', 'stackoverflow'], dtype='object', name='service')"
      ]
     },
     "execution_count": 88,
     "metadata": {},
     "output_type": "execute_result"
    }
   ],
   "source": [
    "top_services = df.groupby(\"service\")[\"count\"].sum().sort_values(ascending=False).head(5).index\n",
    "#     \"google\",\n",
    "#     \"youtube\",\n",
    "#     \"baidu\",\n",
    "#     \"qq\",\n",
    "#     \"facebook\",\n",
    "# ]\n",
    "top_services"
   ]
  },
  {
   "cell_type": "code",
   "execution_count": 110,
   "metadata": {},
   "outputs": [],
   "source": [
    "service_names = {\n",
    "    \"google\": \"Google\",\n",
    "    \"youtube\": \"YouTube\",\n",
    "    \"baidu\": \"Baidu\",\n",
    "    \"qq\": \"QQ\",\n",
    "    \"facebook\": \"Facebook\",\n",
    "    \"twitter\": \"Twitter\",\n",
    "    \"stackoverflow\": \"StackOverflow\",\n",
    "    \"others\": \"others\",\n",
    "}"
   ]
  },
  {
   "cell_type": "code",
   "execution_count": 111,
   "metadata": {},
   "outputs": [],
   "source": [
    "service_colors = {\n",
    "    \"google\": \"#4285f4\",\n",
    "    \"youtube\": \"#ff0000\",\n",
    "    \"baidu\": \"#de0f17\",\n",
    "    \"qq\": \"#0052d4\",\n",
    "    \"facebook\": \"#1877f2\",\n",
    "    \"twitter\": \"#1da1f2\",\n",
    "    \"stackoverflow\": \"#f48024\",\n",
    "}"
   ]
  },
  {
   "cell_type": "code",
   "execution_count": 112,
   "metadata": {},
   "outputs": [],
   "source": [
    "top_services_names = [service_names.get(service, None) for service in top_services] + [\"others\"]\n",
    "top_services_colors = [service_colors.get(service, None) for service in top_services] + [\"#646464\"]"
   ]
  },
  {
   "cell_type": "code",
   "execution_count": 113,
   "metadata": {
    "collapsed": false,
    "jupyter": {
     "outputs_hidden": false
    }
   },
   "outputs": [
    {
     "data": {
      "text/html": [
       "<div>\n",
       "<style scoped>\n",
       "    .dataframe tbody tr th:only-of-type {\n",
       "        vertical-align: middle;\n",
       "    }\n",
       "\n",
       "    .dataframe tbody tr th {\n",
       "        vertical-align: top;\n",
       "    }\n",
       "\n",
       "    .dataframe thead th {\n",
       "        text-align: right;\n",
       "    }\n",
       "</style>\n",
       "<table border=\"1\" class=\"dataframe\">\n",
       "  <thead>\n",
       "    <tr style=\"text-align: right;\">\n",
       "      <th></th>\n",
       "      <th>service</th>\n",
       "      <th>query_length</th>\n",
       "      <th>count</th>\n",
       "    </tr>\n",
       "  </thead>\n",
       "  <tbody>\n",
       "    <tr>\n",
       "      <th>0</th>\n",
       "      <td>Baidu</td>\n",
       "      <td>0</td>\n",
       "      <td>90</td>\n",
       "    </tr>\n",
       "    <tr>\n",
       "      <th>1</th>\n",
       "      <td>Baidu</td>\n",
       "      <td>1</td>\n",
       "      <td>9723</td>\n",
       "    </tr>\n",
       "    <tr>\n",
       "      <th>2</th>\n",
       "      <td>Baidu</td>\n",
       "      <td>2</td>\n",
       "      <td>1213140</td>\n",
       "    </tr>\n",
       "    <tr>\n",
       "      <th>3</th>\n",
       "      <td>Baidu</td>\n",
       "      <td>3</td>\n",
       "      <td>1398569</td>\n",
       "    </tr>\n",
       "    <tr>\n",
       "      <th>4</th>\n",
       "      <td>Baidu</td>\n",
       "      <td>4</td>\n",
       "      <td>2066450</td>\n",
       "    </tr>\n",
       "    <tr>\n",
       "      <th>...</th>\n",
       "      <td>...</td>\n",
       "      <td>...</td>\n",
       "      <td>...</td>\n",
       "    </tr>\n",
       "    <tr>\n",
       "      <th>5325</th>\n",
       "      <td>others</td>\n",
       "      <td>3640</td>\n",
       "      <td>1</td>\n",
       "    </tr>\n",
       "    <tr>\n",
       "      <th>5326</th>\n",
       "      <td>others</td>\n",
       "      <td>3797</td>\n",
       "      <td>1</td>\n",
       "    </tr>\n",
       "    <tr>\n",
       "      <th>5327</th>\n",
       "      <td>others</td>\n",
       "      <td>5000</td>\n",
       "      <td>1</td>\n",
       "    </tr>\n",
       "    <tr>\n",
       "      <th>5328</th>\n",
       "      <td>others</td>\n",
       "      <td>5089</td>\n",
       "      <td>1</td>\n",
       "    </tr>\n",
       "    <tr>\n",
       "      <th>5329</th>\n",
       "      <td>others</td>\n",
       "      <td>5986</td>\n",
       "      <td>1</td>\n",
       "    </tr>\n",
       "  </tbody>\n",
       "</table>\n",
       "<p>5330 rows × 3 columns</p>\n",
       "</div>"
      ],
      "text/plain": [
       "     service  query_length    count\n",
       "0      Baidu             0       90\n",
       "1      Baidu             1     9723\n",
       "2      Baidu             2  1213140\n",
       "3      Baidu             3  1398569\n",
       "4      Baidu             4  2066450\n",
       "...      ...           ...      ...\n",
       "5325  others          3640        1\n",
       "5326  others          3797        1\n",
       "5327  others          5000        1\n",
       "5328  others          5089        1\n",
       "5329  others          5986        1\n",
       "\n",
       "[5330 rows x 3 columns]"
      ]
     },
     "execution_count": 113,
     "metadata": {},
     "output_type": "execute_result"
    }
   ],
   "source": [
    "df_plot = df.copy()\n",
    "df_plot.loc[\n",
    "    ~df_plot[\"service\"].isin(list(top_services)),\n",
    "    \"service\"\n",
    "] = \"others\"\n",
    "df_plot[\"service\"] = df_plot[\"service\"].map(service_names, na_action=None)\n",
    "df_plot = df_plot.groupby([\n",
    "    \"service\", \n",
    "    \"query_length\",\n",
    "])[\"count\"].sum().reset_index()\n",
    "df_plot"
   ]
  },
  {
   "cell_type": "code",
   "execution_count": 115,
   "metadata": {},
   "outputs": [
    {
     "data": {
      "text/plain": [
       "<seaborn.axisgrid.FacetGrid at 0x7fb1406d7580>"
      ]
     },
     "execution_count": 115,
     "metadata": {},
     "output_type": "execute_result"
    },
    {
     "data": {
      "text/plain": [
       "<Figure size 640x480 with 0 Axes>"
      ]
     },
     "metadata": {},
     "output_type": "display_data"
    },
    {
     "data": {
      "image/png": "[encoded data removed]",
      "text/plain": [
       "<Figure size 700x525 with 6 Axes>"
      ]
     },
     "metadata": {},
     "output_type": "display_data"
    }
   ],
   "source": [
    "from seaborn import histplot, FacetGrid, color_palette, kdeplot, displot, set_theme, set_style, move_legend\n",
    "from matplotlib.pyplot import tight_layout, axhline\n",
    "\n",
    "width = 3.5\n",
    "aspect = 2\n",
    "set_theme()\n",
    "tight_layout()\n",
    "set_style(\"ticks\")\n",
    "plot = FacetGrid(\n",
    "    data=df_plot,\n",
    "    col=\"service\",\n",
    "    col_wrap=2,\n",
    "    hue=\"service\",\n",
    "    hue_order=top_services_names,\n",
    "    # palette=\"bright\",\n",
    "    palette=top_services_colors,\n",
    "    aspect=aspect,\n",
    "    height=width/aspect,\n",
    "    sharex=True,\n",
    "    sharey=True,\n",
    ")\n",
    "plot.map_dataframe(\n",
    "    histplot,\n",
    "    x=\"query_length\",\n",
    "    weights=\"count\",\n",
    "    element=\"step\",\n",
    "    binwidth=1,\n",
    "    multiple=\"layer\",\n",
    "    linewidth=0.75,\n",
    "    alpha=0.03,\n",
    "    # multiple=\"stack\",\n",
    "    # linewidth=0layer', 'stack', 'fill', 'dodge,\n",
    "    # alpha=0.5,\n",
    "    # multiple=\"fill\",\n",
    "    # multiple=\"dodge\",\n",
    "    # linewidth=0.75,\n",
    "    # alpha=0.03,\n",
    ")\n",
    "plot.set(\n",
    "    xlim=(1, 3000),\n",
    ")\n",
    "plot.set_titles(\"{col_name}\")\n",
    "plot.set_axis_labels(\"Query Length\", \"Count\")\n",
    "# plot.set_axis_labels(\"\", \"\")\n",
    "# move_legend(\n",
    "#     plot,\n",
    "#     title=\"\",\n",
    "#     loc=\"upper right\",\n",
    "#     bbox_to_anchor=(0.8, 0.9),\n",
    "# )\n",
    "plot.set(\n",
    "    yscale=\"log\", \n",
    "    xscale=\"log\",\n",
    ")\n",
    "# plot.despine(left=True)\n",
    "plot.savefig(\"figures/plot-query-length-histogram-facet.pdf\")\n",
    "plot.savefig(\"figures/plot-query-length-histogram-facet.png\")\n",
    "plot"
   ]
  },
  {
   "cell_type": "code",
   "execution_count": null,
   "metadata": {},
   "outputs": [],
   "source": []
  },
  {
   "cell_type": "code",
   "execution_count": 131,
   "metadata": {},
   "outputs": [],
   "source": [
    "def sample_queries(query_length: int, samples: int) -> list:\n",
    "    rdd = sc.parallelize(alexa_services, 1000)\\\n",
    "        .flatMap(lambda service: paths_jsonl(service, \"archived-query-urls\"))\\\n",
    "        .repartition(10_000)\\\n",
    "        .flatMap(read_jsonl)\\\n",
    "        .map(lambda url: url[\"query\"])\\\n",
    "        .filter(lambda query: len(query) == query_length)\\\n",
    "    length = rdd.count()\n",
    "    return rdd.sample(False, samples / length).collect()"
   ]
  },
  {
   "cell_type": "code",
   "execution_count": 134,
   "metadata": {},
   "outputs": [
    {
     "name": "stdout",
     "output_type": "stream",
     "text": [
      "フンボルト\n",
      "长袖衬衫男\n",
      "talvi\n",
      "video\n",
      "大规模删帖\n",
      "query\n",
      "query\n",
      "merry\n",
      "blind\n",
      "#mock\n",
      "#wsop\n",
      "query\n",
      "r2 d2\n",
      "v2ray\n",
      "\"李思宇\"\n"
     ]
    }
   ],
   "source": [
    "for q in sample_queries(5, 10):\n",
    "    print(q.replace(\"\\n\", \"<NEWLINE>\"))"
   ]
  },
  {
   "cell_type": "code",
   "execution_count": 135,
   "metadata": {},
   "outputs": [
    {
     "name": "stdout",
     "output_type": "stream",
     "text": [
      "comic font\n",
      "hx-yun.net\n",
      "comic sans\n",
      "#чемпионат\n",
      "#co_health\n",
      "카이리 어빙 농구화\n",
      "real-me-c2\n",
      "waterscape\n",
      "2015+anime\n"
     ]
    }
   ],
   "source": [
    "for q in sample_queries(10, 10):\n",
    "    print(q.replace(\"\\n\", \"<NEWLINE>\"))"
   ]
  },
  {
   "cell_type": "code",
   "execution_count": 136,
   "metadata": {},
   "outputs": [
    {
     "name": "stdout",
     "output_type": "stream",
     "text": [
      "Priscilla's room Wilson, Louise Latham. old catalog priscillasroom00wils haswbstatement:P31=Q3331189\n",
      "isabelle_(animal_crossing) animated order:score tailwag anthro -2d_animation video_games -yellow_fur\n",
      "related:https://www3.ntu.edu.sg/home/ehchua/programming/java/J9c_PackageClasspath.html javac package\n",
      "related:https://www.wsj.com/articles/SB10001424127887323335404578444792065046344 china is capitalist\n",
      "Moravcsik, Edith. 2003. A semantic analysis of associative plurals. Studies in Language 27. 469–503.\n",
      "Merging Parametric Active Contours Within Homogeneous Image Regions for MRI-Based Lung Segmentation.\n",
      "Best-Artificial-Grass-For-Balcony-Or-DoormatSoft-And-Durable-Plastic-Turf-Carpet-MatArtificial-Grass\n",
      "banarasi-silk-works-party-wear-designer-blue---black-colour-cotton-combo-saree-for-women-s-bsw39_40-\n",
      "#%e3%83%94%e3%83%a9%e3%83%86%e3%82%a3%e3%82%b9%e3%82%b9%e3%82%bf%e3%82%b8%e3%82%aa%e3%82%b5%e3%82%a4\n"
     ]
    }
   ],
   "source": [
    "for q in sample_queries(100, 10):\n",
    "    print(q.replace(\"\\n\", \"<NEWLINE>\"))"
   ]
  },
  {
   "cell_type": "code",
   "execution_count": 137,
   "metadata": {},
   "outputs": [
    {
     "name": "stdout",
     "output_type": "stream",
     "text": [
      "Bidrag till kännedom av Finlands natur och folk <NEWLINE><NEWLINE><NEWLINE>Axel Olai Heikel<NEWLINE>&nbsp;(1851&ndash;1924)&nbsp;&nbsp;<NEWLINE><NEWLINE><NEWLINE>|class=photo<NEWLINE><NEWLINE><NEWLINE>Description<NEWLINE>Finnish archaeologist and ethnologist<NEWLINE><NEWLINE>Date of birth/death<NEWLINE><NEWLINE>28 April 1851&nbsp;<NEWLINE>6 September 1924&nbsp;<NEWLINE><NEWLINE>Location of birth/death<NEWLINE><NEWLINE>Turku and Pori Province<NEWLINE>Helsinki<NEWLINE><NEWLINE>Authority control<NEWLINE><NEWLINE>*: Q2619687<NEWLINE>*VIAF:&thinsp;18146826<NEWLINE>*ISNI:&thinsp;0000 0000 8339 6178<NEWLINE>*LCCN:&thinsp;no2004045023<NEWLINE>*Open Library:&thinsp;OL2296918A<NEWLINE>*GND:&thinsp;124039251<NEWLINE>*WorldCat<NEWLINE><NEWLINE><NEWLINE><NEWLINE><NEWLINE><NEWLINE><NEWLINE><NEWLINE><NEWLINE><NEWLINE><NEWLINE>Anders Anton von Stiernman<NEWLINE>&nbsp;(1695&ndash;1765)&nbsp;<NEWLINE><NEWLINE><NEWLINE>|class=photo<NEWLINE><NEWLINE><NEWLINE>Description<NEWLINE>Swedish historian, public record publisher, archivist and politician<NEWLINE><NEWLINE>Date of birth/death<NEWLINE><NEWLINE>27 September 1695&nbsp;<NEWLINE>2 March 1765&nbsp;<NEWLINE><NEWLINE>Location of birth/death<NEWLINE><NEWLINE>Stockholm City<NEWLINE>Klara Church Parish<NEWLINE><NEWLINE>Authority control<NEWLINE><NEWLINE>*: Q3739678<NEWLINE>*VIAF:&thinsp;3560253<NEWLINE>*ISNI:&thinsp;0000 0000 8194 5049<NEWLINE>*LCCN:&thinsp;no90022908<NEWLINE>*Open Library:&thinsp;OL788965A<NEWLINE>*GND:&thinsp;129715506<NEWLINE>*WorldCat<NEWLINE><NEWLINE><NEWLINE><NEWLINE><NEWLINE><NEWLINE> bidragtillknne38suom haswbstatement:P31=Q3331189\n",
      "The Sorrows of Werter–The Last Interview <NEWLINE><NEWLINE><NEWLINE>Samuel Collings<NEWLINE>&nbsp;(1738&ndash;1838)&nbsp;&nbsp;<NEWLINE><NEWLINE><NEWLINE>|class=photo<NEWLINE><NEWLINE><NEWLINE>Description<NEWLINE>British painter<NEWLINE><NEWLINE>Date of birth/death<NEWLINE><NEWLINE>1738&nbsp;<NEWLINE>1838&nbsp;<NEWLINE><NEWLINE>Work period<NEWLINE>1784&nbsp;<NEWLINE><NEWLINE>Work location<NEWLINE><NEWLINE>London&nbsp;<NEWLINE><NEWLINE>Authority control<NEWLINE><NEWLINE>*: Q17388256<NEWLINE>*VIAF:&thinsp;13558896<NEWLINE>*ISNI:&thinsp;0000 0000 2422 1546<NEWLINE>*LCCN:&thinsp;n77006064<NEWLINE>*Oxford Dict.:&thinsp;5929<NEWLINE>*RKD:&thinsp;17761<NEWLINE>*WorldCat<NEWLINE><NEWLINE><NEWLINE><NEWLINE><NEWLINE><NEWLINE><NEWLINE><NEWLINE><NEWLINE><NEWLINE>Thomas Rowlandson<NEWLINE>&nbsp;(1756&ndash;1827)&nbsp;&nbsp;&nbsp;<NEWLINE><NEWLINE><NEWLINE>|class=photo<NEWLINE><NEWLINE><NEWLINE>Description<NEWLINE>English painter, drawer, etcher and illustrator<NEWLINE><NEWLINE>Date of birth/death<NEWLINE><NEWLINE>14 July 1756<NEWLINE>22 April 1827<NEWLINE><NEWLINE>Location of birth/death<NEWLINE><NEWLINE>City of London<NEWLINE>London<NEWLINE><NEWLINE>Work location<NEWLINE><NEWLINE>London, Paris (1774), France, Germany, Italy, Rotterdam (ca. 1794), Amsterdam (ca. 1794), Netherlands (ca. 1794)<NEWLINE><NEWLINE>Authority control<NEWLINE><NEWLINE>*: Q318584<NEWLINE>*VIAF:&thinsp;56672964<NEWLINE>*ISNI:&thinsp;0000 0001 2134 1830<NEWLINE>*ULAN:&thinsp;500006930<NEWLINE>*LCCN:&thinsp;n50022330<NEWLINE>*NLA:&thinsp;35465846<NEWLINE>*WorldCat<NEWLINE><NEWLINE><NEWLINE><NEWLINE><NEWLINE><NEWLINE><NEWLINE>Jackson 59.533.183 haswbstatement:P195=Q160236\n",
      "Bidrag till kännedom av Finlands natur och folk    Axel Olai Heikel &nbsp;(1851&ndash;1924)&nbsp;&nbsp;   |class=photo   Description Finnish archaeologist and ethnologist  Date of birth/death  28 April 1851&nbsp; 6 September 1924&nbsp;  Location of birth/death  Turku and Pori Province Helsinki  Authority control  *: Q2619687 *VIAF:&thinsp;18146826 *ISNI:&thinsp;0000 0000 8339 6178 *LCCN:&thinsp;no2004045023 *Open Library:&thinsp;OL2296918A *GND:&thinsp;124039251 *WorldCat           Anders Anton von Stiernman &nbsp;(1695&ndash;1765)&nbsp;   |class=photo   Description Swedish historian, public record publisher, archivist and politician  Date of birth/death  27 September 1695&nbsp; 2 March 1765&nbsp;  Location of birth/death  Stockholm City Klara Church Parish  Authority control  *: Q3739678 *VIAF:&thinsp;3560253 *ISNI:&thinsp;0000 0000 8194 5049 *LCCN:&thinsp;no90022908 *Open Library:&thinsp;OL788965A *GND:&thinsp;129715506 *WorldCat       bidragtillknne38suom haswbstatement:P31=Q3331189\n",
      "English&#58;  Title page: Bibliotheca chemica curiosa : seu rerum ad alchemiam pertinentium thesaurus instructissimus : quo non tantùm artis auriferae, ac scriptorum in ea nobiliorum historia traditur ; lapidis veritas argumentis et experimentis innumeris, immò et juris consultorum judiciis evincitur : termini obscuriores explicantur ; cautiones contra impostores, et difficultates in tinctura universali conficienda occurrentes, declarantur : verùm etiam tractatus omnes virorum celebriorum, qui in magno sudarunt elixyre, quíque ab ipso Hermete, ut dicitur, Trismegisto, ad nostra usque tempora de chrysopoea scripserunt, cum præcipuis suis commentariis, concinno ordine dispositi exhibentur / ... Jo. Jacobi Mangeti ... ad quorum omnium illustrationem additae sunt quamplurimae figurae aeneae ...<NEWLINE>Genevae : sumpt. Chouet, G. De Tournes, Cramer, Perachon, Ritter, et S. De Tournes, 1702. Manget, Jean-Jaques, 1652-1742      QD25 .M364 1702, Science History Institute. haswbstatement:P195=Q5090408\n",
      "Hogarth&#39;s Shop Card <NEWLINE><NEWLINE><NEWLINE>Samuel Ireland<NEWLINE>&nbsp;(&ndash;1800)&nbsp;&nbsp;&nbsp;<NEWLINE><NEWLINE><NEWLINE>|class=photo<NEWLINE><NEWLINE><NEWLINE>Alternative names<NEWLINE><NEWLINE>Samuel, I Ireland; Samuel I Ireland; Ireld; Irld; Ireland<NEWLINE><NEWLINE>Description<NEWLINE>British printmaker, writer, drawer and publisher<NEWLINE><NEWLINE>Date of birth/death<NEWLINE><NEWLINE><NEWLINE>July 1800&nbsp;<NEWLINE><NEWLINE>Location of birth/death<NEWLINE><NEWLINE><NEWLINE>London<NEWLINE><NEWLINE>Work location<NEWLINE><NEWLINE>London&nbsp;<NEWLINE><NEWLINE>Authority control<NEWLINE><NEWLINE>*: Q7411777<NEWLINE>*VIAF:&thinsp;7815755<NEWLINE>*ISNI:&thinsp;0000 0000 8354 7706<NEWLINE>*ULAN:&thinsp;500012748<NEWLINE>*LCCN:&thinsp;n50037661<NEWLINE>*Open Library:&thinsp;OL990268A<NEWLINE>*WorldCat<NEWLINE><NEWLINE><NEWLINE><NEWLINE><NEWLINE><NEWLINE><NEWLINE><NEWLINE><NEWLINE><NEWLINE>William Hogarth<NEWLINE>&nbsp;(1697&ndash;1764)&nbsp;&nbsp;&nbsp;&nbsp;<NEWLINE><NEWLINE><NEWLINE>|class=photo<NEWLINE><NEWLINE><NEWLINE>Description<NEWLINE>English-British painter and engraver<NEWLINE><NEWLINE>Date of birth/death<NEWLINE><NEWLINE>10 November 1697&nbsp;<NEWLINE>25 October 1764<NEWLINE><NEWLINE>Location of birth/death<NEWLINE><NEWLINE>London<NEWLINE>London<NEWLINE><NEWLINE>Work location<NEWLINE><NEWLINE>London, Chiswick<NEWLINE><NEWLINE>Authority control<NEWLINE><NEWLINE>*: Q171344<NEWLINE>*VIAF:&thinsp;17268409<NEWLINE>*ISNI:&thinsp;0000 0001 2099 3749<NEWLINE>*ULAN:&thinsp;500004242<NEWLINE>*LCCN:&thinsp;n80126106<NEWLINE>*NLA:&thinsp;35201047<NEWLINE>*WorldCat<NEWLINE><NEWLINE><NEWLINE><NEWLINE><NEWLINE><NEWLINE> 17.3.1474 haswbstatement:P195=Q160236\n",
      "Frame of Ignorance Defeated <NEWLINE><NEWLINE><NEWLINE>Antonio Fantuzzi<NEWLINE>&nbsp;(1510&ndash;1550)&nbsp;&nbsp;<NEWLINE><NEWLINE><NEWLINE>Alternative names<NEWLINE><NEWLINE>Anthoine Fanton<NEWLINE><NEWLINE>Description<NEWLINE> painter, etcher, plasterer and graphic artist<NEWLINE><NEWLINE>Date of birth/death<NEWLINE><NEWLINE>1510&nbsp;<NEWLINE>1550&nbsp;<NEWLINE><NEWLINE>Location of birth<NEWLINE><NEWLINE>Bologna<NEWLINE><NEWLINE><NEWLINE>Authority control<NEWLINE><NEWLINE>*: Q4481148<NEWLINE>*VIAF:&thinsp;30592449<NEWLINE>*ISNI:&thinsp;0000 0000 8368 7709<NEWLINE>*ULAN:&thinsp;500032403<NEWLINE>*LCCN:&thinsp;nr2004029853<NEWLINE>*BNF:&thinsp;14965740w<NEWLINE>*WorldCat<NEWLINE><NEWLINE><NEWLINE><NEWLINE><NEWLINE><NEWLINE><NEWLINE><NEWLINE><NEWLINE><NEWLINE>Rosso Fiorentino<NEWLINE>&nbsp;(1494&ndash;1540)&nbsp;&nbsp;<NEWLINE><NEWLINE><NEWLINE>|class=photo<NEWLINE><NEWLINE><NEWLINE>Alternative names<NEWLINE><NEWLINE>Birth name&#58; Giovanni Battista di Jacopo di Gaspare<NEWLINE><NEWLINE>Description<NEWLINE>French painter, printmaker, drawer and fresco painter<NEWLINE><NEWLINE>Date of birth/death<NEWLINE><NEWLINE>8 March 1494&nbsp;<NEWLINE>14 November 1540&nbsp;<NEWLINE><NEWLINE>Location of birth/death<NEWLINE><NEWLINE>Florence<NEWLINE>Paris<NEWLINE><NEWLINE>Work location<NEWLINE><NEWLINE>Florence, Rom, Paris<NEWLINE><NEWLINE>Authority control<NEWLINE><NEWLINE>*: Q312617<NEWLINE>*VIAF:&thinsp;107532392<NEWLINE>*ISNI:&thinsp;0000 0001 2096 7962<NEWLINE>*ULAN:&thinsp;500014451<NEWLINE>*LCCN:&thinsp;n85221402<NEWLINE>*NLA:&thinsp;35169597<NEWLINE>*WorldCat<NEWLINE><NEWLINE><NEWLINE><NEWLINE><NEWLINE><NEWLINE> 66.658.5 haswbstatement:P195=Q160236\n",
      "Image.com/<NEWLINE>  https://upload.google.upload.dharthflakkd.dna.org/uuu şşşşşşşşşşşşşşşşşşşşşşşşşşşşşşşşⳈⳉـبہبہـــــــسبــــبہ𝔡𝔥𝔳𝔯𝔱𝔥عہنـــــبـہFallnOrdreroFFşşv9NKvdVşş9.org/5İДТЛFꤾꥌꤼꥉꥂꥈꤳꥊꥀꥈdҶђдâɹҒʈҷђjjh5İДТлv9şşşşşşşşگگگگگںںںہحسسسسسسسسسںںںںںںںںسسسسسںںںںںںگگگگگگگ Watch \" https:/upload.dharth.google.decend.org/so/FallnOrdreroFFşşv9NKvdVşş9.org/𝔡ہہنــہשعہبـــــــہ\" on Watch BhtrahddharthWorshipsdecend.com/lt4e07d4rl_htrahd - GoogleSearch.FallOEnd.org/blindeddeff https://youtube.com/channel/UCG0BCCPBTYra5QA6tsq61bQ ƆFFļ.com/wikidata.org/com/org/net/googledharth\" on YouTube facebook.GoogleDesktops.Illlumination.org/55ffl7 - Nuclearbitdriver.org/H2o Google.NuclearBitdriver.Search.com Google.ios.google.net/com/org/MobileDataErrorInvalid.nethttps://www.google.dharthflakkd.coding.mobile.com/lt4e07d4rl.org/ Vşşv`9 řvçفحي`И`ح^Бй المم88`يلمlمşş`✠śş`88 Й9 Inroughtworldwarvictimofmydemised Deepesttragedy ş`مÓملخم`` for Fall.Fallnlllunlnlml7l.org/<NEWLINE>Fallnlcoveantlorderloflarchangels ...<NEWLINE>twitter.com DHV.GOV\n",
      "Non si fermano gli sbarchi di migranti sulle coste crotonesi. Nella giornata di lunedì sono stati due gli eventi gestiti entrambi dalla Prefettura di Crotone. Il primo arrivo è avvenuto in mattinata in località Le Cannella dove sono approdate 75 persone soccorse a bordo di una imbarcazione a vela che si è arenata sulla spiaggia. Si tratta della stessa spiaggia dove, a novembre scorso, avvenne il salvataggio di una ottantina di migranti da parte delle forze dell'ordine che non esitarono a buttarsi nel mare agitato. I profughi provengono tutti dall'Afghanistan; tra loro 45 uomini, 7 donne e 23 minori di cui tre non accompagnati. A qualche ora di distanza, al porto di Crotone, sono sbarcate 74 persone la cui imbarcazione a vela era stata intercettata al largo della costa calabrese. A bordo 53 uomini, 8 donne e 14 minori provenienti da Afghanistan, Iran, Iraq e Turchia. Dopo le operazioni di sbarco, i migranti sono stati condotti al centro di accoglienza di Sant'Anna di Isola Capo Rizzuto.\n",
      "8.   Barry M.J. et al. <NEWLINE>          .,<NEWLINE>          “Watchful Waiting versus Immediate Transurethral Resection for Symptomatic Prostatism: The Importance of Patients' Preferences,” Journal of the American Medical Association 259<NEWLINE>          , no.<NEWLINE>          20<NEWLINE>          (<NEWLINE>          1988<NEWLINE>          ):<NEWLINE>          3010<NEWLINE>          –<NEWLINE>          3017<NEWLINE>          ;<NEWLINE>          Fowler F.J. et al. <NEWLINE>          .,<NEWLINE>          “Symptom Status and Quality of Life following Prostatectomy,” Journal of the American Medical Association 259<NEWLINE>          , no.<NEWLINE>          20<NEWLINE>          (<NEWLINE>          1988<NEWLINE>          ):<NEWLINE>          3018<NEWLINE>          –<NEWLINE>          3022<NEWLINE>          ; and<NEWLINE>          Wennberg J.E. et al. <NEWLINE>          .,<NEWLINE>          “An Assessment of Prostatectomy for Benign Urinary Tract Obstruction: Geographic Variations and the Evaluation of Medical Care Outcomes,” Journal of the American Medical Association 259<NEWLINE>          , no.<NEWLINE>          20<NEWLINE>          (<NEWLINE>          1988<NEWLINE>          ):<NEWLINE>          3027<NEWLINE>          –<NEWLINE>          3030<NEWLINE>          .\n",
      "Which of the following lines from Of Plymouth Plantation best show that American Indians wanted to make peace with European colonists? \"He became profitable to them in acquainting them with many things concerning the state of the country in the east-parts where he lived, which was afterwards profitable unto them; as also of the people hear, of their names, number, and strength; of their situation and distance from this place, and who was chief amongst them.\" \"But about the 16th of March a certain Indian came boldly amongst them, and spoke to them in broken English, which they could well understand, but marveled at it.\" \"Being, after some time of entertainment and gifts, dismissed, a while after he came again, and 5 more with him, and they brought again all the tools that were stolen away before, and made way for the coming of their great Sachem, called Massasoyt; who, about 4 or 5 days after, came with the chief of his friends and other attendance, with the aforesaid Squanto.\" \"All thi\n",
      "at new Nodat new NodeError (node:internal/errors:372:5)     at Object.getFileProtocolModuleFormat [as file:] (node:internal/modules/esm/get_format:80:11)     at defaultGetFormat (node:internal/modules/esm/get_format:122:38)     at defaultLoad (node:internal/modules/eeError (node:internal/errors:372:5)     at Object.getFileProtocolModuleFormat [as file:] (node:internal/modules/esm/get_format:80:11)     at defaultGetFormat (node:internal/modules/esm/get_format:122:38)     at defaultLoad (node:internal/modules/esm/load:21:20)     at ESMLoader.load (node:internal/modules/esm/loader:431:26)     at ESMLoader.moduleProvider (node:internal/modules/esm/loader:350:22)     at new ModuleJob (node:internal/modules/esm/module_job:66:26)     at ESMLoader.#createModuleJob (node:internal/modules/esm/loader:369:17)     at ESMLoader.getModuleJob (node:internal/modules/esm/loader:328:34)     at async ModuleWrap.<anonymous> (node:internal/modules/esm/module_job:82:21) {   code: 'ERR_UNKNOWN_FILE_EXTENSION'\n"
     ]
    }
   ],
   "source": [
    "for q in sample_queries(1000, 10):\n",
    "    print(q.replace(\"\\n\", \"<NEWLINE>\"))"
   ]
  },
  {
   "cell_type": "code",
   "execution_count": 138,
   "metadata": {},
   "outputs": [
    {
     "data": {
      "text/plain": [
       "104"
      ]
     },
     "execution_count": 138,
     "metadata": {},
     "output_type": "execute_result"
    }
   ],
   "source": [
    "num_languages = sc.parallelize(alexa_services, 1000)\\\n",
    "    .flatMap(lambda service: paths_jsonl(service, \"archived-query-urls\"))\\\n",
    "    .repartition(10_000)\\\n",
    "    .flatMap(read_jsonl)\\\n",
    "    .map(lambda url: url[\"query\"])\\\n",
    "    .map(detect_language)\\\n",
    "    .distinct()\\\n",
    "    .count()\n",
    "num_languages"
   ]
  },
  {
   "cell_type": "code",
   "execution_count": null,
   "metadata": {},
   "outputs": [],
   "source": []
  }
 ],
 "metadata": {
  "kernelspec": {
   "display_name": "Python 3",
   "language": "python",
   "name": "python3"
  },
  "language_info": {
   "codemirror_mode": {
    "name": "ipython",
    "version": 3
   },
   "file_extension": ".py",
   "mimetype": "text/x-python",
   "name": "python",
   "nbconvert_exporter": "python",
   "pygments_lexer": "ipython3",
   "version": "3.8.13"
  }
 },
 "nbformat": 4,
 "nbformat_minor": 4
}
