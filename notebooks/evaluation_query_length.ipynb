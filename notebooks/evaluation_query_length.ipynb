{
 "cells": [
  {
   "cell_type": "code",
   "execution_count": null,
   "metadata": {
    "collapsed": true,
    "pycharm": {
     "is_executing": true
    }
   },
   "outputs": [],
   "source": [
    "from pyspark import SparkConf, SparkContext\n",
    "\n",
    "conf = SparkConf()\n",
    "conf.setAll([\n",
    "    (\"spark.executor.instances\", 3)\n",
    "])\n",
    "sc = SparkContext(\n",
    "    # TODO: For final evaluation, run on YARN cluster.\n",
    "    # master=\"yarn\",\n",
    "    appName=\"web-archive-query-log-query-length\",\n",
    "    conf=conf,\n",
    ")\n",
    "sc"
   ]
  },
  {
   "cell_type": "code",
   "execution_count": null,
   "outputs": [],
   "source": [
    "print(sc.uiWebUrl)"
   ],
   "metadata": {
    "collapsed": false
   }
  },
  {
   "cell_type": "code",
   "execution_count": null,
   "outputs": [],
   "source": [
    "from pathlib import Path\n",
    "\n",
    "# TODO: For final evaluation, use the full corpus.\n",
    "# corpus_dir = Path(\"/mnt/ceph/storage/data-in-progress/data-research/web-search/web-archive-query-log/focused/corpus/\")\n",
    "corpus_dir = Path(\"/mnt/ceph/storage/data-in-progress/data-research/web-search/web-archive-query-log/focused/sample-corpus/\")\n",
    "queries_dir = corpus_dir / \"queries\""
   ],
   "metadata": {
    "collapsed": false
   }
  },
  {
   "cell_type": "code",
   "execution_count": null,
   "outputs": [],
   "source": [
    "from pathlib import Path\n",
    "\n",
    "figures_dir = Path(\"figures\")\n",
    "figures_dir.mkdir(parents=True, exist_ok=True)"
   ],
   "metadata": {
    "collapsed": false
   }
  },
  {
   "cell_type": "code",
   "execution_count": null,
   "outputs": [],
   "source": [
    "def characteristics(query: dict) -> tuple:\n",
    "    return (\n",
    "        query[\"service\"],\n",
    "    )"
   ],
   "metadata": {
    "collapsed": false
   }
  },
  {
   "cell_type": "code",
   "execution_count": null,
   "outputs": [],
   "source": [
    "from json import loads\n",
    "\n",
    "def length_counts():\n",
    "    return sc.textFile(f\"file://{queries_dir}\")\\\n",
    "        .map(lambda line: loads(line))\\\n",
    "        .filter(lambda query: query[\"url_query\"] is not None) \\\n",
    "        .keyBy(lambda query: (len(query[\"url_query\"]), *characteristics(query)))\\\n",
    "        .countByKey()"
   ],
   "metadata": {
    "collapsed": false
   }
  },
  {
   "cell_type": "code",
   "execution_count": null,
   "outputs": [],
   "source": [
    "from pandas import DataFrame\n",
    "\n",
    "df = DataFrame([\n",
    "    {\n",
    "        \"query_length\": length,\n",
    "        \"service\": service,\n",
    "        \"count\": count,\n",
    "    }\n",
    "    for (length, service), count in length_counts().items()\n",
    "])\n",
    "df"
   ],
   "metadata": {
    "collapsed": false
   }
  },
  {
   "cell_type": "code",
   "execution_count": null,
   "outputs": [],
   "source": [
    "from seaborn import histplot, kdeplot\n",
    "from matplotlib.figure import Figure\n",
    "from matplotlib.pyplot import subplots\n",
    "\n",
    "fig: Figure\n",
    "fig, ax = subplots()\n",
    "# fig.tight_layout()\n",
    "df_vis = df[df[\"count\"] <= 100].iloc[:10]\n",
    "histplot(\n",
    "    data=df_vis,\n",
    "    x=\"query_length\",\n",
    "    weights=\"count\",\n",
    "    hue=\"service\",\n",
    "    bins=False,\n",
    "    ax=ax,\n",
    ")\n",
    "ax.set_xlabel(\"query length\")\n",
    "ax.set_ylabel(\"count\")\n",
    "# fig.savefig(figures_dir / \"query-length-histogram.pdf\")\n",
    "fig.savefig(figures_dir / \"query-length-histogram.png\")\n",
    "ax"
   ],
   "metadata": {
    "collapsed": false
   }
  },
  {
   "cell_type": "code",
   "execution_count": null,
   "outputs": [],
   "source": [],
   "metadata": {
    "collapsed": false
   }
  }
 ],
 "metadata": {
  "kernelspec": {
   "display_name": "Python 3",
   "language": "python",
   "name": "python3"
  },
  "language_info": {
   "codemirror_mode": {
    "name": "ipython",
    "version": 2
   },
   "file_extension": ".py",
   "mimetype": "text/x-python",
   "name": "python",
   "nbconvert_exporter": "python",
   "pygments_lexer": "ipython2",
   "version": "2.7.6"
  }
 },
 "nbformat": 4,
 "nbformat_minor": 0
}
