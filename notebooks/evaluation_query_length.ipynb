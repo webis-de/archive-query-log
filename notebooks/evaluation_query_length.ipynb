{
 "cells": [
  {
   "cell_type": "code",
   "execution_count": 14,
   "metadata": {},
   "outputs": [],
   "source": [
    "from os import environ\n",
    "from pathlib import Path\n",
    "from pyspark import SparkConf\n",
    "from pyspark.sql import SparkSession\n",
    "\n",
    "environ['PYSPARK_PYTHON'] = \"/mnt/ceph/storage/data-in-progress/data-research/web-search/web-archive-query-log/venv/bin/python\"\n",
    "session = SparkSession.builder\\\n",
    "    .master(\"yarn\")\\\n",
    "    .appName(\"web-archive-query-log-query-length\")\\\n",
    "    .config(\"spark.executor.instances\", 3)\\\n",
    "    .getOrCreate()"
   ]
  },
  {
   "cell_type": "code",
   "execution_count": 15,
   "metadata": {},
   "outputs": [
    {
     "data": {
      "text/html": [
       "\n",
       "        <div>\n",
       "            <p><b>SparkContext</b></p>\n",
       "\n",
       "            <p><a href=\"http://10.23.88.185:4040\">Spark UI</a></p>\n",
       "\n",
       "            <dl>\n",
       "              <dt>Version</dt>\n",
       "                <dd><code>v3.2.1</code></dd>\n",
       "              <dt>Master</dt>\n",
       "                <dd><code>yarn</code></dd>\n",
       "              <dt>AppName</dt>\n",
       "                <dd><code>web-archive-query-log-query-length</code></dd>\n",
       "            </dl>\n",
       "        </div>\n",
       "        "
      ],
      "text/plain": [
       "<SparkContext master=yarn appName=web-archive-query-log-query-length>"
      ]
     },
     "execution_count": 15,
     "metadata": {},
     "output_type": "execute_result"
    }
   ],
   "source": [
    "sc = session.sparkContext\n",
    "sc"
   ]
  },
  {
   "cell_type": "code",
   "execution_count": 16,
   "metadata": {
    "collapsed": false,
    "jupyter": {
     "outputs_hidden": false
    }
   },
   "outputs": [],
   "source": [
    "from pathlib import Path\n",
    "\n",
    "# TODO: For final evaluation, use the full corpus.\n",
    "# corpus_dir = Path(\"/mnt/ceph/storage/data-in-progress/data-research/web-search/web-archive-query-log/focused/corpus\")\n",
    "# queries_dir = corpus_dir / \"queries-2023-02-14\"\n",
    "corpus_dir = Path(\"/mnt/ceph/storage/data-in-progress/data-research/web-search/web-archive-query-log/focused/sample-corpus\")\n",
    "queries_dir = corpus_dir / \"queries\""
   ]
  },
  {
   "cell_type": "code",
   "execution_count": 17,
   "metadata": {
    "collapsed": false,
    "jupyter": {
     "outputs_hidden": false
    }
   },
   "outputs": [],
   "source": [
    "from pathlib import Path\n",
    "\n",
    "figures_dir = Path(\"figures\")\n",
    "figures_dir.mkdir(parents=True, exist_ok=True)"
   ]
  },
  {
   "cell_type": "code",
   "execution_count": 18,
   "metadata": {},
   "outputs": [],
   "source": [
    "def detect_language(text: str) -> str:\n",
    "    from ftlangdetect import detect\n",
    "    text = text.replace(\"\\n\", \" \")\n",
    "    language = detect(text)\n",
    "    if language[\"score\"] < 0.5:\n",
    "        return None\n",
    "    return language[\"lang\"]"
   ]
  },
  {
   "cell_type": "code",
   "execution_count": 19,
   "metadata": {
    "collapsed": false,
    "jupyter": {
     "outputs_hidden": false
    }
   },
   "outputs": [],
   "source": [
    "from json import loads\n",
    "from pandas import DataFrame\n",
    "\n",
    "counts = sc.textFile(f\"file://{queries_dir}\")\\\n",
    "    .map(lambda line: loads(line))\\\n",
    "    .filter(lambda query: query[\"url_query\"] is not None) \\\n",
    "    .keyBy(lambda query: (\n",
    "        len(query[\"url_query\"]),\n",
    "        query[\"service\"],\n",
    "        detect_language(query[\"url_query\"])\n",
    "    ))\\\n",
    "    .countByKey()"
   ]
  },
  {
   "cell_type": "code",
   "execution_count": 20,
   "metadata": {},
   "outputs": [
    {
     "data": {
      "text/html": [
       "<div>\n",
       "<style scoped>\n",
       "    .dataframe tbody tr th:only-of-type {\n",
       "        vertical-align: middle;\n",
       "    }\n",
       "\n",
       "    .dataframe tbody tr th {\n",
       "        vertical-align: top;\n",
       "    }\n",
       "\n",
       "    .dataframe thead th {\n",
       "        text-align: right;\n",
       "    }\n",
       "</style>\n",
       "<table border=\"1\" class=\"dataframe\">\n",
       "  <thead>\n",
       "    <tr style=\"text-align: right;\">\n",
       "      <th></th>\n",
       "      <th>url_query_length</th>\n",
       "      <th>service</th>\n",
       "      <th>language</th>\n",
       "      <th>count</th>\n",
       "    </tr>\n",
       "  </thead>\n",
       "  <tbody>\n",
       "    <tr>\n",
       "      <th>0</th>\n",
       "      <td>14</td>\n",
       "      <td>baidu</td>\n",
       "      <td>None</td>\n",
       "      <td>17467</td>\n",
       "    </tr>\n",
       "    <tr>\n",
       "      <th>1</th>\n",
       "      <td>13</td>\n",
       "      <td>baidu</td>\n",
       "      <td>None</td>\n",
       "      <td>55</td>\n",
       "    </tr>\n",
       "    <tr>\n",
       "      <th>2</th>\n",
       "      <td>31</td>\n",
       "      <td>google</td>\n",
       "      <td>en</td>\n",
       "      <td>396</td>\n",
       "    </tr>\n",
       "    <tr>\n",
       "      <th>3</th>\n",
       "      <td>41</td>\n",
       "      <td>google</td>\n",
       "      <td>en</td>\n",
       "      <td>181</td>\n",
       "    </tr>\n",
       "    <tr>\n",
       "      <th>4</th>\n",
       "      <td>26</td>\n",
       "      <td>google</td>\n",
       "      <td>en</td>\n",
       "      <td>574</td>\n",
       "    </tr>\n",
       "    <tr>\n",
       "      <th>...</th>\n",
       "      <td>...</td>\n",
       "      <td>...</td>\n",
       "      <td>...</td>\n",
       "      <td>...</td>\n",
       "    </tr>\n",
       "    <tr>\n",
       "      <th>13454</th>\n",
       "      <td>27</td>\n",
       "      <td>youtube</td>\n",
       "      <td>sah</td>\n",
       "      <td>1</td>\n",
       "    </tr>\n",
       "    <tr>\n",
       "      <th>13459</th>\n",
       "      <td>82</td>\n",
       "      <td>google</td>\n",
       "      <td>fr</td>\n",
       "      <td>1</td>\n",
       "    </tr>\n",
       "    <tr>\n",
       "      <th>13468</th>\n",
       "      <td>115</td>\n",
       "      <td>google</td>\n",
       "      <td>he</td>\n",
       "      <td>1</td>\n",
       "    </tr>\n",
       "    <tr>\n",
       "      <th>13476</th>\n",
       "      <td>38</td>\n",
       "      <td>google</td>\n",
       "      <td>ja</td>\n",
       "      <td>1</td>\n",
       "    </tr>\n",
       "    <tr>\n",
       "      <th>13477</th>\n",
       "      <td>23</td>\n",
       "      <td>youtube</td>\n",
       "      <td>kk</td>\n",
       "      <td>1</td>\n",
       "    </tr>\n",
       "  </tbody>\n",
       "</table>\n",
       "<p>4219 rows × 4 columns</p>\n",
       "</div>"
      ],
      "text/plain": [
       "       url_query_length  service language  count\n",
       "0                    14    baidu     None  17467\n",
       "1                    13    baidu     None     55\n",
       "2                    31   google       en    396\n",
       "3                    41   google       en    181\n",
       "4                    26   google       en    574\n",
       "...                 ...      ...      ...    ...\n",
       "13454                27  youtube      sah      1\n",
       "13459                82   google       fr      1\n",
       "13468               115   google       he      1\n",
       "13476                38   google       ja      1\n",
       "13477                23  youtube       kk      1\n",
       "\n",
       "[4219 rows x 4 columns]"
      ]
     },
     "execution_count": 20,
     "metadata": {},
     "output_type": "execute_result"
    }
   ],
   "source": [
    "from numpy import percentile\n",
    "\n",
    "df = DataFrame([\n",
    "    {\n",
    "        \"url_query_length\": url_query_length,\n",
    "        \"service\": service,\n",
    "        \"language\": language,\n",
    "        \"count\": count,\n",
    "    }\n",
    "    for (url_query_length, service, language), count in counts.items()\n",
    "])\n",
    "services = sorted(\n",
    "    df[\"service\"].unique(),\n",
    "    key=lambda service: df[df[\"service\"] == service][\"count\"].sum(),\n",
    "    reverse=True,\n",
    ")[:5]\n",
    "df = df[df[\"service\"].isin(services)]\n",
    "df"
   ]
  },
  {
   "cell_type": "code",
   "execution_count": null,
   "metadata": {
    "collapsed": false,
    "jupyter": {
     "outputs_hidden": false
    }
   },
   "outputs": [
    {
     "name": "stderr",
     "output_type": "stream",
     "text": [
      "/opt/conda/lib/python3.8/site-packages/seaborn/distributions.py:269: FutureWarning: In a future version, `df.iloc[:, i] = newvals` will attempt to set the values inplace instead of always setting a new array. To retain the old behavior, use either `df[df.columns[i]] = newvals` or, if columns are non-unique, `df.isetitem(i, newvals)`\n",
      "  baselines.iloc[:, cols] = (curves\n"
     ]
    }
   ],
   "source": [
    "from seaborn import displot\n",
    "\n",
    "plot = displot(\n",
    "    data=df.rename(columns={\n",
    "        \"url_query_length\": \"Query Length\",\n",
    "        \"count\": \"Count\",\n",
    "        \"service\": \"Service\",\n",
    "    }),\n",
    "    x=\"Query Length\",\n",
    "    weights=\"Count\",\n",
    "    hue=\"Service\",\n",
    "    binwidth=1,\n",
    "    multiple=\"stack\",\n",
    "    aspect=2,\n",
    "    linewidth=0,\n",
    ")\n",
    "plot.set_axis_labels(\"Query Length\", \"Count\")\n",
    "plot.savefig(figures_dir / \"query-length-histogram.pdf\")\n",
    "plot.savefig(figures_dir / \"query-length-histogram.png\")\n",
    "plot"
   ]
  },
  {
   "cell_type": "code",
   "execution_count": null,
   "metadata": {},
   "outputs": [],
   "source": [
    "# from numpy import percentile\n",
    "\n",
    "# df2 = df.copy()\n",
    "# df2[\"count\"] = df2[\"count\"].clip(upper=percentile(df[\"count\"], 99))\n",
    "# df2"
   ]
  },
  {
   "cell_type": "code",
   "execution_count": null,
   "metadata": {},
   "outputs": [],
   "source": [
    "# from seaborn import displot\n",
    "\n",
    "# plot = displot(\n",
    "#     data=df2.rename(columns={\n",
    "#         \"url_query_length\": \"Query Length\",\n",
    "#         \"count\": \"Count\",\n",
    "#         \"service\": \"Service\",\n",
    "#     }),\n",
    "#     x=\"Query Length\",\n",
    "#     weights=\"Count\",\n",
    "#     hue=\"Service\",\n",
    "#     binwidth=1,\n",
    "#     multiple=\"stack\",\n",
    "#     aspect=2,\n",
    "#     linewidth=0,\n",
    "# )\n",
    "# plot.savefig(figures_dir / \"query-length-histogram-without-outliers.pdf\")\n",
    "# plot.savefig(figures_dir / \"query-length-histogram-without-outliers.png\")\n",
    "# plot"
   ]
  },
  {
   "cell_type": "code",
   "execution_count": null,
   "metadata": {},
   "outputs": [],
   "source": []
  },
  {
   "cell_type": "code",
   "execution_count": null,
   "metadata": {},
   "outputs": [],
   "source": []
  }
 ],
 "metadata": {
  "kernelspec": {
   "display_name": "Python 3",
   "language": "python",
   "name": "python3"
  },
  "language_info": {
   "codemirror_mode": {
    "name": "ipython",
    "version": 3
   },
   "file_extension": ".py",
   "mimetype": "text/x-python",
   "name": "python",
   "nbconvert_exporter": "python",
   "pygments_lexer": "ipython3",
   "version": "3.8.13"
  }
 },
 "nbformat": 4,
 "nbformat_minor": 4
}
