{
 "cells": [
  {
   "cell_type": "code",
   "execution_count": 1,
   "id": "0fb4e80c-ae8f-41e1-8fcb-02aa35a8491b",
   "metadata": {},
   "outputs": [],
   "source": [
    "from os import environ\n",
    "import json\n",
    "from pyspark.sql import SparkSession\n",
    "from pathlib import Path\n",
    "import pandas as pd\n",
    "import yaml\n",
    "\n",
    "environ[\n",
    "    'PYSPARK_PYTHON'] = \"/mnt/ceph/storage/data-in-progress/data-research/web-search/web-archive-query-log/venv/bin/python\"\n",
    "session = SparkSession.builder \\\n",
    "    .master(\"yarn\") \\\n",
    "    .appName(\"obscene_queries\") \\\n",
    "    .config(\"spark.executor.instances\", 3) \\\n",
    "    .getOrCreate()"
   ]
  },
  {
   "cell_type": "code",
   "execution_count": 2,
   "id": "38d04ed5-5c98-4b6a-9ffa-a23d1349d376",
   "metadata": {},
   "outputs": [
    {
     "data": {
      "text/html": [
       "\n",
       "        <div>\n",
       "            <p><b>SparkContext</b></p>\n",
       "\n",
       "            <p><a href=\"http://10.23.202.78:4040\">Spark UI</a></p>\n",
       "\n",
       "            <dl>\n",
       "              <dt>Version</dt>\n",
       "                <dd><code>v3.2.1</code></dd>\n",
       "              <dt>Master</dt>\n",
       "                <dd><code>yarn</code></dd>\n",
       "              <dt>AppName</dt>\n",
       "                <dd><code>obscene_queries</code></dd>\n",
       "            </dl>\n",
       "        </div>\n",
       "        "
      ],
      "text/plain": [
       "<SparkContext master=yarn appName=obscene_queries>"
      ]
     },
     "execution_count": 2,
     "metadata": {},
     "output_type": "execute_result"
    }
   ],
   "source": [
    "sc = session.sparkContext\n",
    "sc"
   ]
  },
  {
   "cell_type": "code",
   "execution_count": 3,
   "id": "7b6fe4f4-b3aa-4c38-8a18-2f4b5e69a726",
   "metadata": {},
   "outputs": [
    {
     "data": {
      "text/plain": [
       "PosixPath('/mnt/ceph/storage/data-in-progress/data-research/web-search/web-archive-query-log/focused/sample-corpus/queries-2023-02-16')"
      ]
     },
     "execution_count": 3,
     "metadata": {},
     "output_type": "execute_result"
    }
   ],
   "source": [
    "# TODO: For final evaluation, use the full corpus.\n",
    "# corpus_dir = Path(\"/mnt/ceph/storage/data-in-progress/data-research/web-search/web-archive-query-log/focused/corpus\")\n",
    "# queries_dir = corpus_dir / \"queries-2023-02-14\"\n",
    "corpus_dir = Path(\n",
    "    \"/mnt/ceph/storage/data-in-progress/data-research/web-search/web-archive-query-log/focused/sample-corpus\")\n",
    "queries_dir = corpus_dir / \"queries-2023-02-16\"\n",
    "queries_dir"
   ]
  },
  {
   "cell_type": "code",
   "execution_count": 4,
   "id": "f3dc6916-518e-459d-9a58-58ab9f73e577",
   "metadata": {},
   "outputs": [],
   "source": [
    "figures_dir = Path(\"figures\")\n",
    "figures_dir.mkdir(parents=True, exist_ok=True)"
   ]
  },
  {
   "cell_type": "code",
   "execution_count": 5,
   "id": "be3182a1-a01c-4df7-b442-36d6d5546ed0",
   "metadata": {},
   "outputs": [],
   "source": [
    "def adapt_query(query: dict) -> tuple:\n",
    "    query_text = query[\"url_query\"].lower()\n",
    "    query_text = query_text.replace('+', ' ').replace('-', ' ').replace('|', ' ').replace('_', ' ')\n",
    "    query_text = query_text.replace('[^\\w\\s]','')\n",
    "    return query[\"service\"],   query[\"language\"], query_text"
   ]
  },
  {
   "cell_type": "code",
   "execution_count": 6,
   "id": "5adbcbb9-c614-406d-b3d1-49cd3ac10c3b",
   "metadata": {},
   "outputs": [],
   "source": [
    "# Get all queries to construct a  set of query terms\n",
    "queries = sc.textFile(f\"file://{queries_dir}\") \\\n",
    "    .map(lambda line: json.loads(line)) \\\n",
    "    .filter(lambda query: query[\"url_query\"] is not None) \\\n",
    "    .keyBy(lambda query: query[\"id\"]) \\\n",
    "    .mapValues(adapt_query)"
   ]
  },
  {
   "cell_type": "code",
   "execution_count": 7,
   "id": "cd873ad0-bc33-43e1-b5f2-bf24fd5e0945",
   "metadata": {},
   "outputs": [],
   "source": [
    "# Use list of obscene words (https://github.com/LDNOOBW/List-of-Dirty-Naughty-Obscene-and-Otherwise-Bad-Words)\n",
    "with open(\"obscene_words.json\", \"r\") as file:\n",
    "    obscene_words = json.load(file)"
   ]
  },
  {
   "cell_type": "code",
   "execution_count": 9,
   "id": "aeb058bb-9f56-4977-b185-993c347dab63",
   "metadata": {},
   "outputs": [],
   "source": [
    "def check_obscenity(row: tuple, obscene_words: dict) -> tuple:\n",
    "    language = row[1][1]\n",
    "    words = obscene_words[language] if language in obscene_words else obscene_words[\"en\"] \n",
    "    obscene = False\n",
    "    tokens = row[1][2].split()\n",
    "    if any(token in words for token in tokens):\n",
    "        obscene = True\n",
    "    return *row, obscene"
   ]
  },
  {
   "cell_type": "code",
   "execution_count": 10,
   "id": "76ee1f55-9be3-4d0f-912a-dd09ef35a673",
   "metadata": {},
   "outputs": [],
   "source": [
    "# Check all queries for obscenity in their respective language (and english as fallback)\n",
    "checked_queries = queries \\\n",
    "    .map(lambda row: check_obscenity(row, obscene_words)) \\\n",
    "    .countByValue()"
   ]
  },
  {
   "cell_type": "code",
   "execution_count": 11,
   "id": "8741dc68-d6da-453d-9252-78f242b13bdc",
   "metadata": {},
   "outputs": [],
   "source": [
    "df = pd.DataFrame([\n",
    "    {\n",
    "        \"service\": service,\n",
    "        \"language\": language,\n",
    "        \"query\": query,\n",
    "        \"obscene\": obscene,\n",
    "        \"count\": count\n",
    "    }\n",
    "    for (_, (service, language, query), obscene), count in checked_queries.items()\n",
    "])"
   ]
  },
  {
   "cell_type": "code",
   "execution_count": 12,
   "id": "3787ad77-984f-4177-94b5-c7789e5b0c31",
   "metadata": {},
   "outputs": [],
   "source": [
    "yaml_path = \"../data/selected-services.yaml\"\n",
    "with open(yaml_path, \"r\") as file:\n",
    "    yaml_list = yaml.safe_load(file)\n",
    "    \n",
    "category_dict = {}\n",
    "for elem in yaml_list:\n",
    "    category_dict[elem[\"name\"]] = elem[\"category\"]"
   ]
  },
  {
   "cell_type": "code",
   "execution_count": 13,
   "id": "a2704aa1-197f-47a4-acd4-2a6a73d8b8a1",
   "metadata": {},
   "outputs": [],
   "source": [
    "# TODO: Standardize naming\n",
    "df.loc[df[\"service\"] == \"search\", \"service\"] = \"search-ch\"\n",
    "df.loc[df[\"service\"] == \"mail.ru\", \"service\"] = \"mail\"\n",
    "df[\"category\"] = df.apply(lambda row: category_dict[row[\"service\"]], axis=1)"
   ]
  },
  {
   "cell_type": "code",
   "execution_count": 14,
   "id": "0edc46de-09ff-4d59-8275-8cd82a468a60",
   "metadata": {},
   "outputs": [],
   "source": [
    "non_obscene_service = df.loc[~df[\"obscene\"]].groupby(\"service\")[\"count\"].sum()\n",
    "obscene_service = df.loc[df[\"obscene\"]].groupby(\"service\")[\"count\"].sum()\n",
    "\n",
    "service_df = pd.concat([obscene_service.rename(\"obscene\"), non_obscene_service.rename(\"non-obscene\")], join=\"outer\", axis=1)\n",
    "service_df = service_df.reset_index()\n",
    "service_df.fillna(0, inplace=True)"
   ]
  },
  {
   "cell_type": "code",
   "execution_count": 15,
   "id": "d680092a-dd04-4515-b4ac-6b797dab3053",
   "metadata": {},
   "outputs": [],
   "source": [
    "non_obscene_category = df.loc[~df[\"obscene\"]].groupby(\"category\")[\"count\"].sum()\n",
    "obscene_category = df.loc[df[\"obscene\"]].groupby(\"category\")[\"count\"].sum()\n",
    "category_df = pd.concat([obscene_category.rename(\"obscene\"), non_obscene_category.rename(\"non-obscene\")], join=\"outer\", axis=1)\n",
    "category_df = category_df.reset_index()\n",
    "category_df.fillna(0, inplace=True)"
   ]
  },
  {
   "cell_type": "code",
   "execution_count": 17,
   "id": "54cbe199-4928-48ae-b982-555beaab3adc",
   "metadata": {},
   "outputs": [],
   "source": [
    "service_df[\"share\"] = service_df[\"obscene\"] / (service_df[\"obscene\"] + service_df[\"non-obscene\"])\n",
    "category_df[\"share\"] = category_df[\"obscene\"] / (category_df[\"obscene\"] + category_df[\"non-obscene\"])\n",
    "category_df.sort_values(\"share\", ascending=False, inplace=True)\n",
    "service_df.sort_values(\"share\", ascending=False, inplace=True)"
   ]
  },
  {
   "cell_type": "code",
   "execution_count": 156,
   "id": "64a69937-9509-42bc-871c-c6ad3ea3a22e",
   "metadata": {},
   "outputs": [],
   "source": [
    "category_df.to_csv(\"./figures/obsenity_categories.csv\")\n",
    "service_df.to_csv(\"./figures/obsenity_services.csv\")"
   ]
  },
  {
   "cell_type": "code",
   "execution_count": 20,
   "id": "103a9577-10e1-495d-b125-16d368d967bb",
   "metadata": {},
   "outputs": [
    {
     "data": {
      "text/html": [
       "<div>\n",
       "<style scoped>\n",
       "    .dataframe tbody tr th:only-of-type {\n",
       "        vertical-align: middle;\n",
       "    }\n",
       "\n",
       "    .dataframe tbody tr th {\n",
       "        vertical-align: top;\n",
       "    }\n",
       "\n",
       "    .dataframe thead th {\n",
       "        text-align: right;\n",
       "    }\n",
       "</style>\n",
       "<table border=\"1\" class=\"dataframe\">\n",
       "  <thead>\n",
       "    <tr style=\"text-align: right;\">\n",
       "      <th></th>\n",
       "      <th>category</th>\n",
       "      <th>obscene</th>\n",
       "      <th>non-obscene</th>\n",
       "      <th>share</th>\n",
       "    </tr>\n",
       "  </thead>\n",
       "  <tbody>\n",
       "    <tr>\n",
       "      <th>9</th>\n",
       "      <td>pornography</td>\n",
       "      <td>1637.0</td>\n",
       "      <td>6947</td>\n",
       "      <td>0.190704</td>\n",
       "    </tr>\n",
       "    <tr>\n",
       "      <th>13</th>\n",
       "      <td>torrent</td>\n",
       "      <td>10.0</td>\n",
       "      <td>258</td>\n",
       "      <td>0.037313</td>\n",
       "    </tr>\n",
       "    <tr>\n",
       "      <th>5</th>\n",
       "      <td>forum</td>\n",
       "      <td>5.0</td>\n",
       "      <td>169</td>\n",
       "      <td>0.028736</td>\n",
       "    </tr>\n",
       "    <tr>\n",
       "      <th>6</th>\n",
       "      <td>gaming</td>\n",
       "      <td>1.0</td>\n",
       "      <td>71</td>\n",
       "      <td>0.013889</td>\n",
       "    </tr>\n",
       "    <tr>\n",
       "      <th>2</th>\n",
       "      <td>database</td>\n",
       "      <td>5.0</td>\n",
       "      <td>379</td>\n",
       "      <td>0.013021</td>\n",
       "    </tr>\n",
       "  </tbody>\n",
       "</table>\n",
       "</div>"
      ],
      "text/plain": [
       "       category  obscene  non-obscene     share\n",
       "9   pornography   1637.0         6947  0.190704\n",
       "13      torrent     10.0          258  0.037313\n",
       "5         forum      5.0          169  0.028736\n",
       "6        gaming      1.0           71  0.013889\n",
       "2      database      5.0          379  0.013021"
      ]
     },
     "execution_count": 20,
     "metadata": {},
     "output_type": "execute_result"
    }
   ],
   "source": [
    "category_df.head()"
   ]
  },
  {
   "cell_type": "code",
   "execution_count": 21,
   "id": "5acd465d-1977-4a06-b42d-46e6f7eb2a90",
   "metadata": {},
   "outputs": [
    {
     "data": {
      "text/html": [
       "<div>\n",
       "<style scoped>\n",
       "    .dataframe tbody tr th:only-of-type {\n",
       "        vertical-align: middle;\n",
       "    }\n",
       "\n",
       "    .dataframe tbody tr th {\n",
       "        vertical-align: top;\n",
       "    }\n",
       "\n",
       "    .dataframe thead th {\n",
       "        text-align: right;\n",
       "    }\n",
       "</style>\n",
       "<table border=\"1\" class=\"dataframe\">\n",
       "  <thead>\n",
       "    <tr style=\"text-align: right;\">\n",
       "      <th></th>\n",
       "      <th>service</th>\n",
       "      <th>obscene</th>\n",
       "      <th>non-obscene</th>\n",
       "      <th>share</th>\n",
       "    </tr>\n",
       "  </thead>\n",
       "  <tbody>\n",
       "    <tr>\n",
       "      <th>48</th>\n",
       "      <td>pornez</td>\n",
       "      <td>1.0</td>\n",
       "      <td>0.0</td>\n",
       "      <td>1.000000</td>\n",
       "    </tr>\n",
       "    <tr>\n",
       "      <th>73</th>\n",
       "      <td>xxxhdvideo</td>\n",
       "      <td>6.0</td>\n",
       "      <td>4.0</td>\n",
       "      <td>0.600000</td>\n",
       "    </tr>\n",
       "    <tr>\n",
       "      <th>17</th>\n",
       "      <td>bongacams</td>\n",
       "      <td>38.0</td>\n",
       "      <td>32.0</td>\n",
       "      <td>0.542857</td>\n",
       "    </tr>\n",
       "    <tr>\n",
       "      <th>72</th>\n",
       "      <td>xvideos2</td>\n",
       "      <td>1.0</td>\n",
       "      <td>1.0</td>\n",
       "      <td>0.500000</td>\n",
       "    </tr>\n",
       "    <tr>\n",
       "      <th>10</th>\n",
       "      <td>ashemaletube</td>\n",
       "      <td>21.0</td>\n",
       "      <td>22.0</td>\n",
       "      <td>0.488372</td>\n",
       "    </tr>\n",
       "  </tbody>\n",
       "</table>\n",
       "</div>"
      ],
      "text/plain": [
       "         service  obscene  non-obscene     share\n",
       "48        pornez      1.0          0.0  1.000000\n",
       "73    xxxhdvideo      6.0          4.0  0.600000\n",
       "17     bongacams     38.0         32.0  0.542857\n",
       "72      xvideos2      1.0          1.0  0.500000\n",
       "10  ashemaletube     21.0         22.0  0.488372"
      ]
     },
     "execution_count": 21,
     "metadata": {},
     "output_type": "execute_result"
    }
   ],
   "source": [
    "service_df.head()"
   ]
  },
  {
   "cell_type": "code",
   "execution_count": null,
   "id": "58072055-8307-48bb-864b-850aeb0cf908",
   "metadata": {},
   "outputs": [],
   "source": []
  }
 ],
 "metadata": {
  "kernelspec": {
   "display_name": "Python 3",
   "language": "python",
   "name": "python3"
  },
  "language_info": {
   "codemirror_mode": {
    "name": "ipython",
    "version": 3
   },
   "file_extension": ".py",
   "mimetype": "text/x-python",
   "name": "python",
   "nbconvert_exporter": "python",
   "pygments_lexer": "ipython3",
   "version": "3.8.13"
  }
 },
 "nbformat": 4,
 "nbformat_minor": 5
}
