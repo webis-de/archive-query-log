{
 "cells": [
  {
   "cell_type": "code",
   "execution_count": 1,
   "id": "0fb4e80c-ae8f-41e1-8fcb-02aa35a8491b",
   "metadata": {},
   "outputs": [],
   "source": [
    "from os import environ\n",
    "import json\n",
    "from pyspark.sql import SparkSession\n",
    "from pathlib import Path\n",
    "import pandas as pd\n",
    "import yaml\n",
    "import re\n",
    "\n",
    "environ[\n",
    "    'PYSPARK_PYTHON'] = \"/mnt/ceph/storage/data-in-progress/data-research/web-search/web-archive-query-log/venv/bin/python\"\n",
    "session = SparkSession.builder \\\n",
    "    .master(\"yarn\") \\\n",
    "    .appName(\"obscene_queries\") \\\n",
    "    .config(\"spark.executor.instances\", 3) \\\n",
    "    .getOrCreate()"
   ]
  },
  {
   "cell_type": "code",
   "execution_count": 2,
   "id": "38d04ed5-5c98-4b6a-9ffa-a23d1349d376",
   "metadata": {},
   "outputs": [
    {
     "data": {
      "text/html": [
       "\n",
       "        <div>\n",
       "            <p><b>SparkContext</b></p>\n",
       "\n",
       "            <p><a href=\"http://10.23.202.78:4040\">Spark UI</a></p>\n",
       "\n",
       "            <dl>\n",
       "              <dt>Version</dt>\n",
       "                <dd><code>v3.2.1</code></dd>\n",
       "              <dt>Master</dt>\n",
       "                <dd><code>yarn</code></dd>\n",
       "              <dt>AppName</dt>\n",
       "                <dd><code>obscene_queries</code></dd>\n",
       "            </dl>\n",
       "        </div>\n",
       "        "
      ],
      "text/plain": [
       "<SparkContext master=yarn appName=obscene_queries>"
      ]
     },
     "execution_count": 2,
     "metadata": {},
     "output_type": "execute_result"
    }
   ],
   "source": [
    "sc = session.sparkContext\n",
    "sc"
   ]
  },
  {
   "cell_type": "code",
   "execution_count": 3,
   "id": "7b6fe4f4-b3aa-4c38-8a18-2f4b5e69a726",
   "metadata": {},
   "outputs": [
    {
     "data": {
      "text/plain": [
       "PosixPath('/mnt/ceph/storage/data-in-progress/data-research/web-search/web-archive-query-log/focused/sample-corpus/queries-2023-02-16')"
      ]
     },
     "execution_count": 3,
     "metadata": {},
     "output_type": "execute_result"
    }
   ],
   "source": [
    "# TODO: For final evaluation, use the full corpus.\n",
    "# corpus_dir = Path(\"/mnt/ceph/storage/data-in-progress/data-research/web-search/web-archive-query-log/focused/corpus\")\n",
    "# queries_dir = corpus_dir / \"queries-2023-02-14\"\n",
    "corpus_dir = Path(\n",
    "    \"/mnt/ceph/storage/data-in-progress/data-research/web-search/web-archive-query-log/focused/sample-corpus\")\n",
    "queries_dir = corpus_dir / \"queries-2023-02-16\"\n",
    "queries_dir"
   ]
  },
  {
   "cell_type": "code",
   "execution_count": 4,
   "id": "f3dc6916-518e-459d-9a58-58ab9f73e577",
   "metadata": {},
   "outputs": [],
   "source": [
    "figures_dir = Path(\"figures\")\n",
    "figures_dir.mkdir(parents=True, exist_ok=True)"
   ]
  },
  {
   "cell_type": "code",
   "execution_count": 5,
   "id": "be3182a1-a01c-4df7-b442-36d6d5546ed0",
   "metadata": {},
   "outputs": [],
   "source": [
    "def adapt_query(query: dict) -> tuple:\n",
    "    query_text = query[\"url_query\"].lower()\n",
    "    query_text = query_text.replace('+', ' ').replace('-', ' ').replace('|', ' ').replace('_', ' ')\n",
    "    query_text = query_text.replace('[^\\w\\s]','')\n",
    "    return query[\"service\"],   query[\"language\"], query_text"
   ]
  },
  {
   "cell_type": "code",
   "execution_count": 6,
   "id": "5adbcbb9-c614-406d-b3d1-49cd3ac10c3b",
   "metadata": {},
   "outputs": [],
   "source": [
    "# Get all queries to construct a  set of query terms\n",
    "queries = sc.textFile(f\"file://{queries_dir}\") \\\n",
    "    .map(lambda line: json.loads(line)) \\\n",
    "    .filter(lambda query: query[\"url_query\"] is not None) \\\n",
    "    .keyBy(lambda query: query[\"id\"]) \\\n",
    "    .mapValues(adapt_query)"
   ]
  },
  {
   "cell_type": "code",
   "execution_count": 7,
   "id": "cd873ad0-bc33-43e1-b5f2-bf24fd5e0945",
   "metadata": {},
   "outputs": [],
   "source": [
    "# Use list of obscene words (https://github.com/LDNOOBW/List-of-Dirty-Naughty-Obscene-and-Otherwise-Bad-Words)\n",
    "with open(\"obscene_words.json\", \"r\") as file:\n",
    "    obscene_words = json.load(file)"
   ]
  },
  {
   "cell_type": "code",
   "execution_count": 31,
   "id": "aeb058bb-9f56-4977-b185-993c347dab63",
   "metadata": {},
   "outputs": [],
   "source": [
    "def check_query(query: str, words: list, lan: str) -> bool:\n",
    "    obscene = False\n",
    "    if any(re.search(f'(?<!\\S){word}(?!\\S)', query) for word in words):\n",
    "        obscene = True\n",
    "    return obscene\n",
    "        \n",
    "\n",
    "def check_obscenity(row: tuple, obscene_words: dict) -> tuple:\n",
    "    language = row[1][1]\n",
    "    words = obscene_words[language] if language in obscene_words else []\n",
    "    query = row[1][2]\n",
    "    obscene = check_query(query, words, language)\n",
    "    if not obscene:\n",
    "        obs_en = False\n",
    "        obs_zh = False\n",
    "        if language != \"en\":\n",
    "            obs_en = check_query(query, obscene_words[\"en\"], \"en\")\n",
    "        if language != \"zh\":\n",
    "            obs_zh = check_query(query, obscene_words[\"zh\"][1:], \"zh\")\n",
    "        obscene = max(obs_en, obs_zh)\n",
    "    return *row, obscene"
   ]
  },
  {
   "cell_type": "code",
   "execution_count": null,
   "id": "76ee1f55-9be3-4d0f-912a-dd09ef35a673",
   "metadata": {},
   "outputs": [],
   "source": [
    "# Check all queries for obscenity in their respective language (and english as fallback)\n",
    "checked_queries = queries \\\n",
    "    .map(lambda row: check_obscenity(row, obscene_words)) \\\n",
    "    .countByValue()"
   ]
  },
  {
   "cell_type": "code",
   "execution_count": null,
   "id": "8741dc68-d6da-453d-9252-78f242b13bdc",
   "metadata": {},
   "outputs": [],
   "source": [
    "df = pd.DataFrame([\n",
    "    {\n",
    "        \"service\": service,\n",
    "        \"language\": language,\n",
    "        \"query\": query,\n",
    "        \"obscene\": obscene,\n",
    "        \"count\": count\n",
    "    }\n",
    "    for (_, (service, language, query), obscene), count in checked_queries.items()\n",
    "])"
   ]
  },
  {
   "cell_type": "code",
   "execution_count": null,
   "id": "3787ad77-984f-4177-94b5-c7789e5b0c31",
   "metadata": {},
   "outputs": [],
   "source": [
    "yaml_path = \"../data/selected-services.yaml\"\n",
    "with open(yaml_path, \"r\") as file:\n",
    "    yaml_list = yaml.safe_load(file)\n",
    "    \n",
    "category_dict = {}\n",
    "for elem in yaml_list:\n",
    "    category_dict[elem[\"name\"]] = elem[\"category\"]"
   ]
  },
  {
   "cell_type": "code",
   "execution_count": null,
   "id": "a2704aa1-197f-47a4-acd4-2a6a73d8b8a1",
   "metadata": {},
   "outputs": [],
   "source": [
    "# TODO: Standardize naming\n",
    "df.loc[df[\"service\"] == \"search\", \"service\"] = \"search-ch\"\n",
    "df.loc[df[\"service\"] == \"mail.ru\", \"service\"] = \"mail\"\n",
    "df[\"category\"] = df.apply(lambda row: category_dict[row[\"service\"]], axis=1)"
   ]
  },
  {
   "cell_type": "code",
   "execution_count": null,
   "id": "0edc46de-09ff-4d59-8275-8cd82a468a60",
   "metadata": {},
   "outputs": [],
   "source": [
    "non_obscene_service = df.loc[~df[\"obscene\"]].groupby(\"service\")[\"count\"].sum()\n",
    "obscene_service = df.loc[df[\"obscene\"]].groupby(\"service\")[\"count\"].sum()\n",
    "\n",
    "service_df = pd.concat([obscene_service.rename(\"obscene\"), non_obscene_service.rename(\"non-obscene\")], join=\"outer\", axis=1)\n",
    "service_df = service_df.reset_index()\n",
    "service_df.fillna(0, inplace=True)"
   ]
  },
  {
   "cell_type": "code",
   "execution_count": null,
   "id": "d680092a-dd04-4515-b4ac-6b797dab3053",
   "metadata": {},
   "outputs": [],
   "source": [
    "non_obscene_category = df.loc[~df[\"obscene\"]].groupby(\"category\")[\"count\"].sum()\n",
    "obscene_category = df.loc[df[\"obscene\"]].groupby(\"category\")[\"count\"].sum()\n",
    "\n",
    "category_df = pd.concat([obscene_category.rename(\"obscene\"), non_obscene_category.rename(\"non-obscene\")], join=\"outer\", axis=1)\n",
    "category_df = category_df.reset_index()\n",
    "category_df.fillna(0, inplace=True)"
   ]
  },
  {
   "cell_type": "code",
   "execution_count": null,
   "id": "54cbe199-4928-48ae-b982-555beaab3adc",
   "metadata": {},
   "outputs": [],
   "source": [
    "service_df[\"share\"] = service_df[\"obscene\"] / (service_df[\"obscene\"] + service_df[\"non-obscene\"])\n",
    "category_df[\"share\"] = category_df[\"obscene\"] / (category_df[\"obscene\"] + category_df[\"non-obscene\"])\n",
    "category_df.sort_values(\"share\", ascending=False, inplace=True)\n",
    "service_df.sort_values(\"share\", ascending=False, inplace=True)\n",
    "service_df[\"category\"] = service_df.apply(lambda row: category_dict[row[\"service\"]], axis=1)"
   ]
  },
  {
   "cell_type": "code",
   "execution_count": null,
   "id": "64a69937-9509-42bc-871c-c6ad3ea3a22e",
   "metadata": {},
   "outputs": [],
   "source": [
    "category_df.to_csv(\"./figures/obsenity_categories.csv\")\n",
    "service_df.to_csv(\"./figures/obsenity_services.csv\")"
   ]
  },
  {
   "cell_type": "code",
   "execution_count": null,
   "id": "103a9577-10e1-495d-b125-16d368d967bb",
   "metadata": {},
   "outputs": [],
   "source": [
    "category_df.loc[category_df[\"obscene\"]+category_df[\"non-obscene\"]>10].head()"
   ]
  },
  {
   "cell_type": "code",
   "execution_count": null,
   "id": "5acd465d-1977-4a06-b42d-46e6f7eb2a90",
   "metadata": {},
   "outputs": [],
   "source": [
    "service_df.loc[(service_df[\"obscene\"]+service_df[\"non-obscene\"]>50) & (service_df[\"category\"] != \"pornography\")].head()"
   ]
  },
  {
   "cell_type": "code",
   "execution_count": null,
   "id": "58072055-8307-48bb-864b-850aeb0cf908",
   "metadata": {},
   "outputs": [],
   "source": [
    "obs = service_df[\"obscene\"].sum()\n",
    "non_obs = service_df[\"non-obscene\"].sum()\n",
    "\n",
    "obs / (obs + non_obs)"
   ]
  },
  {
   "cell_type": "code",
   "execution_count": null,
   "id": "db90e2b4-e304-432f-b9c9-4b88303d8654",
   "metadata": {},
   "outputs": [],
   "source": [
    "df.loc[(df[\"obscene\"]) & (df[\"service\"]==\"baidu\")]"
   ]
  },
  {
   "cell_type": "code",
   "execution_count": null,
   "id": "9e319d7f-3732-4238-b365-ec7151447f06",
   "metadata": {},
   "outputs": [],
   "source": []
  }
 ],
 "metadata": {
  "kernelspec": {
   "display_name": "Python 3",
   "language": "python",
   "name": "python3"
  },
  "language_info": {
   "codemirror_mode": {
    "name": "ipython",
    "version": 3
   },
   "file_extension": ".py",
   "mimetype": "text/x-python",
   "name": "python",
   "nbconvert_exporter": "python",
   "pygments_lexer": "ipython3",
   "version": "3.8.13"
  }
 },
 "nbformat": 4,
 "nbformat_minor": 5
}
