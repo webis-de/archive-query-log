{
 "cells": [
  {
   "cell_type": "code",
   "execution_count": 4,
   "metadata": {},
   "outputs": [],
   "source": [
    "from os import environ\n",
    "\n",
    "from pyspark.sql import SparkSession\n",
    "\n",
    "environ[\n",
    "    'PYSPARK_PYTHON'] = \"/mnt/ceph/storage/data-in-progress/data-research/web-search/web-archive-query-log/venv/bin/python\"\n",
    "session = SparkSession.builder \\\n",
    "    .master(\"yarn\") \\\n",
    "    .appName(\"web-archive-query-log-most-referenced-domains\") \\\n",
    "    .config(\"spark.executor.instances\", 3) \\\n",
    "    .getOrCreate()"
   ]
  },
  {
   "cell_type": "code",
   "execution_count": 5,
   "metadata": {},
   "outputs": [
    {
     "data": {
      "text/html": [
       "\n",
       "        <div>\n",
       "            <p><b>SparkContext</b></p>\n",
       "\n",
       "            <p><a href=\"http://10.23.88.185:4042\">Spark UI</a></p>\n",
       "\n",
       "            <dl>\n",
       "              <dt>Version</dt>\n",
       "                <dd><code>v3.2.1</code></dd>\n",
       "              <dt>Master</dt>\n",
       "                <dd><code>yarn</code></dd>\n",
       "              <dt>AppName</dt>\n",
       "                <dd><code>web-archive-query-log-query-length</code></dd>\n",
       "            </dl>\n",
       "        </div>\n",
       "        "
      ],
      "text/plain": [
       "<SparkContext master=yarn appName=web-archive-query-log-query-length>"
      ]
     },
     "execution_count": 5,
     "metadata": {},
     "output_type": "execute_result"
    }
   ],
   "source": [
    "sc = session.sparkContext\n",
    "sc"
   ]
  },
  {
   "cell_type": "code",
   "execution_count": 6,
   "metadata": {
    "collapsed": false,
    "jupyter": {
     "outputs_hidden": false
    }
   },
   "outputs": [
    {
     "data": {
      "text/plain": [
       "PosixPath('/mnt/ceph/storage/data-in-progress/data-research/web-search/web-archive-query-log')"
      ]
     },
     "execution_count": 6,
     "metadata": {},
     "output_type": "execute_result"
    }
   ],
   "source": [
    "from pathlib import Path\n",
    "\n",
    "global_data_dir = Path(\"/mnt/ceph/storage/data-in-progress/data-research/web-search/web-archive-query-log/\")\n",
    "global_data_dir"
   ]
  },
  {
   "cell_type": "code",
   "execution_count": 7,
   "metadata": {},
   "outputs": [
    {
     "data": {
      "text/plain": [
       "PosixPath('/mnt/ceph/storage/data-in-progress/data-research/web-search/web-archive-query-log/focused')"
      ]
     },
     "execution_count": 7,
     "metadata": {},
     "output_type": "execute_result"
    }
   ],
   "source": [
    "data_dir = global_data_dir / \"focused\"\n",
    "data_dir"
   ]
  },
  {
   "cell_type": "code",
   "execution_count": 8,
   "metadata": {
    "collapsed": false,
    "jupyter": {
     "outputs_hidden": false
    }
   },
   "outputs": [],
   "source": [
    "from pathlib import Path\n",
    "\n",
    "figures_dir = Path(\"figures\")\n",
    "figures_dir.mkdir(parents=True, exist_ok=True)"
   ]
  },
  {
   "cell_type": "code",
   "execution_count": 9,
   "metadata": {},
   "outputs": [],
   "source": [
    "def paths_jsonl(service: str, base_type: str):\n",
    "    base_path = data_dir / base_type / service\n",
    "    if not base_path.exists():\n",
    "        return []\n",
    "    yield from base_path.glob(\"*/*.jsonl.gz\")"
   ]
  },
  {
   "cell_type": "code",
   "execution_count": 17,
   "metadata": {},
   "outputs": [],
   "source": [
    "from json import loads, JSONDecodeError\n",
    "from typing import Iterator\n",
    "from gzip import GzipFile\n",
    "\n",
    "def read_jsonl(path: Path) -> Iterator:\n",
    "    print(f\"Read JSONL records in {path}.\")\n",
    "    try:\n",
    "        with GzipFile(path, \"r\") as gzip_file:\n",
    "            for line in gzip_file:\n",
    "                try:\n",
    "                    url = loads(line)\n",
    "                except JSONDecodeError:\n",
    "                    continue\n",
    "                yield url\n",
    "    except:\n",
    "        return "
   ]
  },
  {
   "cell_type": "code",
   "execution_count": 18,
   "metadata": {},
   "outputs": [
    {
     "data": {
      "text/plain": [
       "1087"
      ]
     },
     "execution_count": 18,
     "metadata": {},
     "output_type": "execute_result"
    }
   ],
   "source": [
    "with Path(\"services.txt\").open(\"rt\") as file:\n",
    "    alexa_services = [\n",
    "        line.strip()\n",
    "        for line in file\n",
    "        if line\n",
    "    ]\n",
    "len(alexa_services)"
   ]
  },
  {
   "cell_type": "code",
   "execution_count": 34,
   "metadata": {},
   "outputs": [
    {
     "name": "stdout",
     "output_type": "stream",
     "text": [
      "Requirement already satisfied: publicsuffixlist in /opt/conda/lib/python3.8/site-packages (0.9.3)\n"
     ]
    }
   ],
   "source": [
    "!pip install publicsuffixlist"
   ]
  },
  {
   "cell_type": "code",
   "execution_count": 71,
   "metadata": {},
   "outputs": [],
   "source": [
    "from urllib.parse import urlsplit\n",
    "from publicsuffixlist import PublicSuffixList\n",
    "\n",
    "public_suffix_list = PublicSuffixList()\n",
    "\n",
    "def domain(url: str) -> str:\n",
    "    hostname = urlsplit(url).hostname\n",
    "    if hostname is None:\n",
    "        return None\n",
    "    public_suffix = public_suffix_list.publicsuffix(hostname)\n",
    "    second_level_domain = public_suffix_list.subdomain(hostname, 0)\n",
    "    if second_level_domain is None:\n",
    "        second_level_domain = public_suffix\n",
    "    return second_level_domain"
   ]
  },
  {
   "cell_type": "code",
   "execution_count": 72,
   "metadata": {
    "collapsed": false,
    "jupyter": {
     "outputs_hidden": false
    }
   },
   "outputs": [],
   "source": [
    "from json import loads\n",
    "from pandas import DataFrame\n",
    "from datetime import datetime\n",
    "\n",
    "def most_referenced_results(k: int, external: bool) -> dict:\n",
    "    rdd = sc.parallelize(alexa_services, 1000)\\\n",
    "        .flatMap(lambda service: paths_jsonl(service, \"archived-parsed-serps\"))\\\n",
    "        .repartition(10_000)\\\n",
    "        .flatMap(read_jsonl)\\\n",
    "        .filter(lambda serp: serp[\"results\"] is not None)\\\n",
    "        .keyBy(lambda serp: domain(serp[\"url\"]))\\\n",
    "        .flatMapValues(lambda serp: serp[\"results\"][:k])\\\n",
    "        .mapValues(lambda result: domain(result[\"url\"]))\n",
    "    if external:\n",
    "        rdd = rdd.filter(lambda domains: domains[0] != domains[1])\n",
    "    return rdd.values()\\\n",
    "        .keyBy(lambda domain: domain)\\\n",
    "        .countByKey()"
   ]
  },
  {
   "cell_type": "code",
   "execution_count": 73,
   "metadata": {},
   "outputs": [
    {
     "data": {
      "text/plain": [
       "791656"
      ]
     },
     "execution_count": 73,
     "metadata": {},
     "output_type": "execute_result"
    }
   ],
   "source": [
    "most_referenced_results_5 = most_referenced_results(5, external=True)\n",
    "len(most_referenced_results_5)"
   ]
  },
  {
   "cell_type": "code",
   "execution_count": 74,
   "metadata": {},
   "outputs": [
    {
     "data": {
      "text/plain": [
       "1243208"
      ]
     },
     "execution_count": 74,
     "metadata": {},
     "output_type": "execute_result"
    }
   ],
   "source": [
    "most_referenced_results_10 = most_referenced_results(10, external=True)\n",
    "len(most_referenced_results_10)"
   ]
  },
  {
   "cell_type": "code",
   "execution_count": 75,
   "metadata": {},
   "outputs": [],
   "source": [
    "def self_references(k: int) -> dict:\n",
    "    return sc.parallelize(alexa_services, 1000)\\\n",
    "        .flatMap(lambda service: paths_jsonl(service, \"archived-parsed-serps\"))\\\n",
    "        .repartition(10_000)\\\n",
    "        .flatMap(read_jsonl)\\\n",
    "        .filter(lambda serp: serp[\"results\"] is not None)\\\n",
    "        .keyBy(lambda serp: domain(serp[\"url\"]))\\\n",
    "        .flatMapValues(lambda serp: serp[\"results\"][:k])\\\n",
    "        .mapValues(lambda result: domain(result[\"url\"]))\\\n",
    "        .filter(lambda domains: domains[0] == domains[1])\\\n",
    "        .count()"
   ]
  },
  {
   "cell_type": "code",
   "execution_count": 76,
   "metadata": {},
   "outputs": [
    {
     "data": {
      "text/plain": [
       "13265146"
      ]
     },
     "execution_count": 76,
     "metadata": {},
     "output_type": "execute_result"
    }
   ],
   "source": [
    "self_5 = self_references(5)\n",
    "self_5"
   ]
  },
  {
   "cell_type": "code",
   "execution_count": 77,
   "metadata": {},
   "outputs": [
    {
     "data": {
      "text/plain": [
       "24330691"
      ]
     },
     "execution_count": 77,
     "metadata": {},
     "output_type": "execute_result"
    }
   ],
   "source": [
    "self_10 = self_references(10)\n",
    "self_10"
   ]
  },
  {
   "cell_type": "code",
   "execution_count": 82,
   "metadata": {},
   "outputs": [
    {
     "data": {
      "text/plain": [
       "[('wikipedia.org', 544202),\n",
       " ('youtube.com', 145871),\n",
       " ('facebook.com', 111251),\n",
       " ('linkedin.com', 74866),\n",
       " ('imdb.com', 64279),\n",
       " ('instagram.com', 62059),\n",
       " ('amazon.com', 56661),\n",
       " ('pinterest.com', 46803),\n",
       " ('devroye.org', 46408),\n",
       " ('twitter.com', 41317),\n",
       " ('fandom.com', 37848),\n",
       " (None, 32370),\n",
       " ('yahoo.com', 27807),\n",
       " ('google.com', 27737),\n",
       " ('behance.net', 26976),\n",
       " ('merriam-webster.com', 25482),\n",
       " ('tistory.com', 25359),\n",
       " ('xvideos.com', 23251),\n",
       " ('thefreedictionary.com', 20417),\n",
       " ('discogs.com', 20121)]"
      ]
     },
     "execution_count": 82,
     "metadata": {},
     "output_type": "execute_result"
    }
   ],
   "source": [
    "top = sorted(\n",
    "    most_referenced_results_5.items(),\n",
    "    key=lambda domain_count: domain_count[1],\n",
    "    reverse=True,\n",
    ")[:20]\n",
    "top"
   ]
  },
  {
   "cell_type": "code",
   "execution_count": 83,
   "metadata": {},
   "outputs": [
    {
     "name": "stdout",
     "output_type": "stream",
     "text": [
      "\\domain{wikipedia.org} & 544,202 & 758,860 \\\\\n",
      "\\domain{youtube.com} & 145,871 & 234,522 \\\\\n",
      "\\domain{facebook.com} & 111,251 & 176,381 \\\\\n",
      "\\domain{linkedin.com} & 74,866 & 107,182 \\\\\n",
      "\\domain{imdb.com} & 64,279 & 93,207 \\\\\n",
      "\\domain{instagram.com} & 62,059 & 84,291 \\\\\n",
      "\\domain{amazon.com} & 56,661 & 95,388 \\\\\n",
      "\\domain{pinterest.com} & 46,803 & 97,408 \\\\\n",
      "\\domain{devroye.org} & 46,408 & 62,012 \\\\\n",
      "\\domain{twitter.com} & 41,317 & 68,598 \\\\\n",
      "\\domain{fandom.com} & 37,848 & 61,127 \\\\\n",
      "\\domain{None} & 32,370 & 64,278 \\\\\n",
      "\\domain{yahoo.com} & 27,807 & 53,559 \\\\\n",
      "\\domain{google.com} & 27,737 & 49,431 \\\\\n",
      "\\domain{behance.net} & 26,976 & 34,435 \\\\\n",
      "\\domain{merriam-webster.com} & 25,482 & 32,805 \\\\\n",
      "\\domain{tistory.com} & 25,359 & 31,643 \\\\\n",
      "\\domain{xvideos.com} & 23,251 & 46,598 \\\\\n",
      "\\domain{thefreedictionary.com} & 20,417 & 29,318 \\\\\n",
      "\\domain{discogs.com} & 20,121 & 30,090 \\\\\n",
      "\\midrule\n",
      "self-references & 13,265,146 & 24,330,691 \\\\\n"
     ]
    }
   ],
   "source": [
    "for d, num_5 in top:\n",
    "    num_10 = most_referenced_results_10.get(d, 0)\n",
    "    print(fr\"\\domain{{{d}}} & {num_5:,.0f} & {num_10:,.0f} \\\\\")\n",
    "print(r\"\\midrule\")\n",
    "print(fr\"self-references & {self_5:,.0f} & {self_10:,.0f} \\\\\")"
   ]
  },
  {
   "cell_type": "code",
   "execution_count": null,
   "metadata": {},
   "outputs": [],
   "source": []
  }
 ],
 "metadata": {
  "kernelspec": {
   "display_name": "Python 3",
   "language": "python",
   "name": "python3"
  },
  "language_info": {
   "codemirror_mode": {
    "name": "ipython",
    "version": 3
   },
   "file_extension": ".py",
   "mimetype": "text/x-python",
   "name": "python",
   "nbconvert_exporter": "python",
   "pygments_lexer": "ipython3",
   "version": "3.8.13"
  }
 },
 "nbformat": 4,
 "nbformat_minor": 4
}
