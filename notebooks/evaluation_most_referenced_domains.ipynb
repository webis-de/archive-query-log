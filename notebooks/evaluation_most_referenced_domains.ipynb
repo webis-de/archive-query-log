{
 "cells": [
  {
   "cell_type": "code",
   "execution_count": 1,
   "metadata": {},
   "outputs": [],
   "source": [
    "from os import environ\n",
    "\n",
    "from pyspark.sql import SparkSession\n",
    "\n",
    "environ[\n",
    "    'PYSPARK_PYTHON'] = \"/mnt/ceph/storage/data-in-progress/data-research/web-search/web-archive-query-log/venv/bin/python\"\n",
    "session = SparkSession.builder \\\n",
    "    .master(\"yarn\") \\\n",
    "    .appName(\"web-archive-query-log-most-referenced-domains\") \\\n",
    "    .config(\"spark.executor.instances\", 3) \\\n",
    "    .getOrCreate()"
   ]
  },
  {
   "cell_type": "code",
   "execution_count": 2,
   "metadata": {},
   "outputs": [
    {
     "data": {
      "text/html": [
       "\n",
       "        <div>\n",
       "            <p><b>SparkContext</b></p>\n",
       "\n",
       "            <p><a href=\"http://10.23.88.185:4042\">Spark UI</a></p>\n",
       "\n",
       "            <dl>\n",
       "              <dt>Version</dt>\n",
       "                <dd><code>v3.2.1</code></dd>\n",
       "              <dt>Master</dt>\n",
       "                <dd><code>yarn</code></dd>\n",
       "              <dt>AppName</dt>\n",
       "                <dd><code>web-archive-query-log-most-referenced-domains</code></dd>\n",
       "            </dl>\n",
       "        </div>\n",
       "        "
      ],
      "text/plain": [
       "<SparkContext master=yarn appName=web-archive-query-log-most-referenced-domains>"
      ]
     },
     "execution_count": 2,
     "metadata": {},
     "output_type": "execute_result"
    }
   ],
   "source": [
    "sc = session.sparkContext\n",
    "sc"
   ]
  },
  {
   "cell_type": "code",
   "execution_count": 3,
   "metadata": {
    "collapsed": false,
    "jupyter": {
     "outputs_hidden": false
    }
   },
   "outputs": [
    {
     "data": {
      "text/plain": [
       "PosixPath('/mnt/ceph/storage/data-in-progress/data-research/web-search/web-archive-query-log')"
      ]
     },
     "execution_count": 3,
     "metadata": {},
     "output_type": "execute_result"
    }
   ],
   "source": [
    "from pathlib import Path\n",
    "\n",
    "global_data_dir = Path(\"/mnt/ceph/storage/data-in-progress/data-research/web-search/web-archive-query-log/\")\n",
    "global_data_dir"
   ]
  },
  {
   "cell_type": "code",
   "execution_count": 4,
   "metadata": {},
   "outputs": [
    {
     "data": {
      "text/plain": [
       "PosixPath('/mnt/ceph/storage/data-in-progress/data-research/web-search/web-archive-query-log/focused')"
      ]
     },
     "execution_count": 4,
     "metadata": {},
     "output_type": "execute_result"
    }
   ],
   "source": [
    "data_dir = global_data_dir / \"focused\"\n",
    "data_dir"
   ]
  },
  {
   "cell_type": "code",
   "execution_count": 5,
   "metadata": {
    "collapsed": false,
    "jupyter": {
     "outputs_hidden": false
    }
   },
   "outputs": [],
   "source": [
    "from pathlib import Path\n",
    "\n",
    "figures_dir = Path(\"figures\")\n",
    "figures_dir.mkdir(parents=True, exist_ok=True)"
   ]
  },
  {
   "cell_type": "code",
   "execution_count": 6,
   "metadata": {},
   "outputs": [],
   "source": [
    "def paths_jsonl(service: str, base_type: str):\n",
    "    base_path = data_dir / base_type / service\n",
    "    if not base_path.exists():\n",
    "        return []\n",
    "    yield from base_path.glob(\"*/*.jsonl.gz\")"
   ]
  },
  {
   "cell_type": "code",
   "execution_count": 7,
   "metadata": {},
   "outputs": [],
   "source": [
    "from json import loads, JSONDecodeError\n",
    "from typing import Iterator\n",
    "from gzip import GzipFile\n",
    "\n",
    "def read_jsonl(path: Path) -> Iterator:\n",
    "    print(f\"Read JSONL records in {path}.\")\n",
    "    try:\n",
    "        with GzipFile(path, \"r\") as gzip_file:\n",
    "            for line in gzip_file:\n",
    "                try:\n",
    "                    url = loads(line)\n",
    "                except JSONDecodeError:\n",
    "                    continue\n",
    "                yield url\n",
    "    except:\n",
    "        return "
   ]
  },
  {
   "cell_type": "code",
   "execution_count": 8,
   "metadata": {},
   "outputs": [
    {
     "data": {
      "text/plain": [
       "1087"
      ]
     },
     "execution_count": 8,
     "metadata": {},
     "output_type": "execute_result"
    }
   ],
   "source": [
    "with Path(\"services.txt\").open(\"rt\") as file:\n",
    "    alexa_services = [\n",
    "        line.strip()\n",
    "        for line in file\n",
    "        if line\n",
    "    ]\n",
    "len(alexa_services)"
   ]
  },
  {
   "cell_type": "code",
   "execution_count": 9,
   "metadata": {},
   "outputs": [
    {
     "name": "stdout",
     "output_type": "stream",
     "text": [
      "Requirement already satisfied: publicsuffixlist in /opt/conda/lib/python3.8/site-packages (0.9.3)\n"
     ]
    }
   ],
   "source": [
    "!pip install publicsuffixlist"
   ]
  },
  {
   "cell_type": "code",
   "execution_count": 10,
   "metadata": {},
   "outputs": [],
   "source": [
    "from urllib.parse import urlsplit\n",
    "from publicsuffixlist import PublicSuffixList\n",
    "\n",
    "public_suffix_list = PublicSuffixList()\n",
    "\n",
    "def domain(url: str) -> str:\n",
    "    hostname = urlsplit(url).hostname\n",
    "    if hostname is None:\n",
    "        return None\n",
    "    public_suffix = public_suffix_list.publicsuffix(hostname)\n",
    "    second_level_domain = public_suffix_list.subdomain(hostname, 0)\n",
    "    if second_level_domain is None:\n",
    "        second_level_domain = public_suffix\n",
    "    return second_level_domain"
   ]
  },
  {
   "cell_type": "code",
   "execution_count": 11,
   "metadata": {},
   "outputs": [],
   "source": [
    "from json import loads\n",
    "from pandas import DataFrame\n",
    "from datetime import datetime\n",
    "\n",
    "def referenced_results(k: int) -> dict:\n",
    "    return sc.parallelize(alexa_services, 1000)\\\n",
    "        .flatMap(lambda service: paths_jsonl(service, \"archived-parsed-serps\"))\\\n",
    "        .repartition(10_000)\\\n",
    "        .flatMap(read_jsonl)\\\n",
    "        .filter(lambda serp: serp[\"results\"] is not None)\\\n",
    "        .filter(lambda serp: serp[\"offset\"] is None or serp[\"offset\"] == 0)\\\n",
    "        .filter(lambda serp: serp[\"page\"] is None or serp[\"page\"] <= 1)\\\n",
    "        .keyBy(lambda serp: domain(serp[\"url\"]))\\\n",
    "        .flatMapValues(lambda serp: serp[\"results\"][:k])\\\n",
    "        .mapValues(lambda result: domain(result[\"url\"]))\\\n",
    "        .values()\\\n",
    "        .count()"
   ]
  },
  {
   "cell_type": "code",
   "execution_count": 12,
   "metadata": {},
   "outputs": [
    {
     "data": {
      "text/plain": [
       "19062218"
      ]
     },
     "execution_count": 12,
     "metadata": {},
     "output_type": "execute_result"
    }
   ],
   "source": [
    "total_5 = referenced_results(5)\n",
    "total_5"
   ]
  },
  {
   "cell_type": "code",
   "execution_count": 13,
   "metadata": {},
   "outputs": [
    {
     "data": {
      "text/plain": [
       "34545570"
      ]
     },
     "execution_count": 13,
     "metadata": {},
     "output_type": "execute_result"
    }
   ],
   "source": [
    "total_10 = referenced_results(10)\n",
    "total_10"
   ]
  },
  {
   "cell_type": "code",
   "execution_count": 14,
   "metadata": {
    "collapsed": false,
    "jupyter": {
     "outputs_hidden": false
    }
   },
   "outputs": [],
   "source": [
    "from json import loads\n",
    "from pandas import DataFrame\n",
    "from datetime import datetime\n",
    "\n",
    "def most_referenced_results(k: int, external: bool) -> dict:\n",
    "    rdd = sc.parallelize(alexa_services, 1000)\\\n",
    "        .flatMap(lambda service: paths_jsonl(service, \"archived-parsed-serps\"))\\\n",
    "        .repartition(10_000)\\\n",
    "        .flatMap(read_jsonl)\\\n",
    "        .filter(lambda serp: serp[\"results\"] is not None)\\\n",
    "        .filter(lambda serp: serp[\"offset\"] is None or serp[\"offset\"] == 0)\\\n",
    "        .filter(lambda serp: serp[\"page\"] is None or serp[\"page\"] <= 1)\\\n",
    "        .keyBy(lambda serp: domain(serp[\"url\"]))\\\n",
    "        .flatMapValues(lambda serp: serp[\"results\"][:k])\\\n",
    "        .mapValues(lambda result: domain(result[\"url\"]))\n",
    "    if external:\n",
    "        rdd = rdd.filter(lambda domains: domains[0] != domains[1])\n",
    "    return rdd.values()\\\n",
    "        .keyBy(lambda domain: domain)\\\n",
    "        .countByKey()"
   ]
  },
  {
   "cell_type": "code",
   "execution_count": 15,
   "metadata": {},
   "outputs": [
    {
     "data": {
      "text/plain": [
       "791656"
      ]
     },
     "execution_count": 15,
     "metadata": {},
     "output_type": "execute_result"
    }
   ],
   "source": [
    "most_referenced_results_5 = most_referenced_results(5, external=True)\n",
    "len(most_referenced_results_5)"
   ]
  },
  {
   "cell_type": "code",
   "execution_count": 16,
   "metadata": {},
   "outputs": [
    {
     "data": {
      "text/plain": [
       "1243208"
      ]
     },
     "execution_count": 16,
     "metadata": {},
     "output_type": "execute_result"
    }
   ],
   "source": [
    "most_referenced_results_10 = most_referenced_results(10, external=True)\n",
    "len(most_referenced_results_10)"
   ]
  },
  {
   "cell_type": "code",
   "execution_count": 17,
   "metadata": {},
   "outputs": [],
   "source": [
    "def self_references(k: int) -> dict:\n",
    "    return sc.parallelize(alexa_services, 1000)\\\n",
    "        .flatMap(lambda service: paths_jsonl(service, \"archived-parsed-serps\"))\\\n",
    "        .repartition(10_000)\\\n",
    "        .flatMap(read_jsonl)\\\n",
    "        .filter(lambda serp: serp[\"results\"] is not None)\\\n",
    "        .filter(lambda serp: serp[\"offset\"] is None or serp[\"offset\"] == 0)\\\n",
    "        .filter(lambda serp: serp[\"page\"] is None or serp[\"page\"] <= 1)\\\n",
    "        .keyBy(lambda serp: domain(serp[\"url\"]))\\\n",
    "        .flatMapValues(lambda serp: serp[\"results\"][:k])\\\n",
    "        .mapValues(lambda result: domain(result[\"url\"]))\\\n",
    "        .filter(lambda domains: domains[0] == domains[1])\\\n",
    "        .count()"
   ]
  },
  {
   "cell_type": "code",
   "execution_count": 18,
   "metadata": {},
   "outputs": [
    {
     "data": {
      "text/plain": [
       "13265146"
      ]
     },
     "execution_count": 18,
     "metadata": {},
     "output_type": "execute_result"
    }
   ],
   "source": [
    "self_5 = self_references(5)\n",
    "self_5"
   ]
  },
  {
   "cell_type": "code",
   "execution_count": 19,
   "metadata": {},
   "outputs": [
    {
     "data": {
      "text/plain": [
       "24330691"
      ]
     },
     "execution_count": 19,
     "metadata": {},
     "output_type": "execute_result"
    }
   ],
   "source": [
    "self_10 = self_references(10)\n",
    "self_10"
   ]
  },
  {
   "cell_type": "code",
   "execution_count": 20,
   "metadata": {},
   "outputs": [],
   "source": [
    "table_k = 10"
   ]
  },
  {
   "cell_type": "code",
   "execution_count": 21,
   "metadata": {},
   "outputs": [
    {
     "data": {
      "text/plain": [
       "[('wikipedia.org', 544202),\n",
       " ('youtube.com', 145871),\n",
       " ('facebook.com', 111251),\n",
       " ('linkedin.com', 74866),\n",
       " ('imdb.com', 64279),\n",
       " ('instagram.com', 62059),\n",
       " ('amazon.com', 56661),\n",
       " ('pinterest.com', 46803),\n",
       " ('devroye.org', 46408),\n",
       " ('twitter.com', 41317)]"
      ]
     },
     "execution_count": 21,
     "metadata": {},
     "output_type": "execute_result"
    }
   ],
   "source": [
    "top = sorted(\n",
    "    most_referenced_results_5.items(),\n",
    "    key=lambda domain_count: domain_count[1],\n",
    "    reverse=True,\n",
    ")[:table_k]\n",
    "top"
   ]
  },
  {
   "cell_type": "code",
   "execution_count": 22,
   "metadata": {},
   "outputs": [
    {
     "data": {
      "text/plain": [
       "791646"
      ]
     },
     "execution_count": 22,
     "metadata": {},
     "output_type": "execute_result"
    }
   ],
   "source": [
    "num_remaining = len(most_referenced_results_5) - len(top)\n",
    "num_remaining"
   ]
  },
  {
   "cell_type": "code",
   "execution_count": 23,
   "metadata": {},
   "outputs": [
    {
     "data": {
      "text/plain": [
       "4603355"
      ]
     },
     "execution_count": 23,
     "metadata": {},
     "output_type": "execute_result"
    }
   ],
   "source": [
    "remaining_5 = total_5 - self_5 - sum(most_referenced_results_5[domain] for domain, _ in top)\n",
    "remaining_5"
   ]
  },
  {
   "cell_type": "code",
   "execution_count": 24,
   "metadata": {},
   "outputs": [
    {
     "data": {
      "text/plain": [
       "8437030"
      ]
     },
     "execution_count": 24,
     "metadata": {},
     "output_type": "execute_result"
    }
   ],
   "source": [
    "remaining_10 = total_10 - self_10 - sum(most_referenced_results_10[domain] for domain, _ in top)\n",
    "remaining_10"
   ]
  },
  {
   "cell_type": "code",
   "execution_count": 25,
   "metadata": {},
   "outputs": [
    {
     "name": "stdout",
     "output_type": "stream",
     "text": [
      "\\domain{wikipedia.org} & 2.9\\,\\% & 2.2\\,\\% \\\\\n",
      "\\domain{youtube.com} & 0.8\\,\\% & 0.7\\,\\% \\\\\n",
      "\\domain{facebook.com} & 0.6\\,\\% & 0.5\\,\\% \\\\\n",
      "\\domain{linkedin.com} & 0.4\\,\\% & 0.3\\,\\% \\\\\n",
      "\\domain{imdb.com} & 0.3\\,\\% & 0.3\\,\\% \\\\\n",
      "\\domain{instagram.com} & 0.3\\,\\% & 0.2\\,\\% \\\\\n",
      "\\domain{amazon.com} & 0.3\\,\\% & 0.3\\,\\% \\\\\n",
      "\\domain{pinterest.com} & 0.2\\,\\% & 0.3\\,\\% \\\\\n",
      "\\domain{devroye.org} & 0.2\\,\\% & 0.2\\,\\% \\\\\n",
      "\\domain{twitter.com} & 0.2\\,\\% & 0.2\\,\\% \\\\\n",
      "\\midrule\n",
      "791646 others & 24.1\\,\\% & 24.4\\,\\% \\\\\n",
      "\\midrule\n",
      "self-references & 69.6\\,\\% & 70.4\\,\\% \\\\\n"
     ]
    }
   ],
   "source": [
    "for d, num_5 in top:\n",
    "    num_10 = most_referenced_results_10.get(d, 0)\n",
    "    print(fr\"\\domain{{{d}}} & {(num_5/total_5*100):.1f}\\,\\% & {(num_10/total_10*100):.1f}\\,\\% \\\\\")\n",
    "print(r\"\\midrule\")\n",
    "print(fr\"{num_remaining} others & {(remaining_5/total_5*100):.1f}\\,\\% & {(remaining_10/total_10*100):.1f}\\,\\% \\\\\")\n",
    "print(r\"\\midrule\")\n",
    "print(fr\"self-references & {(self_5/total_5*100):.1f}\\,\\% & {(self_10/total_10*100):.1f}\\,\\% \\\\\")"
   ]
  },
  {
   "cell_type": "code",
   "execution_count": 32,
   "metadata": {},
   "outputs": [
    {
     "data": {
      "text/plain": [
       "[(('google', '\"LS Graphic Design Tipografia\"'), 'devroye.org'),\n",
       " (('google', '\"LS Graphic Design Tipografia\"'), 'devroye.org'),\n",
       " (('google', '\"LSU Webliography  TrueType Fonts\"'), 'devroye.org'),\n",
       " (('google', '\"LSU Webliography  TrueType Fonts\"'), 'devroye.org'),\n",
       " (('google', '\"LSTTF\"'), 'devroye.org'),\n",
       " (('google', '\"LTypI  Lack of Typographic Imagination\"'), 'devroye.org'),\n",
       " (('google', '\"Louise Rigaux\"'), 'devroye.org'),\n",
       " (('google', '\"Louise Ross\" \"The Autumn Rabbit\"'), 'devroye.org'),\n",
       " (('google', '\"Louise Vieusseux\"'), 'devroye.org'),\n",
       " (('google', '\"Lourdes Garcia Traverso\"'), 'devroye.org')]"
      ]
     },
     "execution_count": 32,
     "metadata": {},
     "output_type": "execute_result"
    }
   ],
   "source": [
    "sc.parallelize(alexa_services, 1000)\\\n",
    "    .keyBy(lambda service: service)\\\n",
    "    .flatMapValues(lambda service: paths_jsonl(service, \"archived-parsed-serps\"))\\\n",
    "    .repartition(10_000)\\\n",
    "    .flatMapValues(read_jsonl)\\\n",
    "    .filter(lambda service_serp: service_serp[1][\"results\"] is not None)\\\n",
    "    .filter(lambda service_serp: service_serp[1][\"offset\"] is None or service_serp[1][\"offset\"] == 0)\\\n",
    "    .filter(lambda service_serp: service_serp[1][\"page\"] is None or service_serp[1][\"page\"] <= 1)\\\n",
    "    .map(lambda service_serp: ((service_serp[0], service_serp[1][\"query\"]), service_serp[1][\"results\"]))\\\n",
    "    .flatMapValues(lambda results: results)\\\n",
    "    .mapValues(lambda result: domain(result[\"url\"]))\\\n",
    "    .filter(lambda service_query_domain: service_query_domain[1] == \"devroye.org\")\\\n",
    "    .take(10)"
   ]
  },
  {
   "cell_type": "code",
   "execution_count": null,
   "metadata": {},
   "outputs": [],
   "source": []
  }
 ],
 "metadata": {
  "kernelspec": {
   "display_name": "Python 3",
   "language": "python",
   "name": "python3"
  },
  "language_info": {
   "codemirror_mode": {
    "name": "ipython",
    "version": 3
   },
   "file_extension": ".py",
   "mimetype": "text/x-python",
   "name": "python",
   "nbconvert_exporter": "python",
   "pygments_lexer": "ipython3",
   "version": "3.8.13"
  }
 },
 "nbformat": 4,
 "nbformat_minor": 4
}
