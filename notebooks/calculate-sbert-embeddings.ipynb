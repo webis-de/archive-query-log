{
 "cells": [
  {
   "cell_type": "code",
   "execution_count": 1,
   "id": "dbd905f6-46f6-48f8-874f-8f9d036b5e54",
   "metadata": {},
   "outputs": [],
   "source": [
    "# Calculate sBERT Embeddings"
   ]
  },
  {
   "cell_type": "code",
   "execution_count": 2,
   "id": "12037192-0b2a-4eea-aee7-4aca617914f5",
   "metadata": {},
   "outputs": [
    {
     "data": {
      "text/plain": [
       "'3.8.13 | packaged by conda-forge | (default, Mar 25 2022, 06:04:10) \\n[GCC 10.3.0]'"
      ]
     },
     "execution_count": 2,
     "metadata": {},
     "output_type": "execute_result"
    }
   ],
   "source": [
    "import sys\n",
    "\n",
    "sys.version"
   ]
  },
  {
   "cell_type": "code",
   "execution_count": 2,
   "id": "89422d77-a927-46f1-85de-19bd9d548b03",
   "metadata": {},
   "outputs": [],
   "source": [
    "def transform_to_sbert_embeddings(input):\n",
    "    import os\n",
    "    import json\n",
    "    import sys\n",
    "    # I created the venv-environment below using \n",
    "    \n",
    "    #VENV_LIB_DIR = '/mnt/ceph/storage/data-in-progress/data-research/web-search/ECIR-22/ecir22-zero-shot/sbert-env/lib/python3.8/site-packages'\n",
    "    #VENV_LIB_DIR = '/mnt/ceph/storage/data-in-progress/data-research/web-search/ECIR-22/ecir22-zero-shot/sbert-env-python3.7/lib/python3.7/site-packages'\n",
    "    VENV_LIB_DIR = '/mnt/ceph/storage/data-in-progress/data-research/web-search/ECIR-22/ecir22-zero-shot/sbert-env-python3.8/lib/python3.8/site-packages'\n",
    "    if VENV_LIB_DIR not in sys.path:\n",
    "        sys.path = [VENV_LIB_DIR] + sys.path\n",
    "    os.environ['SENTENCE_TRANSFORMERS_HOME'] = '/mnt/ceph/storage/data-in-progress/data-research/web-search/ECIR-22/ecir22-zero-shot/sbert-env/sentence-transformer-home'\n",
    "    from sentence_transformers import SentenceTransformer\n",
    "    sbert_model = SentenceTransformer('paraphrase-MiniLM-L6-v2')\n",
    "    return json.dumps(sbert_model.encode(input).tolist())"
   ]
  },
  {
   "cell_type": "code",
   "execution_count": 3,
   "id": "a231e76c-1e8f-416f-a338-097a6c7e2b37",
   "metadata": {},
   "outputs": [
    {
     "ename": "ImportError",
     "evalue": "Failed to load PyTorch C extensions:\n    It appears that PyTorch has loaded the `torch/_C` folder\n    of the PyTorch repository rather than the C extensions which\n    are expected in the `torch._C` namespace. This can occur when\n    using the `install` workflow. e.g.\n        $ python setup.py install && python -c \"import torch\"\n\n    This error can generally be solved using the `develop` workflow\n        $ python setup.py develop && python -c \"import torch\"  # This should succeed\n    or by running Python from a different directory.",
     "output_type": "error",
     "traceback": [
      "\u001b[0;31m---------------------------------------------------------------------------\u001b[0m",
      "\u001b[0;31mImportError\u001b[0m                               Traceback (most recent call last)",
      "Cell \u001b[0;32mIn [3], line 1\u001b[0m\n\u001b[0;32m----> 1\u001b[0m \u001b[43mtransform_to_sbert_embeddings\u001b[49m\u001b[43m(\u001b[49m\u001b[38;5;124;43m'\u001b[39;49m\u001b[38;5;124;43mhello world foo\u001b[39;49m\u001b[38;5;124;43m'\u001b[39;49m\u001b[43m)\u001b[49m\n",
      "Cell \u001b[0;32mIn [2], line 12\u001b[0m, in \u001b[0;36mtransform_to_sbert_embeddings\u001b[0;34m(input)\u001b[0m\n\u001b[1;32m     10\u001b[0m     sys\u001b[38;5;241m.\u001b[39mpath \u001b[38;5;241m=\u001b[39m [VENV_LIB_DIR] \u001b[38;5;241m+\u001b[39m sys\u001b[38;5;241m.\u001b[39mpath\n\u001b[1;32m     11\u001b[0m os\u001b[38;5;241m.\u001b[39menviron[\u001b[38;5;124m'\u001b[39m\u001b[38;5;124mSENTENCE_TRANSFORMERS_HOME\u001b[39m\u001b[38;5;124m'\u001b[39m] \u001b[38;5;241m=\u001b[39m \u001b[38;5;124m'\u001b[39m\u001b[38;5;124m/mnt/ceph/storage/data-in-progress/data-research/web-search/ECIR-22/ecir22-zero-shot/sbert-env/sentence-transformer-home\u001b[39m\u001b[38;5;124m'\u001b[39m\n\u001b[0;32m---> 12\u001b[0m \u001b[38;5;28;01mfrom\u001b[39;00m \u001b[38;5;21;01msentence_transformers\u001b[39;00m \u001b[38;5;28;01mimport\u001b[39;00m SentenceTransformer\n\u001b[1;32m     13\u001b[0m sbert_model \u001b[38;5;241m=\u001b[39m SentenceTransformer(\u001b[38;5;124m'\u001b[39m\u001b[38;5;124mparaphrase-MiniLM-L6-v2\u001b[39m\u001b[38;5;124m'\u001b[39m)\n\u001b[1;32m     14\u001b[0m \u001b[38;5;28;01mreturn\u001b[39;00m json\u001b[38;5;241m.\u001b[39mdumps(sbert_model\u001b[38;5;241m.\u001b[39mencode(\u001b[38;5;28minput\u001b[39m)\u001b[38;5;241m.\u001b[39mtolist())\n",
      "File \u001b[0;32m/mnt/ceph/storage/data-in-progress/data-research/web-search/ECIR-22/ecir22-zero-shot/sbert-env-python3.7/lib/python3.7/site-packages/sentence_transformers/__init__.py:3\u001b[0m\n\u001b[1;32m      1\u001b[0m __version__ \u001b[38;5;241m=\u001b[39m \u001b[38;5;124m\"\u001b[39m\u001b[38;5;124m2.0.0\u001b[39m\u001b[38;5;124m\"\u001b[39m\n\u001b[1;32m      2\u001b[0m __MODEL_HUB_ORGANIZATION__ \u001b[38;5;241m=\u001b[39m \u001b[38;5;124m'\u001b[39m\u001b[38;5;124msentence-transformers\u001b[39m\u001b[38;5;124m'\u001b[39m\n\u001b[0;32m----> 3\u001b[0m \u001b[38;5;28;01mfrom\u001b[39;00m \u001b[38;5;21;01m.\u001b[39;00m\u001b[38;5;21;01mdatasets\u001b[39;00m \u001b[38;5;28;01mimport\u001b[39;00m SentencesDataset, ParallelSentencesDataset\n\u001b[1;32m      4\u001b[0m \u001b[38;5;28;01mfrom\u001b[39;00m \u001b[38;5;21;01m.\u001b[39;00m\u001b[38;5;21;01mLoggingHandler\u001b[39;00m \u001b[38;5;28;01mimport\u001b[39;00m LoggingHandler\n\u001b[1;32m      5\u001b[0m \u001b[38;5;28;01mfrom\u001b[39;00m \u001b[38;5;21;01m.\u001b[39;00m\u001b[38;5;21;01mSentenceTransformer\u001b[39;00m \u001b[38;5;28;01mimport\u001b[39;00m SentenceTransformer\n",
      "File \u001b[0;32m/mnt/ceph/storage/data-in-progress/data-research/web-search/ECIR-22/ecir22-zero-shot/sbert-env-python3.7/lib/python3.7/site-packages/sentence_transformers/datasets/__init__.py:1\u001b[0m\n\u001b[0;32m----> 1\u001b[0m \u001b[38;5;28;01mfrom\u001b[39;00m \u001b[38;5;21;01m.\u001b[39;00m\u001b[38;5;21;01mDenoisingAutoEncoderDataset\u001b[39;00m \u001b[38;5;28;01mimport\u001b[39;00m DenoisingAutoEncoderDataset\n\u001b[1;32m      2\u001b[0m \u001b[38;5;28;01mfrom\u001b[39;00m \u001b[38;5;21;01m.\u001b[39;00m\u001b[38;5;21;01mNoDuplicatesDataLoader\u001b[39;00m \u001b[38;5;28;01mimport\u001b[39;00m NoDuplicatesDataLoader\n\u001b[1;32m      3\u001b[0m \u001b[38;5;28;01mfrom\u001b[39;00m \u001b[38;5;21;01m.\u001b[39;00m\u001b[38;5;21;01mParallelSentencesDataset\u001b[39;00m \u001b[38;5;28;01mimport\u001b[39;00m ParallelSentencesDataset\n",
      "File \u001b[0;32m/mnt/ceph/storage/data-in-progress/data-research/web-search/ECIR-22/ecir22-zero-shot/sbert-env-python3.7/lib/python3.7/site-packages/sentence_transformers/datasets/DenoisingAutoEncoderDataset.py:1\u001b[0m\n\u001b[0;32m----> 1\u001b[0m \u001b[38;5;28;01mfrom\u001b[39;00m \u001b[38;5;21;01mtorch\u001b[39;00m\u001b[38;5;21;01m.\u001b[39;00m\u001b[38;5;21;01mutils\u001b[39;00m\u001b[38;5;21;01m.\u001b[39;00m\u001b[38;5;21;01mdata\u001b[39;00m \u001b[38;5;28;01mimport\u001b[39;00m Dataset\n\u001b[1;32m      2\u001b[0m \u001b[38;5;28;01mfrom\u001b[39;00m \u001b[38;5;21;01mtyping\u001b[39;00m \u001b[38;5;28;01mimport\u001b[39;00m List\n\u001b[1;32m      3\u001b[0m \u001b[38;5;28;01mfrom\u001b[39;00m \u001b[38;5;21;01m.\u001b[39;00m\u001b[38;5;21;01m.\u001b[39;00m\u001b[38;5;21;01mreaders\u001b[39;00m\u001b[38;5;21;01m.\u001b[39;00m\u001b[38;5;21;01mInputExample\u001b[39;00m \u001b[38;5;28;01mimport\u001b[39;00m InputExample\n",
      "File \u001b[0;32m/mnt/ceph/storage/data-in-progress/data-research/web-search/ECIR-22/ecir22-zero-shot/sbert-env-python3.7/lib/python3.7/site-packages/torch/__init__.py:214\u001b[0m\n\u001b[1;32m    212\u001b[0m     \u001b[38;5;66;03m# The __file__ check only works for Python 3.7 and above.\u001b[39;00m\n\u001b[1;32m    213\u001b[0m     \u001b[38;5;28;01mif\u001b[39;00m sys\u001b[38;5;241m.\u001b[39mversion_info \u001b[38;5;241m>\u001b[39m\u001b[38;5;241m=\u001b[39m (\u001b[38;5;241m3\u001b[39m, \u001b[38;5;241m7\u001b[39m) \u001b[38;5;129;01mand\u001b[39;00m _C_for_compiled_check\u001b[38;5;241m.\u001b[39m\u001b[38;5;18m__file__\u001b[39m \u001b[38;5;129;01mis\u001b[39;00m \u001b[38;5;28;01mNone\u001b[39;00m:\n\u001b[0;32m--> 214\u001b[0m         \u001b[38;5;28;01mraise\u001b[39;00m \u001b[38;5;167;01mImportError\u001b[39;00m(textwrap\u001b[38;5;241m.\u001b[39mdedent(\u001b[38;5;124m'''\u001b[39m\n\u001b[1;32m    215\u001b[0m \u001b[38;5;124m            Failed to load PyTorch C extensions:\u001b[39m\n\u001b[1;32m    216\u001b[0m \u001b[38;5;124m                It appears that PyTorch has loaded the `torch/_C` folder\u001b[39m\n\u001b[1;32m    217\u001b[0m \u001b[38;5;124m                of the PyTorch repository rather than the C extensions which\u001b[39m\n\u001b[1;32m    218\u001b[0m \u001b[38;5;124m                are expected in the `torch._C` namespace. This can occur when\u001b[39m\n\u001b[1;32m    219\u001b[0m \u001b[38;5;124m                using the `install` workflow. e.g.\u001b[39m\n\u001b[1;32m    220\u001b[0m \u001b[38;5;124m                    $ python setup.py install && python -c \u001b[39m\u001b[38;5;124m\"\u001b[39m\u001b[38;5;124mimport torch\u001b[39m\u001b[38;5;124m\"\u001b[39m\n\u001b[1;32m    221\u001b[0m \n\u001b[1;32m    222\u001b[0m \u001b[38;5;124m                This error can generally be solved using the `develop` workflow\u001b[39m\n\u001b[1;32m    223\u001b[0m \u001b[38;5;124m                    $ python setup.py develop && python -c \u001b[39m\u001b[38;5;124m\"\u001b[39m\u001b[38;5;124mimport torch\u001b[39m\u001b[38;5;124m\"\u001b[39m\u001b[38;5;124m  # This should succeed\u001b[39m\n\u001b[1;32m    224\u001b[0m \u001b[38;5;124m                or by running Python from a different directory.\u001b[39m\n\u001b[1;32m    225\u001b[0m \u001b[38;5;124m            \u001b[39m\u001b[38;5;124m'''\u001b[39m)\u001b[38;5;241m.\u001b[39mstrip()) \u001b[38;5;28;01mfrom\u001b[39;00m \u001b[38;5;28mNone\u001b[39m\n\u001b[1;32m    226\u001b[0m     \u001b[38;5;28;01mraise\u001b[39;00m  \u001b[38;5;66;03m# If __file__ is not None the cause is unknown, so just re-raise.\u001b[39;00m\n\u001b[1;32m    229\u001b[0m __all__ \u001b[38;5;241m+\u001b[39m\u001b[38;5;241m=\u001b[39m [name \u001b[38;5;28;01mfor\u001b[39;00m name \u001b[38;5;129;01min\u001b[39;00m \u001b[38;5;28mdir\u001b[39m(_C)\n\u001b[1;32m    230\u001b[0m             \u001b[38;5;28;01mif\u001b[39;00m name[\u001b[38;5;241m0\u001b[39m] \u001b[38;5;241m!=\u001b[39m \u001b[38;5;124m'\u001b[39m\u001b[38;5;124m_\u001b[39m\u001b[38;5;124m'\u001b[39m \u001b[38;5;129;01mand\u001b[39;00m\n\u001b[1;32m    231\u001b[0m             \u001b[38;5;129;01mnot\u001b[39;00m name\u001b[38;5;241m.\u001b[39mendswith(\u001b[38;5;124m'\u001b[39m\u001b[38;5;124mBase\u001b[39m\u001b[38;5;124m'\u001b[39m)]\n",
      "\u001b[0;31mImportError\u001b[0m: Failed to load PyTorch C extensions:\n    It appears that PyTorch has loaded the `torch/_C` folder\n    of the PyTorch repository rather than the C extensions which\n    are expected in the `torch._C` namespace. This can occur when\n    using the `install` workflow. e.g.\n        $ python setup.py install && python -c \"import torch\"\n\n    This error can generally be solved using the `develop` workflow\n        $ python setup.py develop && python -c \"import torch\"  # This should succeed\n    or by running Python from a different directory."
     ]
    }
   ],
   "source": [
    "transform_to_sbert_embeddings('hello world foo')"
   ]
  },
  {
   "cell_type": "code",
   "execution_count": 3,
   "id": "bb71c6e5-4c33-4e81-9334-5f0ee017b8d0",
   "metadata": {},
   "outputs": [
    {
     "name": "stderr",
     "output_type": "stream",
     "text": [
      "22/02/08 14:21:56 WARN NativeCodeLoader: Unable to load native-hadoop library for your platform... using builtin-java classes where applicable\n",
      "22/02/08 14:21:58 WARN Utils: spark.executor.instances less than spark.dynamicAllocation.minExecutors is invalid, ignoring its setting, please update your configs.\n",
      "22/02/08 14:21:59 WARN Client: Neither spark.yarn.jars nor spark.yarn.archive is set, falling back to uploading libraries under SPARK_HOME.\n",
      "22/02/08 14:22:14 WARN Utils: spark.executor.instances less than spark.dynamicAllocation.minExecutors is invalid, ignoring its setting, please update your configs.\n"
     ]
    },
    {
     "data": {
      "text/html": [
       "\n",
       "        <div>\n",
       "            <p><b>SparkContext</b></p>\n",
       "\n",
       "            <p><a href=\"http://10.23.242.99:4040\">Spark UI</a></p>\n",
       "\n",
       "            <dl>\n",
       "              <dt>Version</dt>\n",
       "                <dd><code>v2.4.8</code></dd>\n",
       "              <dt>Master</dt>\n",
       "                <dd><code>yarn</code></dd>\n",
       "              <dt>AppName</dt>\n",
       "                <dd><code>pyspark-shell</code></dd>\n",
       "            </dl>\n",
       "        </div>\n",
       "        "
      ],
      "text/plain": [
       "<SparkContext master=yarn appName=pyspark-shell>"
      ]
     },
     "execution_count": 3,
     "metadata": {},
     "output_type": "execute_result"
    }
   ],
   "source": [
    "import pyspark\n",
    "\n",
    "sc = pyspark.SparkContext()\n",
    "sc"
   ]
  },
  {
   "cell_type": "code",
   "execution_count": 4,
   "id": "0516471d-d328-4807-8707-d994a37adde1",
   "metadata": {},
   "outputs": [
    {
     "name": "stderr",
     "output_type": "stream",
     "text": [
      "367013it [00:05, 73188.42it/s]\n"
     ]
    }
   ],
   "source": [
    "def load_queries(file_name):\n",
    "    ret = []\n",
    "    import json\n",
    "    from tqdm import tqdm\n",
    "    with open(file_name, 'r') as f:\n",
    "        for l in tqdm(f):\n",
    "            ret += [json.loads(l)]\n",
    "    return ret\n",
    "    \n",
    "queries = load_queries('/mnt/ceph/storage/data-in-progress/data-research/web-search/ECIR-22/ecir22-zero-shot/msmarco-document-train.jsonl')"
   ]
  },
  {
   "cell_type": "code",
   "execution_count": 5,
   "id": "a879be84-261c-437c-a060-75b116ce4263",
   "metadata": {},
   "outputs": [
    {
     "data": {
      "text/plain": [
       "[{'id': '1185869',\n",
       "  'contents': ')what was the immediate impact of the success of the manhattan project?',\n",
       "  'target_document': ['D59219']},\n",
       " {'id': '1185868',\n",
       "  'contents': '_________ justice is designed to repair the harm to victim, the community and the offender caused by the offender criminal act. question 19 options:',\n",
       "  'target_document': ['D59235']},\n",
       " {'id': '1183785',\n",
       "  'contents': 'elegxo meaning',\n",
       "  'target_document': ['D576811']}]"
      ]
     },
     "execution_count": 5,
     "metadata": {},
     "output_type": "execute_result"
    }
   ],
   "source": [
    "queries[:3]"
   ]
  },
  {
   "cell_type": "code",
   "execution_count": 5,
   "id": "07d86350-c46c-4070-98b4-a3c0f8ab3767",
   "metadata": {},
   "outputs": [],
   "source": [
    "def append_sbert_embedding(i):\n",
    "    import json\n",
    "    i['sbert-embedding'] = transform_to_sbert_embeddings(i['contents'])\n",
    "    return json.dumps(i)\n",
    "\n",
    "sc.parallelize(queries, 10000)\\\n",
    "    .map(append_sbert_embedding)\\\n",
    "    .saveAsTextFile('ecir22/embeddings-ms-marco-train.jsonl')"
   ]
  },
  {
   "cell_type": "code",
   "execution_count": 7,
   "id": "cfb67337-1425-4625-a9ba-d960b69652c1",
   "metadata": {},
   "outputs": [
    {
     "name": "stderr",
     "output_type": "stream",
     "text": [
      "250it [00:00, 38687.13it/s]\n"
     ]
    }
   ],
   "source": [
    "robust04_desc_queries = load_queries('/mnt/ceph/storage/data-in-progress/data-research/web-search/ECIR-22/ecir22-zero-shot/robust04-descriptions.jsonl')\n",
    "\n",
    "sc.parallelize(robust04_desc_queries, 100)\\\n",
    "    .map(append_sbert_embedding)\\\n",
    "    .saveAsTextFile('ecir22/embeddings-robust04-descriptions.jsonl')"
   ]
  },
  {
   "cell_type": "code",
   "execution_count": 8,
   "id": "f31203bd-6631-45e3-81ba-18254d722d65",
   "metadata": {},
   "outputs": [
    {
     "name": "stderr",
     "output_type": "stream",
     "text": [
      "3151it [00:00, 108014.74it/s]\n"
     ]
    }
   ],
   "source": [
    "robust04_formulation_queries = load_queries('/mnt/ceph/storage/data-in-progress/data-research/web-search/ECIR-22/ecir22-zero-shot/culpepper-robust04-query-formulations.jsonl')\n",
    "\n",
    "sc.parallelize(robust04_formulation_queries, 100)\\\n",
    "    .map(append_sbert_embedding)\\\n",
    "    .saveAsTextFile('ecir22/culpepper-robust04-query-formulations.jsonl')"
   ]
  },
  {
   "cell_type": "code",
   "execution_count": 13,
   "id": "f92e5c00-8dc0-4a2f-93f7-9e05ae681e5e",
   "metadata": {},
   "outputs": [
    {
     "name": "stderr",
     "output_type": "stream",
     "text": [
      "250it [00:00, 41929.62it/s]\n"
     ]
    }
   ],
   "source": [
    "robust04_queries = load_queries('/mnt/ceph/storage/data-in-progress/data-research/web-search/ECIR-22/ecir22-zero-shot/trec-robust04.jsonl')\n",
    "\n",
    "sc.parallelize(robust04_queries, 10)\\\n",
    "    .map(append_sbert_embedding)\\\n",
    "    .saveAsTextFile('ecir22/embeddings-trec-robust04.jsonl')"
   ]
  },
  {
   "cell_type": "code",
   "execution_count": 15,
   "id": "99aafba2-b9fb-42fb-b96c-b6a3f2c7958f",
   "metadata": {},
   "outputs": [],
   "source": [
    "sc.textFile('file:///mnt/ceph/storage/data-in-progress/data-research/web-search/ECIR-22/ecir22-zero-shot/msmarco-document-orcas.jsonl')\\\n",
    "    .repartition(100)\\\n",
    "    .saveAsTextFile('ecir22/original-ms-marco-orcas.jsonl')"
   ]
  },
  {
   "cell_type": "code",
   "execution_count": 6,
   "id": "312a8d54-0d0a-4e8b-bca5-5f35a907e2c8",
   "metadata": {},
   "outputs": [
    {
     "name": "stderr",
     "output_type": "stream",
     "text": [
      "1505it [00:00, 71136.36it/s]\n",
      "                                                                                \r"
     ]
    }
   ],
   "source": [
    "trec18_reformulations = load_queries('/mnt/ceph/storage/data-in-progress/data-research/web-search/ECIR-22/ecir22-zero-shot/culpepper-trec18-query-formulations.jsonl')\n",
    "\n",
    "sc.parallelize(trec18_reformulations, 10)\\\n",
    "    .map(append_sbert_embedding)\\\n",
    "    .saveAsTextFile('ecir22/embeddings-trec18-reformulations.jsonl')"
   ]
  },
  {
   "cell_type": "code",
   "execution_count": 9,
   "id": "95ba9d06-0cdf-4945-aa35-24e40bd95fae",
   "metadata": {},
   "outputs": [
    {
     "name": "stderr",
     "output_type": "stream",
     "text": [
      "50it [00:00, 10988.48it/s]\n",
      "                                                                                \r"
     ]
    }
   ],
   "source": [
    "trec18_reformulations = load_queries('/mnt/ceph/storage/data-in-progress/data-research/web-search/ECIR-22/ecir22-zero-shot/wapo-core-2018-descriptions.jsonl')\n",
    "\n",
    "sc.parallelize(trec18_reformulations, 10)\\\n",
    "    .map(append_sbert_embedding)\\\n",
    "    .saveAsTextFile('ecir22/embeddings-trec18-descriptions.jsonl')"
   ]
  },
  {
   "cell_type": "code",
   "execution_count": 10,
   "id": "230170c7-db65-443a-8019-a6523e8f5121",
   "metadata": {},
   "outputs": [
    {
     "name": "stderr",
     "output_type": "stream",
     "text": [
      "50it [00:00, 12575.12it/s]\n",
      "                                                                                \r"
     ]
    }
   ],
   "source": [
    "trec18_reformulations = load_queries('/mnt/ceph/storage/data-in-progress/data-research/web-search/ECIR-22/ecir22-zero-shot/wapo-core-2018-titles.jsonl')\n",
    "\n",
    "sc.parallelize(trec18_reformulations, 10)\\\n",
    "    .map(append_sbert_embedding)\\\n",
    "    .saveAsTextFile('ecir22/embeddings-trec18-titles.jsonl')"
   ]
  },
  {
   "cell_type": "code",
   "execution_count": null,
   "id": "6dd83a4a-fe0c-4f0f-aaaf-156419bdb305",
   "metadata": {},
   "outputs": [
    {
     "name": "stdout",
     "output_type": "stream",
     "text": [
      "Process \"ecir22/original-ms-marco-orcas.jsonl/part-*0\" and write to \"ecir22/embeddings-ms-marco-orcas/part-0.jsonl\".\n",
      "Process \"ecir22/original-ms-marco-orcas.jsonl/part-*1\" and write to \"ecir22/embeddings-ms-marco-orcas/part-1.jsonl\".\n",
      "Process \"ecir22/original-ms-marco-orcas.jsonl/part-*2\" and write to \"ecir22/embeddings-ms-marco-orcas/part-2.jsonl\".\n"
     ]
    }
   ],
   "source": [
    "import json\n",
    "\n",
    "for part in range(10):\n",
    "    input_file = 'ecir22/original-ms-marco-orcas.jsonl/part-*' + str(part)\n",
    "    output_file = 'ecir22/embeddings-ms-marco-orcas/part-' + str(part) + '.jsonl'\n",
    "    \n",
    "    print('Process \"' + input_file + '\" and write to \"' + output_file +'\".')\n",
    "    sc.textFile(input_file)\\\n",
    "        .repartition(10000) \\\n",
    "        .map(lambda i: append_sbert_embedding(json.loads(i)))\\\n",
    "        .saveAsTextFile(output_file)\n"
   ]
  },
  {
   "cell_type": "code",
   "execution_count": null,
   "id": "d9ce53ec-3829-49f1-bb9a-3fb204fdaadc",
   "metadata": {},
   "outputs": [],
   "source": [
    "# Run ORCAS simply via writing to hdfs (with 100 parts) and combining all parts again"
   ]
  },
  {
   "cell_type": "code",
   "execution_count": 6,
   "id": "bd987dbb-7dfe-4dd5-b436-c7aca21c4c13",
   "metadata": {},
   "outputs": [
    {
     "data": {
      "text/plain": [
       "'[-0.08469943702220917, 0.4564870297908783, 0.10086822509765625, -0.11005697399377823, 0.04533920809626579, -0.3661494851112366, 0.3580332398414612, -0.07830145955085754, -0.24362005293369293, 0.2736354470252991, 0.10803011804819107, -0.7733525633811951, -0.13244451582431793, 0.19357416033744812, 0.20357149839401245, -0.36997082829475403, 0.3396165668964386, -0.6763170957565308, -0.849643886089325, -0.19371700286865234, -0.230658158659935, -0.02822048030793667, 0.34298205375671387, 0.20185132324695587, 0.24069765210151672, -0.27264273166656494, 0.07051801681518555, 0.28514087200164795, 0.27905553579330444, -0.010386943817138672, -0.011181384325027466, 0.04527701437473297, 0.24535013735294342, -0.020689629018306732, 0.047592952847480774, 0.48722851276397705, 0.1144338995218277, -0.12156331539154053, -0.15390871465206146, -0.11076535284519196, 0.29678648710250854, -0.4554610550403595, 0.11478982865810394, 0.06491449475288391, -0.2805788516998291, -0.005584864877164364, -0.03243638575077057, 0.19312036037445068, -0.025492660701274872, 0.10158758610486984, 0.00930526852607727, -0.20151090621948242, 0.1436285376548767, -0.0898931473493576, 0.7997888326644897, 0.19379879534244537, 0.16400004923343658, 0.5003919005393982, 0.04844425618648529, -0.4123835861682892, -0.41374486684799194, -0.47276395559310913, -0.025326386094093323, 0.8419860601425171, 0.1620156168937683, 0.1532735824584961, -0.2606377601623535, 0.43784016370773315, -0.7216449975967407, -0.9117643237113953, -0.3602350950241089, -0.06881894171237946, -0.048498839139938354, 0.19168256223201752, 0.23297375440597534, -0.2777986526489258, 0.37963008880615234, -0.1429784893989563, 0.1916062831878662, 0.5609490275382996, 0.4084661602973938, -0.05393568426370621, -0.010461628437042236, -0.5830550193786621, 0.4845767617225647, -0.113331139087677, 0.1029115840792656, 0.17454679310321808, 0.04227719455957413, -0.6043915152549744, -0.7394313812255859, 0.2791154980659485, 0.7246915102005005, 0.43350058794021606, 0.012097332626581192, 0.1530357003211975, 0.31137943267822266, 0.0488445982336998, -0.6617786884307861, 1.5698521137237549, 0.36193904280662537, 0.148813396692276, 0.49641990661621094, 0.3448859751224518, -0.24441739916801453, 0.47320544719696045, -0.2631124258041382, 0.4993917644023895, 0.05329512059688568, 0.11406902968883514, -0.22877034544944763, -0.04336903244256973, -0.20341789722442627, 0.10597320646047592, 0.3737863302230835, 0.061443716287612915, 0.26065677404403687, 0.4802852272987366, 0.33708709478378296, -0.6553970575332642, 0.01377028226852417, -0.28922921419143677, -0.02539418265223503, -0.18594302237033844, -0.6735166907310486, -0.024639854207634926, 0.4803006649017334, 0.27536144852638245, 0.1822444498538971, 0.29827627539634705, -0.1919078528881073, 0.5343491435050964, -0.008797001093626022, 0.3069656491279602, -0.21810799837112427, -0.1038127988576889, -0.1398477554321289, -0.14189736545085907, -0.15162506699562073, 0.061655521392822266, -0.3548749089241028, 0.31456834077835083, 0.10652866214513779, -0.23747001588344574, 0.181940957903862, 0.5393760800361633, 0.29171961545944214, 0.5020653009414673, -0.012960508465766907, -0.3500747084617615, 0.1951698660850525, 0.007279247045516968, 0.009370051324367523, 0.4073788821697235, 0.25481605529785156, -0.10485465079545975, 1.185978651046753, 0.2828645706176758, 0.16491293907165527, -0.4207371771335602, -0.2507503032684326, -0.04462968185544014, -0.15479208528995514, -0.15878266096115112, -0.49950772523880005, -0.401295006275177, -0.28619885444641113, -0.11829467862844467, -0.37281930446624756, 0.17397359013557434, -0.487634539604187, -0.056973278522491455, 0.0026283860206604004, 0.0644322857260704, 0.21376872062683105, -0.3212123513221741, 0.8684197664260864, 0.7110563516616821, -0.2682185769081116, 0.1602502018213272, -0.8188387155532837, -0.31392616033554077, 0.21196943521499634, 0.27693450450897217, 0.10476401448249817, 0.08666456490755081, -0.05256887525320053, 0.01926770806312561, -0.21478891372680664, -0.21563410758972168, 0.014068856835365295, -0.42710888385772705, 0.2956087589263916, 0.2767024338245392, 0.12713828682899475, 0.10711798071861267, -0.3153403699398041, -0.7022724151611328, 0.04825931787490845, -0.28940823674201965, 0.15990160405635834, 0.2861554026603699, 0.3513185977935791, -0.06886308640241623, 0.6245968341827393, -0.29239535331726074, 0.026951082050800323, 0.11437326669692993, -0.009004540741443634, 0.8237249255180359, -0.12523536384105682, 0.24733461439609528, 0.13817434012889862, -0.3686709403991699, -0.06106532737612724, -0.12520039081573486, -0.24754446744918823, 0.19010043144226074, -0.7401747703552246, 0.23279879987239838, 0.393762469291687, -0.11006142199039459, -0.18028472363948822, -0.29953521490097046, 0.2426399290561676, -0.2433745414018631, -0.8143547177314758, -0.004466347396373749, 0.423747181892395, 0.06280062347650528, 0.2616772949695587, 1.0482226610183716, -0.3863975703716278, 0.4188492000102997, -0.02908133715391159, 0.1897907257080078, 0.24139191210269928, 0.13234248757362366, -0.3460733890533447, 0.05999527871608734, 0.6545636057853699, -0.021433144807815552, -0.3530394732952118, 0.42895081639289856, 0.00978078693151474, 0.09419979155063629, -1.0371383428573608, 0.11786166578531265, -0.6087011694908142, 0.6397134065628052, 0.04840543121099472, -0.1515769362449646, -0.6389087438583374, 0.11881941556930542, 0.07600940763950348, 0.25367462635040283, -0.6087325811386108, -0.13956084847450256, -0.04484392702579498, 0.4737672507762909, -0.5100858211517334, -0.5746822953224182, -0.47108083963394165, -0.08608388155698776, -2.3562461137771606e-05, 0.1184471920132637, -0.16412049531936646, 0.5381180047988892, -0.3951112627983093, -0.10469421744346619, -1.051822543144226, 0.11303254961967468, -0.15133926272392273, -0.07616102695465088, -0.18919247388839722, -0.02349192649126053, 0.43806013464927673, -0.33359280228614807, -0.15172746777534485, 0.220516175031662, -0.5247753858566284, -0.43345874547958374, 0.6387717127799988, 0.23654885590076447, -0.42217737436294556, 0.006013799458742142, -0.20688079297542572, 0.4139860272407532, -0.34582090377807617, 0.16556745767593384, 0.326760858297348, 0.693403959274292, 0.015689969062805176, -0.28676655888557434, -0.15708279609680176, -0.13936087489128113, -0.5055321455001831, -0.3429078459739685, 0.2088516801595688, 0.1658327430486679, -0.20893405377864838, 0.004718473181128502, 0.14146432280540466, -0.23770689964294434, 0.3338397145271301, 0.12973427772521973, -0.28573861718177795, -0.24765203893184662, 0.4254816174507141, -0.228287011384964, -0.2209286391735077, 0.20925205945968628, 0.13094007968902588, -0.050192397087812424, -0.013185754418373108, 0.2081996202468872, -0.5907852649688721, 0.30473050475120544, -0.04172981157898903, 0.0751330554485321, -0.49397754669189453, 0.3945575952529907, 0.027982477098703384, -0.032344989478588104, -0.459894597530365, 0.12571093440055847, -0.10395792126655579, -0.7523688673973083, -0.21520160138607025, 0.3537065386772156, -0.13149745762348175, -0.40234827995300293, -0.19095051288604736, 0.22419317066669464, -0.030423685908317566, 0.24737782776355743, -0.18795841932296753, -0.06761309504508972, -0.1787666231393814, -0.2439592033624649, -0.04282044619321823, -0.36860018968582153, 0.29594144225120544, 0.06608099490404129, 0.38329464197158813, -0.02986355498433113, -0.22199460864067078, -0.1492568850517273, 0.17321163415908813, -0.29076892137527466, 0.2355531007051468, 0.7190690040588379, -0.5451163053512573, -0.2757304608821869, 0.13347113132476807, -0.20016297698020935, -0.1607765108346939, -0.0661139115691185, -0.1851297914981842, -0.5091961026191711, 0.09560316801071167, 0.21853843331336975, 0.2611771821975708, -0.0001680031418800354, 0.011891904287040234, 0.5450519323348999, 0.4631463885307312, -0.37412595748901367, -0.3584563732147217, -0.024205949157476425, -0.3381759524345398, -0.31798043847084045, 0.3382137417793274, -0.34947019815444946, -0.184756338596344, -0.010816067457199097, -0.11279987543821335, 0.16977839171886444, -0.017699621617794037, 0.51512610912323, 0.3195386826992035, -0.6560264825820923, -0.36865824460983276, 0.14153510332107544]'"
      ]
     },
     "execution_count": 6,
     "metadata": {},
     "output_type": "execute_result"
    }
   ],
   "source": [
    "transform_to_sbert_embeddings('Hello World')"
   ]
  }
 ],
 "metadata": {
  "kernelspec": {
   "display_name": "Python 3",
   "language": "python",
   "name": "python3"
  },
  "language_info": {
   "codemirror_mode": {
    "name": "ipython",
    "version": 3
   },
   "file_extension": ".py",
   "mimetype": "text/x-python",
   "name": "python",
   "nbconvert_exporter": "python",
   "pygments_lexer": "ipython3",
   "version": "3.8.13"
  }
 },
 "nbformat": 4,
 "nbformat_minor": 5
}
