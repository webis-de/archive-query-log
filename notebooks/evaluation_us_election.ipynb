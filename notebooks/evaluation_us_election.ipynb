{
 "cells": [
  {
   "cell_type": "code",
   "execution_count": 1,
   "metadata": {},
   "outputs": [],
   "source": [
    "from os import environ\n",
    "\n",
    "from pyspark.sql import SparkSession\n",
    "\n",
    "environ[\n",
    "    'PYSPARK_PYTHON'] = \"/mnt/ceph/storage/data-in-progress/data-research/web-search/web-archive-query-log/venv/bin/python\"\n",
    "session = SparkSession.builder \\\n",
    "    .master(\"yarn\") \\\n",
    "    .appName(\"web-archive-query-us-election\") \\\n",
    "    .config(\"spark.executor.instances\", 3) \\\n",
    "    .getOrCreate()"
   ]
  },
  {
   "cell_type": "code",
   "execution_count": 2,
   "metadata": {},
   "outputs": [
    {
     "data": {
      "text/html": [
       "\n",
       "        <div>\n",
       "            <p><b>SparkContext</b></p>\n",
       "\n",
       "            <p><a href=\"http://10.23.88.185:4044\">Spark UI</a></p>\n",
       "\n",
       "            <dl>\n",
       "              <dt>Version</dt>\n",
       "                <dd><code>v3.2.1</code></dd>\n",
       "              <dt>Master</dt>\n",
       "                <dd><code>yarn</code></dd>\n",
       "              <dt>AppName</dt>\n",
       "                <dd><code>web-archive-query-us-election</code></dd>\n",
       "            </dl>\n",
       "        </div>\n",
       "        "
      ],
      "text/plain": [
       "<SparkContext master=yarn appName=web-archive-query-us-election>"
      ]
     },
     "execution_count": 2,
     "metadata": {},
     "output_type": "execute_result"
    }
   ],
   "source": [
    "sc = session.sparkContext\n",
    "sc"
   ]
  },
  {
   "cell_type": "code",
   "execution_count": 3,
   "metadata": {
    "collapsed": false,
    "jupyter": {
     "outputs_hidden": false
    }
   },
   "outputs": [
    {
     "data": {
      "text/plain": [
       "PosixPath('/mnt/ceph/storage/data-in-progress/data-research/web-search/web-archive-query-log')"
      ]
     },
     "execution_count": 3,
     "metadata": {},
     "output_type": "execute_result"
    }
   ],
   "source": [
    "from pathlib import Path\n",
    "\n",
    "global_data_dir = Path(\"/mnt/ceph/storage/data-in-progress/data-research/web-search/web-archive-query-log/\")\n",
    "global_data_dir"
   ]
  },
  {
   "cell_type": "code",
   "execution_count": 4,
   "metadata": {},
   "outputs": [
    {
     "data": {
      "text/plain": [
       "PosixPath('/mnt/ceph/storage/data-in-progress/data-research/web-search/web-archive-query-log/focused')"
      ]
     },
     "execution_count": 4,
     "metadata": {},
     "output_type": "execute_result"
    }
   ],
   "source": [
    "data_dir = global_data_dir / \"focused\"\n",
    "data_dir"
   ]
  },
  {
   "cell_type": "code",
   "execution_count": 5,
   "metadata": {
    "collapsed": false,
    "jupyter": {
     "outputs_hidden": false
    }
   },
   "outputs": [],
   "source": [
    "from pathlib import Path\n",
    "\n",
    "figures_dir = Path(\"figures\")\n",
    "figures_dir.mkdir(parents=True, exist_ok=True)"
   ]
  },
  {
   "cell_type": "code",
   "execution_count": 6,
   "metadata": {},
   "outputs": [],
   "source": [
    "def paths_jsonl(service: str, base_type: str):\n",
    "    base_path = data_dir / base_type / service\n",
    "    if not base_path.exists():\n",
    "        return []\n",
    "    yield from base_path.glob(\"*/*.jsonl.gz\")"
   ]
  },
  {
   "cell_type": "code",
   "execution_count": 23,
   "metadata": {},
   "outputs": [],
   "source": [
    "from json import loads, JSONDecodeError\n",
    "from typing import Iterator\n",
    "from gzip import GzipFile\n",
    "\n",
    "def read_jsonl(path: Path) -> Iterator:\n",
    "    print(f\"Read JSONL records in {path}.\")\n",
    "    try:\n",
    "        with GzipFile(path, \"r\") as gzip_file:\n",
    "            for line in gzip_file:\n",
    "                try:\n",
    "                    url = loads(line)\n",
    "                except JSONDecodeError:\n",
    "                    continue\n",
    "                yield url\n",
    "    except:\n",
    "        return "
   ]
  },
  {
   "cell_type": "code",
   "execution_count": 24,
   "metadata": {},
   "outputs": [
    {
     "name": "stdout",
     "output_type": "stream",
     "text": [
      "Requirement already satisfied: publicsuffixlist in /opt/conda/lib/python3.8/site-packages (0.9.3)\n"
     ]
    }
   ],
   "source": [
    "!pip install publicsuffixlist"
   ]
  },
  {
   "cell_type": "code",
   "execution_count": 25,
   "metadata": {},
   "outputs": [],
   "source": [
    "from urllib.parse import urlsplit\n",
    "from publicsuffixlist import PublicSuffixList\n",
    "\n",
    "public_suffix_list = PublicSuffixList()\n",
    "\n",
    "def domain(url: str) -> str:\n",
    "    hostname = urlsplit(url).hostname\n",
    "    if hostname is None:\n",
    "        return None\n",
    "    public_suffix = public_suffix_list.publicsuffix(hostname)\n",
    "    second_level_domain = public_suffix_list.subdomain(hostname, 0)\n",
    "    if second_level_domain is None:\n",
    "        second_level_domain = public_suffix\n",
    "    return second_level_domain"
   ]
  },
  {
   "cell_type": "code",
   "execution_count": 26,
   "metadata": {},
   "outputs": [
    {
     "data": {
      "text/plain": [
       "1087"
      ]
     },
     "execution_count": 26,
     "metadata": {},
     "output_type": "execute_result"
    }
   ],
   "source": [
    "with Path(\"services.txt\").open(\"rt\") as file:\n",
    "    alexa_services = [\n",
    "        line.strip()\n",
    "        for line in file\n",
    "        if line\n",
    "    ]\n",
    "len(alexa_services)"
   ]
  },
  {
   "cell_type": "code",
   "execution_count": 97,
   "metadata": {},
   "outputs": [],
   "source": [
    "terms_de = {\n",
    "    \"corona virus\",\n",
    "    \"covid 19\",\n",
    "    \"covid-19\",\n",
    "    \"sars cov 2\",\n",
    "    \"sars-cov-2\",\n",
    "    # \"world health organization\",\n",
    "    # \"who\",\n",
    "    # \"bundestagswahl\",\n",
    "    # \"bundestagwahl\",\n",
    "    # \"bundestag wahl\",\n",
    "}"
   ]
  },
  {
   "cell_type": "code",
   "execution_count": 98,
   "metadata": {},
   "outputs": [],
   "source": [
    "from datetime import datetime\n",
    "\n",
    "timeline_de = sc.parallelize(alexa_services, 1000)\\\n",
    "    .flatMap(lambda service: paths_jsonl(service, \"archived-query-urls\"))\\\n",
    "    .repartition(10_000)\\\n",
    "    .flatMap(read_jsonl)\\\n",
    "    .keyBy(lambda url: datetime.fromtimestamp(url[\"timestamp\"]))\\\n",
    "    .mapValues(lambda url: url[\"query\"].lower())\\\n",
    "    .filter(lambda timestamp_query: any(term in timestamp_query[1] for term in terms_de))\\\n",
    "    .collect()"
   ]
  },
  {
   "cell_type": "code",
   "execution_count": 99,
   "metadata": {},
   "outputs": [
    {
     "data": {
      "text/plain": [
       "128844"
      ]
     },
     "execution_count": 99,
     "metadata": {},
     "output_type": "execute_result"
    }
   ],
   "source": [
    "len(timeline_de)"
   ]
  },
  {
   "cell_type": "code",
   "execution_count": 100,
   "metadata": {},
   "outputs": [],
   "source": [
    "from pandas import DataFrame\n",
    "\n",
    "df = DataFrame([\n",
    "    {\n",
    "        \"country\": \"Germany\",\n",
    "        \"timestamp\": timestamp,\n",
    "    }\n",
    "    for timestamp, query in timeline_de\n",
    "])"
   ]
  },
  {
   "cell_type": "code",
   "execution_count": 126,
   "metadata": {},
   "outputs": [
    {
     "data": {
      "image/png": "[encoded data removed]",
      "text/plain": [
       "<Figure size 600x150 with 1 Axes>"
      ]
     },
     "metadata": {},
     "output_type": "display_data"
    }
   ],
   "source": [
    "from seaborn import displot\n",
    "from pandas import date_range\n",
    "\n",
    "width = 6\n",
    "aspect = 4\n",
    "plot = displot(\n",
    "    data=df,\n",
    "    kind=\"hist\",\n",
    "    x=\"timestamp\",\n",
    "    element=\"step\",\n",
    "    aspect=aspect,\n",
    "    height=width/aspect,\n",
    "    binwidth=365/12,\n",
    "    # bins=30,\n",
    "    linewidth=0.75,\n",
    "    alpha=0.1,\n",
    ")\n",
    "plot.set_axis_labels(\"Year\", \"Count\")\n",
    "# plot.refline(x=datetime(2002, 9, 22))\n",
    "# plot.refline(x=datetime(2005, 9, 18))\n",
    "# plot.refline(x=datetime(2009, 9, 27))\n",
    "# plot.refline(x=datetime(2013, 9, 22))\n",
    "# plot.refline(x=datetime(2017, 9, 24))\n",
    "# plot.refline(x=datetime(2021, 9, 26))\n",
    "mths = date_range(start='2020-03-06', end='2022-09-6', periods=6)\n",
    "plot.set(xticks=mths.strftime('%Y-%m-%d'))\n",
    "plot.set(xticklabels=mths.strftime('%b %y'))\n",
    "plot.set(\n",
    "    xlim=(datetime(2019, 12, 1), datetime(2022,12,31)),\n",
    "    yscale=\"log\",\n",
    ")\n",
    "plot.savefig(\"figures/plot-time-series-covid.pdf\")\n",
    "plot.savefig(\"figures/plot-time-series-covid.png\")"
   ]
  },
  {
   "cell_type": "code",
   "execution_count": 27,
   "metadata": {},
   "outputs": [],
   "source": [
    "domains_dem = {\n",
    "    \"democrats.org\",\n",
    "}"
   ]
  },
  {
   "cell_type": "code",
   "execution_count": 28,
   "metadata": {},
   "outputs": [],
   "source": [
    "domains_rep = {\n",
    "    \"gop.com\",\n",
    "    # \"gop.gov\",\n",
    "}"
   ]
  },
  {
   "cell_type": "code",
   "execution_count": 29,
   "metadata": {},
   "outputs": [],
   "source": [
    "def us_reciprocal_ranks(results: list) -> tuple:\n",
    "    domains = [domain(result[\"url\"]) for result in results]\n",
    "    rank_dem = None\n",
    "    rank_rep = None\n",
    "    for i, domain in enumerate(domains):\n",
    "        if rank_dem is None and domain in domains_dem:\n",
    "            rank_dem = i + 1\n",
    "        if rank_rep is None and domain in domains_rep:\n",
    "            rank_rep = i + 1\n",
    "    reciprocal_rank_dem = 1 / rank_dem if rank_dem is not None else 0\n",
    "    reciprocal_rank_rep = 1 / rank_rep if rank_rep is not None else 0\n",
    "    return reciprocal_rank_dem, reciprocal_rank_rep"
   ]
  },
  {
   "cell_type": "code",
   "execution_count": 30,
   "metadata": {},
   "outputs": [],
   "source": [
    "from statistics import mean\n",
    "\n",
    "def mean_tuple(ranks: list) -> tuple:\n",
    "    mean_rank_a = mean(rank for rank, _ in ranks)\n",
    "    mean_rank_b = mean(rank for _, rank in ranks)\n",
    "    return mean_rank_a, mean_rank_b"
   ]
  },
  {
   "cell_type": "code",
   "execution_count": 31,
   "metadata": {
    "collapsed": false,
    "jupyter": {
     "outputs_hidden": false
    }
   },
   "outputs": [],
   "source": [
    "from json import loads\n",
    "from pandas import DataFrame\n",
    "from datetime import datetime\n",
    "\n",
    "timeline = sc.parallelize(alexa_services, 1000)\\\n",
    "    .flatMap(lambda service: paths_jsonl(service, \"archived-parsed-serps\"))\\\n",
    "    .repartition(10_000)\\\n",
    "    .flatMap(read_jsonl)\\\n",
    "    .filter(lambda serp: serp[\"results\"] is not None)\\\n",
    "    .filter(lambda serp: serp[\"offset\"] is None or serp[\"offset\"] == 0)\\\n",
    "    .filter(lambda serp: serp[\"page\"] is None or serp[\"page\"] <= 1)\\\n",
    "    .count()\n",
    "    # .map(lambda serp: (serp[\"timestamp\"], serp[\"results\"]))\\\n",
    "    # .keyBy(datetime.fromtimestamp)\\\n",
    "    # .mapValues(us_reciprocal_ranks)\\\n",
    "    # .collect()\n",
    "    # .map(lambda timestamp_results: (timestamp_results[0].year + (timestamp_results[0].month-1)/12 + (timestamp_results[0].day-1)/365, timestamp_results[1]))\\\n",
    "    # .groupByKey()\\\n",
    "    # .mapValues(mean_tuple)\\"
   ]
  },
  {
   "cell_type": "code",
   "execution_count": 32,
   "metadata": {},
   "outputs": [
    {
     "data": {
      "text/plain": [
       "5482954"
      ]
     },
     "execution_count": 32,
     "metadata": {},
     "output_type": "execute_result"
    }
   ],
   "source": [
    "# len(timeline)\n",
    "timeline"
   ]
  },
  {
   "cell_type": "code",
   "execution_count": 83,
   "metadata": {},
   "outputs": [
    {
     "data": {
      "text/html": [
       "<div>\n",
       "<style scoped>\n",
       "    .dataframe tbody tr th:only-of-type {\n",
       "        vertical-align: middle;\n",
       "    }\n",
       "\n",
       "    .dataframe tbody tr th {\n",
       "        vertical-align: top;\n",
       "    }\n",
       "\n",
       "    .dataframe thead th {\n",
       "        text-align: right;\n",
       "    }\n",
       "</style>\n",
       "<table border=\"1\" class=\"dataframe\">\n",
       "  <thead>\n",
       "    <tr style=\"text-align: right;\">\n",
       "      <th></th>\n",
       "      <th>service</th>\n",
       "      <th>language</th>\n",
       "      <th>query_length</th>\n",
       "      <th>count</th>\n",
       "    </tr>\n",
       "  </thead>\n",
       "  <tbody>\n",
       "    <tr>\n",
       "      <th>0</th>\n",
       "      <td>wikimedia</td>\n",
       "      <td>en</td>\n",
       "      <td>32</td>\n",
       "      <td>654</td>\n",
       "    </tr>\n",
       "    <tr>\n",
       "      <th>1</th>\n",
       "      <td>wikimedia</td>\n",
       "      <td>None</td>\n",
       "      <td>9</td>\n",
       "      <td>3665</td>\n",
       "    </tr>\n",
       "    <tr>\n",
       "      <th>2</th>\n",
       "      <td>wikimedia</td>\n",
       "      <td>None</td>\n",
       "      <td>13</td>\n",
       "      <td>6724</td>\n",
       "    </tr>\n",
       "    <tr>\n",
       "      <th>3</th>\n",
       "      <td>wikimedia</td>\n",
       "      <td>it</td>\n",
       "      <td>26</td>\n",
       "      <td>67</td>\n",
       "    </tr>\n",
       "    <tr>\n",
       "      <th>4</th>\n",
       "      <td>wikimedia</td>\n",
       "      <td>sv</td>\n",
       "      <td>12</td>\n",
       "      <td>155</td>\n",
       "    </tr>\n",
       "    <tr>\n",
       "      <th>...</th>\n",
       "      <td>...</td>\n",
       "      <td>...</td>\n",
       "      <td>...</td>\n",
       "      <td>...</td>\n",
       "    </tr>\n",
       "    <tr>\n",
       "      <th>450642</th>\n",
       "      <td>wikimedia</td>\n",
       "      <td>ceb</td>\n",
       "      <td>46</td>\n",
       "      <td>1</td>\n",
       "    </tr>\n",
       "    <tr>\n",
       "      <th>450643</th>\n",
       "      <td>wikimedia</td>\n",
       "      <td>bs</td>\n",
       "      <td>1</td>\n",
       "      <td>1</td>\n",
       "    </tr>\n",
       "    <tr>\n",
       "      <th>450644</th>\n",
       "      <td>wikimedia</td>\n",
       "      <td>da</td>\n",
       "      <td>55</td>\n",
       "      <td>2</td>\n",
       "    </tr>\n",
       "    <tr>\n",
       "      <th>450645</th>\n",
       "      <td>wikimedia</td>\n",
       "      <td>sq</td>\n",
       "      <td>5</td>\n",
       "      <td>1</td>\n",
       "    </tr>\n",
       "    <tr>\n",
       "      <th>450646</th>\n",
       "      <td>wikimedia</td>\n",
       "      <td>pl</td>\n",
       "      <td>2</td>\n",
       "      <td>1</td>\n",
       "    </tr>\n",
       "  </tbody>\n",
       "</table>\n",
       "<p>450647 rows × 4 columns</p>\n",
       "</div>"
      ],
      "text/plain": [
       "          service language  query_length  count\n",
       "0       wikimedia       en            32    654\n",
       "1       wikimedia     None             9   3665\n",
       "2       wikimedia     None            13   6724\n",
       "3       wikimedia       it            26     67\n",
       "4       wikimedia       sv            12    155\n",
       "...           ...      ...           ...    ...\n",
       "450642  wikimedia      ceb            46      1\n",
       "450643  wikimedia       bs             1      1\n",
       "450644  wikimedia       da            55      2\n",
       "450645  wikimedia       sq             5      1\n",
       "450646  wikimedia       pl             2      1\n",
       "\n",
       "[450647 rows x 4 columns]"
      ]
     },
     "execution_count": 83,
     "metadata": {},
     "output_type": "execute_result"
    }
   ],
   "source": [
    "df = DataFrame([\n",
    "    {\n",
    "        \"rank_dem\": rank_dem,\n",
    "        \"language\": language,\n",
    "        \"query_length\": query_length,\n",
    "        \"count\": count,\n",
    "    }\n",
    "    for (service, language, query_length), count in counts.items()\n",
    "])\n",
    "df.to_csv(\"query-length-counts.csv\")\n",
    "df"
   ]
  },
  {
   "cell_type": "code",
   "execution_count": 138,
   "metadata": {},
   "outputs": [
    {
     "data": {
      "text/plain": [
       "104"
      ]
     },
     "execution_count": 138,
     "metadata": {},
     "output_type": "execute_result"
    }
   ],
   "source": [
    "num_languages = sc.parallelize(alexa_services, 1000)\\\n",
    "    .flatMap(lambda service: paths_jsonl(service, \"archived-query-urls\"))\\\n",
    "    .repartition(10_000)\\\n",
    "    .flatMap(read_jsonl)\\\n",
    "    .map(lambda url: url[\"query\"])\\\n",
    "    .map(detect_language)\\\n",
    "    .distinct()\\\n",
    "    .count()\n",
    "num_languages"
   ]
  }
 ],
 "metadata": {
  "kernelspec": {
   "display_name": "Python 3",
   "language": "python",
   "name": "python3"
  },
  "language_info": {
   "codemirror_mode": {
    "name": "ipython",
    "version": 3
   },
   "file_extension": ".py",
   "mimetype": "text/x-python",
   "name": "python",
   "nbconvert_exporter": "python",
   "pygments_lexer": "ipython3",
   "version": "3.8.13"
  }
 },
 "nbformat": 4,
 "nbformat_minor": 4
}
