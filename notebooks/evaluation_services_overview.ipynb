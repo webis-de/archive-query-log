{
 "cells": [
  {
   "cell_type": "code",
   "execution_count": 57,
   "metadata": {},
   "outputs": [],
   "source": [
    "from os import environ\n",
    "\n",
    "from pyspark.sql import SparkSession\n",
    "\n",
    "environ[\n",
    "    'PYSPARK_PYTHON'] = \"/mnt/ceph/storage/data-in-progress/data-research/web-search/web-archive-query-log/venv/bin/python\"\n",
    "session = SparkSession.builder \\\n",
    "    .master(\"yarn\") \\\n",
    "    .appName(\"web-archive-query-log-services-overview\") \\\n",
    "    .config(\"spark.executor.instances\", 3) \\\n",
    "    .getOrCreate()"
   ]
  },
  {
   "cell_type": "code",
   "execution_count": 58,
   "metadata": {},
   "outputs": [
    {
     "data": {
      "text/html": [
       "\n",
       "        <div>\n",
       "            <p><b>SparkContext</b></p>\n",
       "\n",
       "            <p><a href=\"http://10.23.88.185:4045\">Spark UI</a></p>\n",
       "\n",
       "            <dl>\n",
       "              <dt>Version</dt>\n",
       "                <dd><code>v3.2.1</code></dd>\n",
       "              <dt>Master</dt>\n",
       "                <dd><code>yarn</code></dd>\n",
       "              <dt>AppName</dt>\n",
       "                <dd><code>web-archive-query-log-services-overview</code></dd>\n",
       "            </dl>\n",
       "        </div>\n",
       "        "
      ],
      "text/plain": [
       "<SparkContext master=yarn appName=web-archive-query-log-services-overview>"
      ]
     },
     "execution_count": 58,
     "metadata": {},
     "output_type": "execute_result"
    }
   ],
   "source": [
    "sc = session.sparkContext\n",
    "sc"
   ]
  },
  {
   "cell_type": "code",
   "execution_count": 59,
   "metadata": {},
   "outputs": [
    {
     "data": {
      "text/plain": [
       "PosixPath('/mnt/ceph/storage/data-in-progress/data-research/web-search/web-archive-query-log')"
      ]
     },
     "execution_count": 59,
     "metadata": {},
     "output_type": "execute_result"
    }
   ],
   "source": [
    "from pathlib import Path\n",
    "\n",
    "global_data_dir = Path(\"/mnt/ceph/storage/data-in-progress/data-research/web-search/web-archive-query-log/\")\n",
    "global_data_dir"
   ]
  },
  {
   "cell_type": "code",
   "execution_count": 60,
   "metadata": {},
   "outputs": [
    {
     "data": {
      "text/plain": [
       "PosixPath('/mnt/ceph/storage/data-in-progress/data-research/web-search/web-archive-query-log/focused')"
      ]
     },
     "execution_count": 60,
     "metadata": {},
     "output_type": "execute_result"
    }
   ],
   "source": [
    "data_dir = global_data_dir / \"focused\"\n",
    "data_dir"
   ]
  },
  {
   "cell_type": "code",
   "execution_count": 61,
   "metadata": {
    "collapsed": false,
    "jupyter": {
     "outputs_hidden": false
    }
   },
   "outputs": [],
   "source": [
    "from pathlib import Path\n",
    "\n",
    "figures_dir = Path(\"figures\")\n",
    "figures_dir.mkdir(parents=True, exist_ok=True)"
   ]
  },
  {
   "cell_type": "code",
   "execution_count": 62,
   "metadata": {},
   "outputs": [],
   "source": [
    "top_services = {\n",
    "    \"google\": (\"Google\", \"google\", \"#4285f4\"),\n",
    "    \"youtube\": (\"YouTube\", \"youtube\", \"#ff0000\"),\n",
    "    \"baidu\": (\"Baidu\", \"baidu\", \"#de0f17\"),\n",
    "    \"qq\": (\"QQ\", \"qq\", \"#0052d4\"),\n",
    "    \"facebook\": (\"Facebook\", \"facebook\", \"#1877f2\"),\n",
    "    \"yahoo\": (\"Yahoo!\", \"yahoo\", \"#410093\"),\n",
    "    \"amazon\": (\"Amazon\", \"amazon\", \"#ff9900\"),\n",
    "    \"wikimedia\": (\"Wikipedia\", \"wikipedia\", \"#339966\"),\n",
    "    \"jd\": (\"JD.com\", \"jd-dot-com\", \"#f30213\"),\n",
    "    \"360\": (\"360\", \"360\", \"#07cd5a\"),\n",
    "    \"weibo\": (\"Weibo\", \"weibo\", \"#e6162d\"),\n",
    "    \"reddit\": (\"Reddit\", \"reddit\", \"#ff4500\"),\n",
    "    \"vk\": (\"Vk.com\", \"vk-dot-com\", \"#45668e\"),\n",
    "    \"csdn\": (\"CSDN\", \"csdn\", \"#fe5537\"),\n",
    "    \"bing\": (\"Bing\", \"bing\", \"#ffb900\"),\n",
    "    \"twitter\": (\"Twitter\", \"twitter\", \"#1da1f2\"),\n",
    "    \"twitch\": (\"Twitch\", \"twitch\", \"#9146ff\"),\n",
    "    \"ebay\": (\"eBay\", \"ebay\", \"#0064d2\"),\n",
    "    \"naver\": (\"Naver\", \"naver\", \"#1ec545\"),\n",
    "    \"aliexpress\": (\"AliExpress\", \"aliexpress\", \"#ff4747\"),\n",
    "}"
   ]
  },
  {
   "cell_type": "code",
   "execution_count": 63,
   "metadata": {},
   "outputs": [],
   "source": [
    "def paths_jsonl(service: str, base_type: str):\n",
    "    base_path = data_dir / base_type / service\n",
    "    if not base_path.exists():\n",
    "        return []\n",
    "    yield from base_path.glob(\"*/*.jsonl.gz\")"
   ]
  },
  {
   "cell_type": "code",
   "execution_count": 64,
   "metadata": {},
   "outputs": [],
   "source": [
    "def paths_warc(service: str, base_type: str):\n",
    "    base_path = data_dir / base_type / service\n",
    "    if not base_path.exists():\n",
    "        return []\n",
    "    for path in base_path.glob(\"*/*\"):\n",
    "        if path.is_dir():\n",
    "            yield path"
   ]
  },
  {
   "cell_type": "code",
   "execution_count": 65,
   "metadata": {},
   "outputs": [],
   "source": [
    "from gzip import GzipFile\n",
    "\n",
    "\n",
    "def count_jsonl(path: Path) -> int:\n",
    "    print(f\"Count JSONL records in {path}.\")\n",
    "    try:\n",
    "        with GzipFile(path, \"r\") as file:\n",
    "            return sum(1 for _ in file)\n",
    "    except:\n",
    "        return 0"
   ]
  },
  {
   "cell_type": "code",
   "execution_count": 66,
   "metadata": {},
   "outputs": [],
   "source": [
    "from json import loads, JSONDecodeError\n",
    "from typing import Iterator\n",
    "\n",
    "def read_jsonl(path: Path) -> Iterator:\n",
    "    print(f\"Read JSONL records in {path}.\")\n",
    "    try:\n",
    "        with GzipFile(path, \"r\") as gzip_file:\n",
    "            for line in gzip_file:\n",
    "                try:\n",
    "                    url = loads(line)\n",
    "                except JSONDecodeError:\n",
    "                    continue\n",
    "                yield url\n",
    "    except:\n",
    "        return "
   ]
  },
  {
   "cell_type": "code",
   "execution_count": 67,
   "metadata": {},
   "outputs": [],
   "source": [
    "from typing import Optional\n",
    "\n",
    "\n",
    "def detect_language(text: str) -> Optional[str]:\n",
    "    text = text.replace(\"\\n\", \" \")\n",
    "    # if len(text) < 10:\n",
    "    #     return None\n",
    "    from cld3 import get_language\n",
    "    language_prediction = get_language(text)\n",
    "    if language_prediction is None:\n",
    "        return None\n",
    "    return language_prediction.language.split(\"-\")[0] if language_prediction.is_reliable else None"
   ]
  },
  {
   "cell_type": "code",
   "execution_count": 68,
   "metadata": {},
   "outputs": [],
   "source": [
    "from bleach import clean\n",
    "\n",
    "def result_text(result: dict) -> str:\n",
    "    title_and_text = result[\"title\"]\n",
    "    if result[\"snippet\"] is not None:\n",
    "        title_and_text += f\" {result['snippet']}\"\n",
    "    title_and_text = clean(\n",
    "        title_and_text,\n",
    "        tags=[],\n",
    "        attributes=[],\n",
    "        protocols=[],\n",
    "        strip=True,\n",
    "        strip_comments=True,\n",
    "    )\n",
    "    return title_and_text"
   ]
  },
  {
   "cell_type": "code",
   "execution_count": 69,
   "metadata": {},
   "outputs": [
    {
     "data": {
      "text/plain": [
       "1087"
      ]
     },
     "execution_count": 69,
     "metadata": {},
     "output_type": "execute_result"
    }
   ],
   "source": [
    "with Path(\"services.txt\").open(\"rt\") as file:\n",
    "    alexa_services = [\n",
    "        line.strip()\n",
    "        for line in file\n",
    "        if line\n",
    "    ]\n",
    "len(alexa_services)"
   ]
  },
  {
   "cell_type": "code",
   "execution_count": 70,
   "metadata": {},
   "outputs": [
    {
     "data": {
      "text/plain": [
       "(1999, 2023)"
      ]
     },
     "execution_count": 70,
     "metadata": {},
     "output_type": "execute_result"
    }
   ],
   "source": [
    "years = sc.parallelize(alexa_services, 1000)\\\n",
    "    .flatMap(lambda service: paths_jsonl(service, \"archived-query-urls\"))\\\n",
    "    .repartition(10_000)\\\n",
    "    .flatMap(read_jsonl)\\\n",
    "    .map(lambda query: datetime.fromtimestamp(query[\"timestamp\"]))\\\n",
    "    .map(lambda date: date.year)\\\n",
    "    .distinct()\\\n",
    "    .collect()\n",
    "year_range = (min(years), max(years) + 1)\n",
    "year_range"
   ]
  },
  {
   "cell_type": "code",
   "execution_count": 71,
   "metadata": {},
   "outputs": [],
   "source": [
    "from operator import add\n",
    "from datetime import datetime\n",
    "from seaborn import rugplot, FacetGrid, set_theme\n",
    "from pandas import DataFrame\n",
    "\n",
    "def service_overview(service: str) -> str:\n",
    "    set_theme(style=\"white\", rc={\"axes.facecolor\": (0, 0, 0, 0)})\n",
    "    \n",
    "    name, logo, color = top_services[service]\n",
    "    print(f\"Create summary for service {name}.\")\n",
    "    \n",
    "    num_urls = sc.parallelize(paths_jsonl(service, \"archived-urls\"), 1000)\\\n",
    "        .map(count_jsonl)\\\n",
    "        .aggregate(0, add, add)\n",
    "    print(f\"\\t{num_urls:,.0f} URLs\")\n",
    "    \n",
    "    num_queries = sc.parallelize(paths_jsonl(service, \"archived-query-urls\"), 1000)\\\n",
    "        .map(count_jsonl)\\\n",
    "        .aggregate(0, add, add)\n",
    "    print(f\"\\t{num_queries:,.0f} queries\")\n",
    "    \n",
    "    num_unique_queries = sc.parallelize(paths_jsonl(service, \"archived-query-urls\"), 1000)\\\n",
    "        .flatMap(read_jsonl)\\\n",
    "        .map(lambda url: url[\"query\"])\\\n",
    "        .distinct()\\\n",
    "        .count()\n",
    "    print(f\"\\t{num_unique_queries:,.0f} unique queries\")\n",
    "    \n",
    "    num_serps = sc.parallelize(paths_jsonl(service, \"archived-parsed-serps\"), 1000)\\\n",
    "        .map(count_jsonl)\\\n",
    "        .aggregate(0, add, add)\n",
    "    print(f\"\\t{num_serps:,.0f} SERPs\")\n",
    "    \n",
    "    num_search_results = sc.parallelize(paths_jsonl(service, \"archived-parsed-serps\"), 1000)\\\n",
    "        .flatMap(read_jsonl)\\\n",
    "        .map(lambda serp: len(serp[\"results\"]) if \"results\" in serp else 0)\\\n",
    "        .aggregate(0, add, add)\n",
    "    print(f\"\\t{num_search_results:,.0f} results\")\n",
    "    \n",
    "    most_frequent_query_languages = sc.parallelize(paths_jsonl(service, \"archived-query-urls\"), 1000)\\\n",
    "        .flatMap(read_jsonl)\\\n",
    "        .map(lambda query: query[\"query\"])\\\n",
    "        .map(detect_language)\\\n",
    "        .filter(lambda language: language is not None)\\\n",
    "        .keyBy(lambda language: language)\\\n",
    "        .mapValues(lambda _: 1)\\\n",
    "        .reduceByKey(add)\\\n",
    "        .sortBy(lambda language_counts: language_counts[1], ascending=False)\\\n",
    "        .map(lambda language_counts: language_counts[0])\\\n",
    "        .take(3)\n",
    "    print(f\"\\tQuery languages: {', '.join(most_frequent_query_languages)}\")\n",
    "    \n",
    "    most_frequent_snippet_languages = sc.parallelize(paths_jsonl(service, \"archived-parsed-serps\"), 1000)\\\n",
    "        .flatMap(read_jsonl)\\\n",
    "        .map(lambda serp: serp[\"results\"])\\\n",
    "        .filter(lambda results: results is not None)\\\n",
    "        .flatMap(lambda results: results)\\\n",
    "        .repartition(1000)\\\n",
    "        .map(result_text)\\\n",
    "        .map(detect_language)\\\n",
    "        .filter(lambda language: language is not None)\\\n",
    "        .keyBy(lambda language: language)\\\n",
    "        .mapValues(lambda _: 1)\\\n",
    "        .reduceByKey(add)\\\n",
    "        .sortBy(lambda language_counts: language_counts[1], ascending=False)\\\n",
    "        .map(lambda language_counts: language_counts[0])\\\n",
    "        .take(3)\n",
    "    print(f\"\\tSnippet languages: {', '.join(most_frequent_snippet_languages)}\")\n",
    "    \n",
    "    query_timeline = sc.parallelize(paths_jsonl(service, \"archived-query-urls\"), 1000)\\\n",
    "        .flatMap(read_jsonl)\\\n",
    "        .map(lambda query: datetime.fromtimestamp(query[\"timestamp\"]))\\\n",
    "        .map(lambda date: (date.year, date.month, date.day))\\\n",
    "        .distinct()\\\n",
    "        .collect()\n",
    "    query_timeline_plot = FacetGrid(\n",
    "        data=DataFrame([\n",
    "            {\"year\": year + (month - 1) / 12 + (day - 1) / 356}\n",
    "            for year, month, day in query_timeline\n",
    "        ]),\n",
    "        height=0.5,\n",
    "        aspect=10,\n",
    "        xlim=year_range,\n",
    "        ylim=(0,1),\n",
    "    )\n",
    "    query_timeline_plot.map_dataframe(\n",
    "        rugplot,\n",
    "        x=\"year\",\n",
    "        height=1,\n",
    "        lw=0.1,\n",
    "        alpha=0.05,\n",
    "        hue=0,\n",
    "        palette=[color],\n",
    "    )\n",
    "    query_timeline_plot.figure.tight_layout()\n",
    "    query_timeline_plot.set(title=\"\", xticks=[], xlabel=\"\", yticks=[], ylabel=\"\")\n",
    "    query_timeline_plot.despine(bottom=True, left=True)\n",
    "    query_timeline_plot.savefig(f\"figures/timelines/{service}-queries.png\")\n",
    "    query_timeline_plot.savefig(f\"figures/timelines/{service}-queries.pdf\")\n",
    "    if len(query_timeline) > 0:\n",
    "        print(f\"\\tQueries timeline: {min(query_timeline)} to {max(query_timeline)}\")\n",
    "    else:\n",
    "        print(f\"\\tQueries timeline: none\")\n",
    "    \n",
    "    result_timeline = sc.parallelize(paths_jsonl(service, \"archived-parsed-serps\"), 1000)\\\n",
    "        .flatMap(read_jsonl)\\\n",
    "        .map(lambda serp: serp[\"results\"])\\\n",
    "        .filter(lambda results: results is not None)\\\n",
    "        .flatMap(lambda results: results)\\\n",
    "        .repartition(1000)\\\n",
    "        .map(lambda result: datetime.fromtimestamp(result[\"timestamp\"]))\\\n",
    "        .map(lambda date: (date.year, date.month, date.day))\\\n",
    "        .distinct()\\\n",
    "        .collect()\n",
    "    result_timeline_plot = FacetGrid(\n",
    "        data=DataFrame([\n",
    "            {\"year\": year + (month - 1) / 12 + (day - 1) / 356}\n",
    "            for year, month, day in result_timeline\n",
    "        ]),\n",
    "        height=0.5,\n",
    "        aspect=10,\n",
    "        xlim=year_range,\n",
    "        ylim=(0,1),\n",
    "    )\n",
    "    result_timeline_plot.map_dataframe(\n",
    "        rugplot,\n",
    "        x=\"year\",\n",
    "        height=1,\n",
    "        lw=0.1,\n",
    "        alpha=0.05,\n",
    "        hue=0,\n",
    "        palette=[color],\n",
    "    )\n",
    "    result_timeline_plot.figure.tight_layout()\n",
    "    result_timeline_plot.set(title=\"\", xticks=[], xlabel=\"\", yticks=[], ylabel=\"\")\n",
    "    result_timeline_plot.despine(bottom=True, left=True)\n",
    "    result_timeline_plot.savefig(f\"figures/timelines/{service}-results.png\")\n",
    "    result_timeline_plot.savefig(f\"figures/timelines/{service}-results.pdf\")\n",
    "    if len(result_timeline) > 0:\n",
    "        print(f\"\\Results timeline: {min(result_timeline)} to {max(result_timeline)}\")\n",
    "    else:\n",
    "        print(f\"\\Results timeline: none\")\n",
    "    \n",
    "    return fr\"\\servicelogo{{{logo}}} & {name} & {num_urls:,.0f} & {num_queries:,.0f} & {num_unique_queries:,.0f} & {', '.join(most_frequent_query_languages)} & \\servicetimeline{{{service}-queries}} & {num_serps:,.0f} & {num_search_results:,.0f} & {', '.join(most_frequent_snippet_languages)} & \\servicetimeline{{{service}-results}} \\\\\""
   ]
  },
  {
   "cell_type": "code",
   "execution_count": 72,
   "metadata": {},
   "outputs": [],
   "source": [
    "# print(service_overview(\"yahoo\"))"
   ]
  },
  {
   "cell_type": "code",
   "execution_count": 73,
   "metadata": {},
   "outputs": [],
   "source": [
    "def top_services_overview() -> str:\n",
    "    return \"\\n\".join([\n",
    "        service_overview(service)\n",
    "        for service in top_services\n",
    "    ])"
   ]
  },
  {
   "cell_type": "code",
   "execution_count": 74,
   "metadata": {},
   "outputs": [
    {
     "name": "stdout",
     "output_type": "stream",
     "text": [
      "Create summary for service Google.\n",
      "\t89,364,948 URLs\n",
      "\t72,673,044 queries\n",
      "\t19,953,592 unique queries\n",
      "\t785,814 SERPs\n",
      "\t6,265,179 results\n",
      "\tQuery languages: en, th, zh\n",
      "\tSnippet languages: en, de, pt\n"
     ]
    },
    {
     "name": "stderr",
     "output_type": "stream",
     "text": [
      "/opt/conda/lib/python3.8/site-packages/seaborn/axisgrid.py:118: UserWarning: Tight layout not applied. The bottom and top margins cannot be made large enough to accommodate all axes decorations.\n",
      "  self._figure.tight_layout(*args, **kwargs)\n",
      "/opt/conda/lib/python3.8/site-packages/seaborn/axisgrid.py:118: UserWarning: Tight layout not applied. The bottom and top margins cannot be made large enough to accommodate all axes decorations.\n",
      "  self._figure.tight_layout(*args, **kwargs)\n",
      "/tmp/ipykernel_228341/3067079226.py:95: UserWarning: Tight layout not applied. The bottom and top margins cannot be made large enough to accommodate all axes decorations.\n",
      "  query_timeline_plot.figure.tight_layout()\n"
     ]
    },
    {
     "name": "stdout",
     "output_type": "stream",
     "text": [
      "\tQueries timeline: (2000, 4, 22) to (2022, 11, 9)\n"
     ]
    },
    {
     "name": "stderr",
     "output_type": "stream",
     "text": [
      "/opt/conda/lib/python3.8/site-packages/seaborn/axisgrid.py:118: UserWarning: Tight layout not applied. The bottom and top margins cannot be made large enough to accommodate all axes decorations.\n",
      "  self._figure.tight_layout(*args, **kwargs)\n",
      "/opt/conda/lib/python3.8/site-packages/seaborn/axisgrid.py:118: UserWarning: Tight layout not applied. The bottom and top margins cannot be made large enough to accommodate all axes decorations.\n",
      "  self._figure.tight_layout(*args, **kwargs)\n",
      "/tmp/ipykernel_228341/3067079226.py:134: UserWarning: Tight layout not applied. The bottom and top margins cannot be made large enough to accommodate all axes decorations.\n",
      "  result_timeline_plot.figure.tight_layout()\n"
     ]
    },
    {
     "name": "stdout",
     "output_type": "stream",
     "text": [
      "\\Results timeline: (2003, 1, 13) to (2022, 11, 8)\n",
      "Create summary for service YouTube.\n",
      "\t41,846,525 URLs\n",
      "\t41,365,166 queries\n",
      "\t11,250,179 unique queries\n",
      "\t1,184,860 SERPs\n",
      "\t25,233,781 results\n",
      "\tQuery languages: ru, ko, ja\n",
      "\tSnippet languages: ru, en, ko\n"
     ]
    },
    {
     "name": "stderr",
     "output_type": "stream",
     "text": [
      "/opt/conda/lib/python3.8/site-packages/seaborn/axisgrid.py:118: UserWarning: Tight layout not applied. The bottom and top margins cannot be made large enough to accommodate all axes decorations.\n",
      "  self._figure.tight_layout(*args, **kwargs)\n",
      "/opt/conda/lib/python3.8/site-packages/seaborn/axisgrid.py:118: UserWarning: Tight layout not applied. The bottom and top margins cannot be made large enough to accommodate all axes decorations.\n",
      "  self._figure.tight_layout(*args, **kwargs)\n",
      "/tmp/ipykernel_228341/3067079226.py:95: UserWarning: Tight layout not applied. The bottom and top margins cannot be made large enough to accommodate all axes decorations.\n",
      "  query_timeline_plot.figure.tight_layout()\n"
     ]
    },
    {
     "name": "stdout",
     "output_type": "stream",
     "text": [
      "\tQueries timeline: (2006, 8, 8) to (2022, 11, 9)\n"
     ]
    },
    {
     "name": "stderr",
     "output_type": "stream",
     "text": [
      "/opt/conda/lib/python3.8/site-packages/seaborn/axisgrid.py:118: UserWarning: Tight layout not applied. The bottom and top margins cannot be made large enough to accommodate all axes decorations.\n",
      "  self._figure.tight_layout(*args, **kwargs)\n",
      "/opt/conda/lib/python3.8/site-packages/seaborn/axisgrid.py:118: UserWarning: Tight layout not applied. The bottom and top margins cannot be made large enough to accommodate all axes decorations.\n",
      "  self._figure.tight_layout(*args, **kwargs)\n",
      "/tmp/ipykernel_228341/3067079226.py:134: UserWarning: Tight layout not applied. The bottom and top margins cannot be made large enough to accommodate all axes decorations.\n",
      "  result_timeline_plot.figure.tight_layout()\n"
     ]
    },
    {
     "name": "stdout",
     "output_type": "stream",
     "text": [
      "\\Results timeline: (2007, 2, 16) to (2021, 11, 16)\n",
      "Create summary for service Baidu.\n",
      "\t78,506,825 URLs\n",
      "\t69,619,339 queries\n",
      "\t2,900,878 unique queries\n",
      "\t492,028 SERPs\n",
      "\t1,975,625 results\n",
      "\tQuery languages: zh, ga, ja\n",
      "\tSnippet languages: zh, en, mr\n"
     ]
    },
    {
     "name": "stderr",
     "output_type": "stream",
     "text": [
      "/opt/conda/lib/python3.8/site-packages/seaborn/axisgrid.py:118: UserWarning: Tight layout not applied. The bottom and top margins cannot be made large enough to accommodate all axes decorations.\n",
      "  self._figure.tight_layout(*args, **kwargs)\n",
      "/opt/conda/lib/python3.8/site-packages/seaborn/axisgrid.py:118: UserWarning: Tight layout not applied. The bottom and top margins cannot be made large enough to accommodate all axes decorations.\n",
      "  self._figure.tight_layout(*args, **kwargs)\n",
      "/tmp/ipykernel_228341/3067079226.py:95: UserWarning: Tight layout not applied. The bottom and top margins cannot be made large enough to accommodate all axes decorations.\n",
      "  query_timeline_plot.figure.tight_layout()\n"
     ]
    },
    {
     "name": "stdout",
     "output_type": "stream",
     "text": [
      "\tQueries timeline: (2005, 1, 31) to (2022, 11, 9)\n"
     ]
    },
    {
     "name": "stderr",
     "output_type": "stream",
     "text": [
      "/opt/conda/lib/python3.8/site-packages/seaborn/axisgrid.py:118: UserWarning: Tight layout not applied. The bottom and top margins cannot be made large enough to accommodate all axes decorations.\n",
      "  self._figure.tight_layout(*args, **kwargs)\n",
      "/opt/conda/lib/python3.8/site-packages/seaborn/axisgrid.py:118: UserWarning: Tight layout not applied. The bottom and top margins cannot be made large enough to accommodate all axes decorations.\n",
      "  self._figure.tight_layout(*args, **kwargs)\n",
      "/tmp/ipykernel_228341/3067079226.py:134: UserWarning: Tight layout not applied. The bottom and top margins cannot be made large enough to accommodate all axes decorations.\n",
      "  result_timeline_plot.figure.tight_layout()\n"
     ]
    },
    {
     "name": "stdout",
     "output_type": "stream",
     "text": [
      "\\Results timeline: (2006, 1, 29) to (2022, 11, 2)\n",
      "Create summary for service QQ.\n",
      "\t515,895 URLs\n",
      "\t513,608 queries\n",
      "\t51,228 unique queries\n",
      "\t29,991 SERPs\n",
      "\t0 results\n",
      "\tQuery languages: zh, ja, lb\n",
      "\tSnippet languages: \n"
     ]
    },
    {
     "name": "stderr",
     "output_type": "stream",
     "text": [
      "/opt/conda/lib/python3.8/site-packages/seaborn/axisgrid.py:118: UserWarning: Tight layout not applied. The bottom and top margins cannot be made large enough to accommodate all axes decorations.\n",
      "  self._figure.tight_layout(*args, **kwargs)\n",
      "/opt/conda/lib/python3.8/site-packages/seaborn/axisgrid.py:118: UserWarning: Tight layout not applied. The bottom and top margins cannot be made large enough to accommodate all axes decorations.\n",
      "  self._figure.tight_layout(*args, **kwargs)\n",
      "/tmp/ipykernel_228341/3067079226.py:95: UserWarning: Tight layout not applied. The bottom and top margins cannot be made large enough to accommodate all axes decorations.\n",
      "  query_timeline_plot.figure.tight_layout()\n"
     ]
    },
    {
     "name": "stdout",
     "output_type": "stream",
     "text": [
      "\tQueries timeline: (2011, 3, 27) to (2021, 10, 20)\n"
     ]
    },
    {
     "name": "stderr",
     "output_type": "stream",
     "text": [
      "/tmp/ipykernel_228341/3067079226.py:134: UserWarning: Tight layout not applied. The bottom and top margins cannot be made large enough to accommodate all axes decorations.\n",
      "  result_timeline_plot.figure.tight_layout()\n"
     ]
    },
    {
     "name": "stdout",
     "output_type": "stream",
     "text": [
      "\\Results timeline: none\n",
      "Create summary for service Facebook.\n",
      "\t3,131,212 URLs\n",
      "\t159,087 queries\n",
      "\t35,492 unique queries\n",
      "\t553 SERPs\n",
      "\t0 results\n",
      "\tQuery languages: ca, en, bs\n",
      "\tSnippet languages: \n"
     ]
    },
    {
     "name": "stderr",
     "output_type": "stream",
     "text": [
      "/opt/conda/lib/python3.8/site-packages/seaborn/axisgrid.py:118: UserWarning: Tight layout not applied. The bottom and top margins cannot be made large enough to accommodate all axes decorations.\n",
      "  self._figure.tight_layout(*args, **kwargs)\n",
      "/opt/conda/lib/python3.8/site-packages/seaborn/axisgrid.py:118: UserWarning: Tight layout not applied. The bottom and top margins cannot be made large enough to accommodate all axes decorations.\n",
      "  self._figure.tight_layout(*args, **kwargs)\n",
      "/tmp/ipykernel_228341/3067079226.py:95: UserWarning: Tight layout not applied. The bottom and top margins cannot be made large enough to accommodate all axes decorations.\n",
      "  query_timeline_plot.figure.tight_layout()\n"
     ]
    },
    {
     "name": "stdout",
     "output_type": "stream",
     "text": [
      "\tQueries timeline: (2007, 10, 23) to (2022, 11, 8)\n"
     ]
    },
    {
     "name": "stderr",
     "output_type": "stream",
     "text": [
      "/tmp/ipykernel_228341/3067079226.py:134: UserWarning: Tight layout not applied. The bottom and top margins cannot be made large enough to accommodate all axes decorations.\n",
      "  result_timeline_plot.figure.tight_layout()\n"
     ]
    },
    {
     "name": "stdout",
     "output_type": "stream",
     "text": [
      "\\Results timeline: none\n",
      "Create summary for service Yahoo!.\n",
      "\t8,787,707 URLs\n",
      "\t2,827,103 queries\n",
      "\t1,232,589 unique queries\n",
      "\t1,021,819 SERPs\n",
      "\t8,677,259 results\n",
      "\tQuery languages: en, la, de\n",
      "\tSnippet languages: en, es, pt\n"
     ]
    },
    {
     "name": "stderr",
     "output_type": "stream",
     "text": [
      "/opt/conda/lib/python3.8/site-packages/seaborn/axisgrid.py:118: UserWarning: Tight layout not applied. The bottom and top margins cannot be made large enough to accommodate all axes decorations.\n",
      "  self._figure.tight_layout(*args, **kwargs)\n",
      "/opt/conda/lib/python3.8/site-packages/seaborn/axisgrid.py:118: UserWarning: Tight layout not applied. The bottom and top margins cannot be made large enough to accommodate all axes decorations.\n",
      "  self._figure.tight_layout(*args, **kwargs)\n",
      "/tmp/ipykernel_228341/3067079226.py:95: UserWarning: Tight layout not applied. The bottom and top margins cannot be made large enough to accommodate all axes decorations.\n",
      "  query_timeline_plot.figure.tight_layout()\n"
     ]
    },
    {
     "name": "stdout",
     "output_type": "stream",
     "text": [
      "\tQueries timeline: (1999, 7, 26) to (2022, 9, 21)\n"
     ]
    },
    {
     "name": "stderr",
     "output_type": "stream",
     "text": [
      "/opt/conda/lib/python3.8/site-packages/seaborn/axisgrid.py:118: UserWarning: Tight layout not applied. The bottom and top margins cannot be made large enough to accommodate all axes decorations.\n",
      "  self._figure.tight_layout(*args, **kwargs)\n",
      "/opt/conda/lib/python3.8/site-packages/seaborn/axisgrid.py:118: UserWarning: Tight layout not applied. The bottom and top margins cannot be made large enough to accommodate all axes decorations.\n",
      "  self._figure.tight_layout(*args, **kwargs)\n",
      "/tmp/ipykernel_228341/3067079226.py:134: UserWarning: Tight layout not applied. The bottom and top margins cannot be made large enough to accommodate all axes decorations.\n",
      "  result_timeline_plot.figure.tight_layout()\n"
     ]
    },
    {
     "name": "stdout",
     "output_type": "stream",
     "text": [
      "\\Results timeline: (2000, 1, 8) to (2022, 9, 21)\n",
      "Create summary for service Amazon.\n",
      "\t66,795,164 URLs\n",
      "\t776,127 queries\n",
      "\t315,068 unique queries\n",
      "\t102,031 SERPs\n",
      "\t2,659,675 results\n",
      "\tQuery languages: en, ja, zh\n",
      "\tSnippet languages: en, ja, it\n"
     ]
    },
    {
     "name": "stderr",
     "output_type": "stream",
     "text": [
      "/opt/conda/lib/python3.8/site-packages/seaborn/axisgrid.py:118: UserWarning: Tight layout not applied. The bottom and top margins cannot be made large enough to accommodate all axes decorations.\n",
      "  self._figure.tight_layout(*args, **kwargs)\n",
      "/opt/conda/lib/python3.8/site-packages/seaborn/axisgrid.py:118: UserWarning: Tight layout not applied. The bottom and top margins cannot be made large enough to accommodate all axes decorations.\n",
      "  self._figure.tight_layout(*args, **kwargs)\n",
      "/tmp/ipykernel_228341/3067079226.py:95: UserWarning: Tight layout not applied. The bottom and top margins cannot be made large enough to accommodate all axes decorations.\n",
      "  query_timeline_plot.figure.tight_layout()\n"
     ]
    },
    {
     "name": "stdout",
     "output_type": "stream",
     "text": [
      "\tQueries timeline: (2003, 5, 29) to (2022, 9, 22)\n"
     ]
    },
    {
     "name": "stderr",
     "output_type": "stream",
     "text": [
      "/opt/conda/lib/python3.8/site-packages/seaborn/axisgrid.py:118: UserWarning: Tight layout not applied. The bottom and top margins cannot be made large enough to accommodate all axes decorations.\n",
      "  self._figure.tight_layout(*args, **kwargs)\n",
      "/opt/conda/lib/python3.8/site-packages/seaborn/axisgrid.py:118: UserWarning: Tight layout not applied. The bottom and top margins cannot be made large enough to accommodate all axes decorations.\n",
      "  self._figure.tight_layout(*args, **kwargs)\n",
      "/tmp/ipykernel_228341/3067079226.py:134: UserWarning: Tight layout not applied. The bottom and top margins cannot be made large enough to accommodate all axes decorations.\n",
      "  result_timeline_plot.figure.tight_layout()\n"
     ]
    },
    {
     "name": "stdout",
     "output_type": "stream",
     "text": [
      "\\Results timeline: (2019, 4, 25) to (2022, 9, 22)\n",
      "Create summary for service Wikipedia.\n",
      "\t68,547,509 URLs\n",
      "\t1,707,058 queries\n",
      "\t621,971 unique queries\n",
      "\t0 SERPs\n",
      "\t0 results\n",
      "\tQuery languages: sv, zh, en\n",
      "\tSnippet languages: \n"
     ]
    },
    {
     "name": "stderr",
     "output_type": "stream",
     "text": [
      "/opt/conda/lib/python3.8/site-packages/seaborn/axisgrid.py:118: UserWarning: Tight layout not applied. The bottom and top margins cannot be made large enough to accommodate all axes decorations.\n",
      "  self._figure.tight_layout(*args, **kwargs)\n",
      "/opt/conda/lib/python3.8/site-packages/seaborn/axisgrid.py:118: UserWarning: Tight layout not applied. The bottom and top margins cannot be made large enough to accommodate all axes decorations.\n",
      "  self._figure.tight_layout(*args, **kwargs)\n",
      "/tmp/ipykernel_228341/3067079226.py:95: UserWarning: Tight layout not applied. The bottom and top margins cannot be made large enough to accommodate all axes decorations.\n",
      "  query_timeline_plot.figure.tight_layout()\n"
     ]
    },
    {
     "name": "stdout",
     "output_type": "stream",
     "text": [
      "\tQueries timeline: (2010, 10, 8) to (2022, 11, 9)\n"
     ]
    },
    {
     "name": "stderr",
     "output_type": "stream",
     "text": [
      "/tmp/ipykernel_228341/3067079226.py:134: UserWarning: Tight layout not applied. The bottom and top margins cannot be made large enough to accommodate all axes decorations.\n",
      "  result_timeline_plot.figure.tight_layout()\n"
     ]
    },
    {
     "name": "stdout",
     "output_type": "stream",
     "text": [
      "\\Results timeline: none\n",
      "Create summary for service JD.com.\n",
      "\t4,370,884 URLs\n",
      "\t3,902,604 queries\n",
      "\t370,473 unique queries\n",
      "\t0 SERPs\n",
      "\t0 results\n",
      "\tQuery languages: zh, hr, ja\n",
      "\tSnippet languages: \n"
     ]
    },
    {
     "name": "stderr",
     "output_type": "stream",
     "text": [
      "/opt/conda/lib/python3.8/site-packages/seaborn/axisgrid.py:118: UserWarning: Tight layout not applied. The bottom and top margins cannot be made large enough to accommodate all axes decorations.\n",
      "  self._figure.tight_layout(*args, **kwargs)\n",
      "/opt/conda/lib/python3.8/site-packages/seaborn/axisgrid.py:118: UserWarning: Tight layout not applied. The bottom and top margins cannot be made large enough to accommodate all axes decorations.\n",
      "  self._figure.tight_layout(*args, **kwargs)\n",
      "/tmp/ipykernel_228341/3067079226.py:95: UserWarning: Tight layout not applied. The bottom and top margins cannot be made large enough to accommodate all axes decorations.\n",
      "  query_timeline_plot.figure.tight_layout()\n"
     ]
    },
    {
     "name": "stdout",
     "output_type": "stream",
     "text": [
      "\tQueries timeline: (2013, 3, 23) to (2022, 11, 8)\n"
     ]
    },
    {
     "name": "stderr",
     "output_type": "stream",
     "text": [
      "/tmp/ipykernel_228341/3067079226.py:134: UserWarning: Tight layout not applied. The bottom and top margins cannot be made large enough to accommodate all axes decorations.\n",
      "  result_timeline_plot.figure.tight_layout()\n"
     ]
    },
    {
     "name": "stdout",
     "output_type": "stream",
     "text": [
      "\\Results timeline: none\n",
      "Create summary for service 360.\n",
      "\t1,495,365 URLs\n",
      "\t1,090,152 queries\n",
      "\t65,596 unique queries\n",
      "\t30,503 SERPs\n",
      "\t253,457 results\n",
      "\tQuery languages: zh, ja, mg\n",
      "\tSnippet languages: zh, mr, en\n"
     ]
    },
    {
     "name": "stderr",
     "output_type": "stream",
     "text": [
      "/opt/conda/lib/python3.8/site-packages/seaborn/axisgrid.py:118: UserWarning: Tight layout not applied. The bottom and top margins cannot be made large enough to accommodate all axes decorations.\n",
      "  self._figure.tight_layout(*args, **kwargs)\n",
      "/opt/conda/lib/python3.8/site-packages/seaborn/axisgrid.py:118: UserWarning: Tight layout not applied. The bottom and top margins cannot be made large enough to accommodate all axes decorations.\n",
      "  self._figure.tight_layout(*args, **kwargs)\n",
      "/tmp/ipykernel_228341/3067079226.py:95: UserWarning: Tight layout not applied. The bottom and top margins cannot be made large enough to accommodate all axes decorations.\n",
      "  query_timeline_plot.figure.tight_layout()\n"
     ]
    },
    {
     "name": "stdout",
     "output_type": "stream",
     "text": [
      "\tQueries timeline: (2012, 9, 27) to (2022, 10, 24)\n"
     ]
    },
    {
     "name": "stderr",
     "output_type": "stream",
     "text": [
      "/opt/conda/lib/python3.8/site-packages/seaborn/axisgrid.py:118: UserWarning: Tight layout not applied. The bottom and top margins cannot be made large enough to accommodate all axes decorations.\n",
      "  self._figure.tight_layout(*args, **kwargs)\n",
      "/opt/conda/lib/python3.8/site-packages/seaborn/axisgrid.py:118: UserWarning: Tight layout not applied. The bottom and top margins cannot be made large enough to accommodate all axes decorations.\n",
      "  self._figure.tight_layout(*args, **kwargs)\n",
      "/tmp/ipykernel_228341/3067079226.py:134: UserWarning: Tight layout not applied. The bottom and top margins cannot be made large enough to accommodate all axes decorations.\n",
      "  result_timeline_plot.figure.tight_layout()\n"
     ]
    },
    {
     "name": "stdout",
     "output_type": "stream",
     "text": [
      "\\Results timeline: (2013, 3, 30) to (2022, 10, 23)\n",
      "Create summary for service Weibo.\n",
      "\t6,245,012 URLs\n",
      "\t5,324,385 queries\n",
      "\t1,886,458 unique queries\n",
      "\t27,828 SERPs\n",
      "\t0 results\n",
      "\tQuery languages: zh, ja, en\n",
      "\tSnippet languages: \n"
     ]
    },
    {
     "name": "stderr",
     "output_type": "stream",
     "text": [
      "/opt/conda/lib/python3.8/site-packages/seaborn/axisgrid.py:447: RuntimeWarning: More than 20 figures have been opened. Figures created through the pyplot interface (`matplotlib.pyplot.figure`) are retained until explicitly closed and may consume too much memory. (To control this warning, see the rcParam `figure.max_open_warning`). Consider using `matplotlib.pyplot.close()`.\n",
      "  fig = plt.figure(figsize=figsize)\n",
      "/opt/conda/lib/python3.8/site-packages/seaborn/axisgrid.py:118: UserWarning: Tight layout not applied. The bottom and top margins cannot be made large enough to accommodate all axes decorations.\n",
      "  self._figure.tight_layout(*args, **kwargs)\n",
      "/opt/conda/lib/python3.8/site-packages/seaborn/axisgrid.py:118: UserWarning: Tight layout not applied. The bottom and top margins cannot be made large enough to accommodate all axes decorations.\n",
      "  self._figure.tight_layout(*args, **kwargs)\n",
      "/tmp/ipykernel_228341/3067079226.py:95: UserWarning: Tight layout not applied. The bottom and top margins cannot be made large enough to accommodate all axes decorations.\n",
      "  query_timeline_plot.figure.tight_layout()\n"
     ]
    },
    {
     "name": "stdout",
     "output_type": "stream",
     "text": [
      "\tQueries timeline: (2005, 10, 23) to (2022, 9, 21)\n"
     ]
    },
    {
     "name": "stderr",
     "output_type": "stream",
     "text": [
      "/tmp/ipykernel_228341/3067079226.py:134: UserWarning: Tight layout not applied. The bottom and top margins cannot be made large enough to accommodate all axes decorations.\n",
      "  result_timeline_plot.figure.tight_layout()\n"
     ]
    },
    {
     "name": "stdout",
     "output_type": "stream",
     "text": [
      "\\Results timeline: none\n",
      "Create summary for service Reddit.\n",
      "\t94,162 URLs\n",
      "\t89,492 queries\n",
      "\t36,852 unique queries\n",
      "\t0 SERPs\n",
      "\t0 results\n",
      "\tQuery languages: en, la, de\n",
      "\tSnippet languages: \n"
     ]
    },
    {
     "name": "stderr",
     "output_type": "stream",
     "text": [
      "/opt/conda/lib/python3.8/site-packages/seaborn/axisgrid.py:118: UserWarning: Tight layout not applied. The bottom and top margins cannot be made large enough to accommodate all axes decorations.\n",
      "  self._figure.tight_layout(*args, **kwargs)\n",
      "/opt/conda/lib/python3.8/site-packages/seaborn/axisgrid.py:118: UserWarning: Tight layout not applied. The bottom and top margins cannot be made large enough to accommodate all axes decorations.\n",
      "  self._figure.tight_layout(*args, **kwargs)\n",
      "/tmp/ipykernel_228341/3067079226.py:95: UserWarning: Tight layout not applied. The bottom and top margins cannot be made large enough to accommodate all axes decorations.\n",
      "  query_timeline_plot.figure.tight_layout()\n"
     ]
    },
    {
     "name": "stdout",
     "output_type": "stream",
     "text": [
      "\tQueries timeline: (2005, 12, 12) to (2022, 11, 9)\n"
     ]
    },
    {
     "name": "stderr",
     "output_type": "stream",
     "text": [
      "/tmp/ipykernel_228341/3067079226.py:134: UserWarning: Tight layout not applied. The bottom and top margins cannot be made large enough to accommodate all axes decorations.\n",
      "  result_timeline_plot.figure.tight_layout()\n"
     ]
    },
    {
     "name": "stdout",
     "output_type": "stream",
     "text": [
      "\\Results timeline: none\n",
      "Create summary for service Vk.com.\n",
      "\t643,354 URLs\n",
      "\t153,642 queries\n",
      "\t46,134 unique queries\n",
      "\t0 SERPs\n",
      "\t0 results\n",
      "\tQuery languages: ru, sr, ky\n",
      "\tSnippet languages: \n"
     ]
    },
    {
     "name": "stderr",
     "output_type": "stream",
     "text": [
      "/opt/conda/lib/python3.8/site-packages/seaborn/axisgrid.py:118: UserWarning: Tight layout not applied. The bottom and top margins cannot be made large enough to accommodate all axes decorations.\n",
      "  self._figure.tight_layout(*args, **kwargs)\n",
      "/opt/conda/lib/python3.8/site-packages/seaborn/axisgrid.py:118: UserWarning: Tight layout not applied. The bottom and top margins cannot be made large enough to accommodate all axes decorations.\n",
      "  self._figure.tight_layout(*args, **kwargs)\n",
      "/tmp/ipykernel_228341/3067079226.py:95: UserWarning: Tight layout not applied. The bottom and top margins cannot be made large enough to accommodate all axes decorations.\n",
      "  query_timeline_plot.figure.tight_layout()\n"
     ]
    },
    {
     "name": "stdout",
     "output_type": "stream",
     "text": [
      "\tQueries timeline: (2012, 1, 6) to (2022, 11, 8)\n"
     ]
    },
    {
     "name": "stderr",
     "output_type": "stream",
     "text": [
      "/tmp/ipykernel_228341/3067079226.py:134: UserWarning: Tight layout not applied. The bottom and top margins cannot be made large enough to accommodate all axes decorations.\n",
      "  result_timeline_plot.figure.tight_layout()\n"
     ]
    },
    {
     "name": "stdout",
     "output_type": "stream",
     "text": [
      "\\Results timeline: none\n",
      "Create summary for service CSDN.\n",
      "\t21,863 URLs\n",
      "\t946 queries\n",
      "\t736 unique queries\n",
      "\t0 SERPs\n",
      "\t0 results\n",
      "\tQuery languages: zh, en, vi\n",
      "\tSnippet languages: \n"
     ]
    },
    {
     "name": "stderr",
     "output_type": "stream",
     "text": [
      "/opt/conda/lib/python3.8/site-packages/seaborn/axisgrid.py:118: UserWarning: Tight layout not applied. The bottom and top margins cannot be made large enough to accommodate all axes decorations.\n",
      "  self._figure.tight_layout(*args, **kwargs)\n",
      "/opt/conda/lib/python3.8/site-packages/seaborn/axisgrid.py:118: UserWarning: Tight layout not applied. The bottom and top margins cannot be made large enough to accommodate all axes decorations.\n",
      "  self._figure.tight_layout(*args, **kwargs)\n",
      "/tmp/ipykernel_228341/3067079226.py:95: UserWarning: Tight layout not applied. The bottom and top margins cannot be made large enough to accommodate all axes decorations.\n",
      "  query_timeline_plot.figure.tight_layout()\n"
     ]
    },
    {
     "name": "stdout",
     "output_type": "stream",
     "text": [
      "\tQueries timeline: (2021, 2, 23) to (2022, 11, 8)\n"
     ]
    },
    {
     "name": "stderr",
     "output_type": "stream",
     "text": [
      "/tmp/ipykernel_228341/3067079226.py:134: UserWarning: Tight layout not applied. The bottom and top margins cannot be made large enough to accommodate all axes decorations.\n",
      "  result_timeline_plot.figure.tight_layout()\n"
     ]
    },
    {
     "name": "stdout",
     "output_type": "stream",
     "text": [
      "\\Results timeline: none\n",
      "Create summary for service Bing.\n",
      "\t11,263,539 URLs\n",
      "\t6,152,425 queries\n",
      "\t2,253,965 unique queries\n",
      "\t1,115,786 SERPs\n",
      "\t5,947,107 results\n",
      "\tQuery languages: en, zh, pt\n",
      "\tSnippet languages: en, pt, fr\n"
     ]
    },
    {
     "name": "stderr",
     "output_type": "stream",
     "text": [
      "/opt/conda/lib/python3.8/site-packages/seaborn/axisgrid.py:118: UserWarning: Tight layout not applied. The bottom and top margins cannot be made large enough to accommodate all axes decorations.\n",
      "  self._figure.tight_layout(*args, **kwargs)\n",
      "/opt/conda/lib/python3.8/site-packages/seaborn/axisgrid.py:118: UserWarning: Tight layout not applied. The bottom and top margins cannot be made large enough to accommodate all axes decorations.\n",
      "  self._figure.tight_layout(*args, **kwargs)\n",
      "/tmp/ipykernel_228341/3067079226.py:95: UserWarning: Tight layout not applied. The bottom and top margins cannot be made large enough to accommodate all axes decorations.\n",
      "  query_timeline_plot.figure.tight_layout()\n"
     ]
    },
    {
     "name": "stdout",
     "output_type": "stream",
     "text": [
      "\tQueries timeline: (2009, 6, 5) to (2022, 9, 21)\n"
     ]
    },
    {
     "name": "stderr",
     "output_type": "stream",
     "text": [
      "/opt/conda/lib/python3.8/site-packages/seaborn/axisgrid.py:118: UserWarning: Tight layout not applied. The bottom and top margins cannot be made large enough to accommodate all axes decorations.\n",
      "  self._figure.tight_layout(*args, **kwargs)\n",
      "/opt/conda/lib/python3.8/site-packages/seaborn/axisgrid.py:118: UserWarning: Tight layout not applied. The bottom and top margins cannot be made large enough to accommodate all axes decorations.\n",
      "  self._figure.tight_layout(*args, **kwargs)\n",
      "/tmp/ipykernel_228341/3067079226.py:134: UserWarning: Tight layout not applied. The bottom and top margins cannot be made large enough to accommodate all axes decorations.\n",
      "  result_timeline_plot.figure.tight_layout()\n"
     ]
    },
    {
     "name": "stdout",
     "output_type": "stream",
     "text": [
      "\\Results timeline: (2009, 7, 16) to (2022, 9, 21)\n",
      "Create summary for service Twitter.\n",
      "\t55,499,532 URLs\n",
      "\t48,084,528 queries\n",
      "\t3,869,382 unique queries\n",
      "\t9,077 SERPs\n",
      "\t118,576 results\n",
      "\tQuery languages: ja, en, gl\n",
      "\tSnippet languages: en, ja, es\n"
     ]
    },
    {
     "name": "stderr",
     "output_type": "stream",
     "text": [
      "/opt/conda/lib/python3.8/site-packages/seaborn/axisgrid.py:118: UserWarning: Tight layout not applied. The bottom and top margins cannot be made large enough to accommodate all axes decorations.\n",
      "  self._figure.tight_layout(*args, **kwargs)\n",
      "/opt/conda/lib/python3.8/site-packages/seaborn/axisgrid.py:118: UserWarning: Tight layout not applied. The bottom and top margins cannot be made large enough to accommodate all axes decorations.\n",
      "  self._figure.tight_layout(*args, **kwargs)\n",
      "/tmp/ipykernel_228341/3067079226.py:95: UserWarning: Tight layout not applied. The bottom and top margins cannot be made large enough to accommodate all axes decorations.\n",
      "  query_timeline_plot.figure.tight_layout()\n"
     ]
    },
    {
     "name": "stdout",
     "output_type": "stream",
     "text": [
      "\tQueries timeline: (2008, 8, 28) to (2022, 11, 11)\n"
     ]
    },
    {
     "name": "stderr",
     "output_type": "stream",
     "text": [
      "/opt/conda/lib/python3.8/site-packages/seaborn/axisgrid.py:118: UserWarning: Tight layout not applied. The bottom and top margins cannot be made large enough to accommodate all axes decorations.\n",
      "  self._figure.tight_layout(*args, **kwargs)\n",
      "/opt/conda/lib/python3.8/site-packages/seaborn/axisgrid.py:118: UserWarning: Tight layout not applied. The bottom and top margins cannot be made large enough to accommodate all axes decorations.\n",
      "  self._figure.tight_layout(*args, **kwargs)\n",
      "/tmp/ipykernel_228341/3067079226.py:134: UserWarning: Tight layout not applied. The bottom and top margins cannot be made large enough to accommodate all axes decorations.\n",
      "  result_timeline_plot.figure.tight_layout()\n"
     ]
    },
    {
     "name": "stdout",
     "output_type": "stream",
     "text": [
      "\\Results timeline: (2012, 6, 12) to (2022, 6, 14)\n",
      "Create summary for service Twitch.\n",
      "\t21,931 URLs\n",
      "\t15,225 queries\n",
      "\t11,445 unique queries\n",
      "\t0 SERPs\n",
      "\t0 results\n",
      "\tQuery languages: en, zh, de\n",
      "\tSnippet languages: \n"
     ]
    },
    {
     "name": "stderr",
     "output_type": "stream",
     "text": [
      "/opt/conda/lib/python3.8/site-packages/seaborn/axisgrid.py:118: UserWarning: Tight layout not applied. The bottom and top margins cannot be made large enough to accommodate all axes decorations.\n",
      "  self._figure.tight_layout(*args, **kwargs)\n",
      "/opt/conda/lib/python3.8/site-packages/seaborn/axisgrid.py:118: UserWarning: Tight layout not applied. The bottom and top margins cannot be made large enough to accommodate all axes decorations.\n",
      "  self._figure.tight_layout(*args, **kwargs)\n",
      "/tmp/ipykernel_228341/3067079226.py:95: UserWarning: Tight layout not applied. The bottom and top margins cannot be made large enough to accommodate all axes decorations.\n",
      "  query_timeline_plot.figure.tight_layout()\n"
     ]
    },
    {
     "name": "stdout",
     "output_type": "stream",
     "text": [
      "\tQueries timeline: (2019, 7, 20) to (2022, 11, 9)\n"
     ]
    },
    {
     "name": "stderr",
     "output_type": "stream",
     "text": [
      "/tmp/ipykernel_228341/3067079226.py:134: UserWarning: Tight layout not applied. The bottom and top margins cannot be made large enough to accommodate all axes decorations.\n",
      "  result_timeline_plot.figure.tight_layout()\n"
     ]
    },
    {
     "name": "stdout",
     "output_type": "stream",
     "text": [
      "\\Results timeline: none\n",
      "Create summary for service eBay.\n",
      "\t7,927,123 URLs\n",
      "\t5,507,532 queries\n",
      "\t1,379,646 unique queries\n",
      "\t168,937 SERPs\n",
      "\t2,002,188 results\n",
      "\tQuery languages: zh, en, la\n",
      "\tSnippet languages: en, es, de\n"
     ]
    },
    {
     "name": "stderr",
     "output_type": "stream",
     "text": [
      "/opt/conda/lib/python3.8/site-packages/seaborn/axisgrid.py:118: UserWarning: Tight layout not applied. The bottom and top margins cannot be made large enough to accommodate all axes decorations.\n",
      "  self._figure.tight_layout(*args, **kwargs)\n",
      "/opt/conda/lib/python3.8/site-packages/seaborn/axisgrid.py:118: UserWarning: Tight layout not applied. The bottom and top margins cannot be made large enough to accommodate all axes decorations.\n",
      "  self._figure.tight_layout(*args, **kwargs)\n",
      "/tmp/ipykernel_228341/3067079226.py:95: UserWarning: Tight layout not applied. The bottom and top margins cannot be made large enough to accommodate all axes decorations.\n",
      "  query_timeline_plot.figure.tight_layout()\n"
     ]
    },
    {
     "name": "stdout",
     "output_type": "stream",
     "text": [
      "\tQueries timeline: (2009, 7, 27) to (2022, 11, 9)\n"
     ]
    },
    {
     "name": "stderr",
     "output_type": "stream",
     "text": [
      "/opt/conda/lib/python3.8/site-packages/seaborn/axisgrid.py:118: UserWarning: Tight layout not applied. The bottom and top margins cannot be made large enough to accommodate all axes decorations.\n",
      "  self._figure.tight_layout(*args, **kwargs)\n",
      "/opt/conda/lib/python3.8/site-packages/seaborn/axisgrid.py:118: UserWarning: Tight layout not applied. The bottom and top margins cannot be made large enough to accommodate all axes decorations.\n",
      "  self._figure.tight_layout(*args, **kwargs)\n",
      "/tmp/ipykernel_228341/3067079226.py:134: UserWarning: Tight layout not applied. The bottom and top margins cannot be made large enough to accommodate all axes decorations.\n",
      "  result_timeline_plot.figure.tight_layout()\n"
     ]
    },
    {
     "name": "stdout",
     "output_type": "stream",
     "text": [
      "\\Results timeline: (2012, 2, 29) to (2022, 8, 30)\n",
      "Create summary for service Naver.\n",
      "\t1,063,991 URLs\n",
      "\t756,153 queries\n",
      "\t400,490 unique queries\n",
      "\t334,490 SERPs\n",
      "\t3,376,741 results\n",
      "\tQuery languages: ja, ko, vi\n",
      "\tSnippet languages: ko, en, hi\n"
     ]
    },
    {
     "name": "stderr",
     "output_type": "stream",
     "text": [
      "/opt/conda/lib/python3.8/site-packages/seaborn/axisgrid.py:118: UserWarning: Tight layout not applied. The bottom and top margins cannot be made large enough to accommodate all axes decorations.\n",
      "  self._figure.tight_layout(*args, **kwargs)\n",
      "/opt/conda/lib/python3.8/site-packages/seaborn/axisgrid.py:118: UserWarning: Tight layout not applied. The bottom and top margins cannot be made large enough to accommodate all axes decorations.\n",
      "  self._figure.tight_layout(*args, **kwargs)\n",
      "/tmp/ipykernel_228341/3067079226.py:95: UserWarning: Tight layout not applied. The bottom and top margins cannot be made large enough to accommodate all axes decorations.\n",
      "  query_timeline_plot.figure.tight_layout()\n"
     ]
    },
    {
     "name": "stdout",
     "output_type": "stream",
     "text": [
      "\tQueries timeline: (1999, 9, 1) to (2022, 9, 21)\n"
     ]
    },
    {
     "name": "stderr",
     "output_type": "stream",
     "text": [
      "/opt/conda/lib/python3.8/site-packages/seaborn/axisgrid.py:118: UserWarning: Tight layout not applied. The bottom and top margins cannot be made large enough to accommodate all axes decorations.\n",
      "  self._figure.tight_layout(*args, **kwargs)\n",
      "/opt/conda/lib/python3.8/site-packages/seaborn/axisgrid.py:118: UserWarning: Tight layout not applied. The bottom and top margins cannot be made large enough to accommodate all axes decorations.\n",
      "  self._figure.tight_layout(*args, **kwargs)\n",
      "/tmp/ipykernel_228341/3067079226.py:134: UserWarning: Tight layout not applied. The bottom and top margins cannot be made large enough to accommodate all axes decorations.\n",
      "  result_timeline_plot.figure.tight_layout()\n"
     ]
    },
    {
     "name": "stdout",
     "output_type": "stream",
     "text": [
      "\\Results timeline: (2000, 9, 25) to (2022, 9, 21)\n",
      "Create summary for service AliExpress.\n",
      "\t4,620,331 URLs\n",
      "\t1,861,642 queries\n",
      "\t55,849 unique queries\n",
      "\t20,692 SERPs\n",
      "\t165,108 results\n",
      "\tQuery languages: en, lb, fy\n",
      "\tSnippet languages: en, fr, ru\n"
     ]
    },
    {
     "name": "stderr",
     "output_type": "stream",
     "text": [
      "/opt/conda/lib/python3.8/site-packages/seaborn/axisgrid.py:118: UserWarning: Tight layout not applied. The bottom and top margins cannot be made large enough to accommodate all axes decorations.\n",
      "  self._figure.tight_layout(*args, **kwargs)\n",
      "/opt/conda/lib/python3.8/site-packages/seaborn/axisgrid.py:118: UserWarning: Tight layout not applied. The bottom and top margins cannot be made large enough to accommodate all axes decorations.\n",
      "  self._figure.tight_layout(*args, **kwargs)\n",
      "/tmp/ipykernel_228341/3067079226.py:95: UserWarning: Tight layout not applied. The bottom and top margins cannot be made large enough to accommodate all axes decorations.\n",
      "  query_timeline_plot.figure.tight_layout()\n"
     ]
    },
    {
     "name": "stdout",
     "output_type": "stream",
     "text": [
      "\tQueries timeline: (2009, 12, 20) to (2022, 11, 8)\n"
     ]
    },
    {
     "name": "stderr",
     "output_type": "stream",
     "text": [
      "/opt/conda/lib/python3.8/site-packages/seaborn/axisgrid.py:118: UserWarning: Tight layout not applied. The bottom and top margins cannot be made large enough to accommodate all axes decorations.\n",
      "  self._figure.tight_layout(*args, **kwargs)\n",
      "/opt/conda/lib/python3.8/site-packages/seaborn/axisgrid.py:118: UserWarning: Tight layout not applied. The bottom and top margins cannot be made large enough to accommodate all axes decorations.\n",
      "  self._figure.tight_layout(*args, **kwargs)\n",
      "/tmp/ipykernel_228341/3067079226.py:134: UserWarning: Tight layout not applied. The bottom and top margins cannot be made large enough to accommodate all axes decorations.\n",
      "  result_timeline_plot.figure.tight_layout()\n"
     ]
    },
    {
     "name": "stdout",
     "output_type": "stream",
     "text": [
      "\\Results timeline: (2010, 2, 2) to (2019, 7, 11)\n",
      "\\servicelogo{google} & Google & 89,364,948 & 72,673,044 & 19,953,592 & en, th, zh & \\servicetimeline{google-queries} & 785,814 & 6,265,179 & en, de, pt & \\servicetimeline{google-results} \\\\\n",
      "\\servicelogo{youtube} & YouTube & 41,846,525 & 41,365,166 & 11,250,179 & ru, ko, ja & \\servicetimeline{youtube-queries} & 1,184,860 & 25,233,781 & ru, en, ko & \\servicetimeline{youtube-results} \\\\\n",
      "\\servicelogo{baidu} & Baidu & 78,506,825 & 69,619,339 & 2,900,878 & zh, ga, ja & \\servicetimeline{baidu-queries} & 492,028 & 1,975,625 & zh, en, mr & \\servicetimeline{baidu-results} \\\\\n",
      "\\servicelogo{qq} & QQ & 515,895 & 513,608 & 51,228 & zh, ja, lb & \\servicetimeline{qq-queries} & 29,991 & 0 &  & \\servicetimeline{qq-results} \\\\\n",
      "\\servicelogo{facebook} & Facebook & 3,131,212 & 159,087 & 35,492 & ca, en, bs & \\servicetimeline{facebook-queries} & 553 & 0 &  & \\servicetimeline{facebook-results} \\\\\n",
      "\\servicelogo{yahoo} & Yahoo! & 8,787,707 & 2,827,103 & 1,232,589 & en, la, de & \\servicetimeline{yahoo-queries} & 1,021,819 & 8,677,259 & en, es, pt & \\servicetimeline{yahoo-results} \\\\\n",
      "\\servicelogo{amazon} & Amazon & 66,795,164 & 776,127 & 315,068 & en, ja, zh & \\servicetimeline{amazon-queries} & 102,031 & 2,659,675 & en, ja, it & \\servicetimeline{amazon-results} \\\\\n",
      "\\servicelogo{wikipedia} & Wikipedia & 68,547,509 & 1,707,058 & 621,971 & sv, zh, en & \\servicetimeline{wikimedia-queries} & 0 & 0 &  & \\servicetimeline{wikimedia-results} \\\\\n",
      "\\servicelogo{jd-dot-com} & JD.com & 4,370,884 & 3,902,604 & 370,473 & zh, hr, ja & \\servicetimeline{jd-queries} & 0 & 0 &  & \\servicetimeline{jd-results} \\\\\n",
      "\\servicelogo{360} & 360 & 1,495,365 & 1,090,152 & 65,596 & zh, ja, mg & \\servicetimeline{360-queries} & 30,503 & 253,457 & zh, mr, en & \\servicetimeline{360-results} \\\\\n",
      "\\servicelogo{weibo} & Weibo & 6,245,012 & 5,324,385 & 1,886,458 & zh, ja, en & \\servicetimeline{weibo-queries} & 27,828 & 0 &  & \\servicetimeline{weibo-results} \\\\\n",
      "\\servicelogo{reddit} & Reddit & 94,162 & 89,492 & 36,852 & en, la, de & \\servicetimeline{reddit-queries} & 0 & 0 &  & \\servicetimeline{reddit-results} \\\\\n",
      "\\servicelogo{vk-dot-com} & Vk.com & 643,354 & 153,642 & 46,134 & ru, sr, ky & \\servicetimeline{vk-queries} & 0 & 0 &  & \\servicetimeline{vk-results} \\\\\n",
      "\\servicelogo{csdn} & CSDN & 21,863 & 946 & 736 & zh, en, vi & \\servicetimeline{csdn-queries} & 0 & 0 &  & \\servicetimeline{csdn-results} \\\\\n",
      "\\servicelogo{bing} & Bing & 11,263,539 & 6,152,425 & 2,253,965 & en, zh, pt & \\servicetimeline{bing-queries} & 1,115,786 & 5,947,107 & en, pt, fr & \\servicetimeline{bing-results} \\\\\n",
      "\\servicelogo{twitter} & Twitter & 55,499,532 & 48,084,528 & 3,869,382 & ja, en, gl & \\servicetimeline{twitter-queries} & 9,077 & 118,576 & en, ja, es & \\servicetimeline{twitter-results} \\\\\n",
      "\\servicelogo{twitch} & Twitch & 21,931 & 15,225 & 11,445 & en, zh, de & \\servicetimeline{twitch-queries} & 0 & 0 &  & \\servicetimeline{twitch-results} \\\\\n",
      "\\servicelogo{ebay} & eBay & 7,927,123 & 5,507,532 & 1,379,646 & zh, en, la & \\servicetimeline{ebay-queries} & 168,937 & 2,002,188 & en, es, de & \\servicetimeline{ebay-results} \\\\\n",
      "\\servicelogo{naver} & Naver & 1,063,991 & 756,153 & 400,490 & ja, ko, vi & \\servicetimeline{naver-queries} & 334,490 & 3,376,741 & ko, en, hi & \\servicetimeline{naver-results} \\\\\n",
      "\\servicelogo{aliexpress} & AliExpress & 4,620,331 & 1,861,642 & 55,849 & en, lb, fy & \\servicetimeline{aliexpress-queries} & 20,692 & 165,108 & en, fr, ru & \\servicetimeline{aliexpress-results} \\\\\n"
     ]
    },
    {
     "data": {
      "image/png": "[encoded data removed]",
      "text/plain": [
       "<Figure size 500x50 with 1 Axes>"
      ]
     },
     "metadata": {},
     "output_type": "display_data"
    },
    {
     "data": {
      "image/png": "[encoded data removed]",
      "text/plain": [
       "<Figure size 500x50 with 1 Axes>"
      ]
     },
     "metadata": {},
     "output_type": "display_data"
    },
    {
     "data": {
      "image/png": "[encoded data removed]",
      "text/plain": [
       "<Figure size 500x50 with 1 Axes>"
      ]
     },
     "metadata": {},
     "output_type": "display_data"
    },
    {
     "data": {
      "image/png": "[encoded data removed]",
      "text/plain": [
       "<Figure size 500x50 with 1 Axes>"
      ]
     },
     "metadata": {},
     "output_type": "display_data"
    },
    {
     "data": {
      "image/png": "[encoded data removed]",
      "text/plain": [
       "<Figure size 500x50 with 1 Axes>"
      ]
     },
     "metadata": {},
     "output_type": "display_data"
    },
    {
     "data": {
      "image/png": "[encoded data removed]",
      "text/plain": [
       "<Figure size 500x50 with 1 Axes>"
      ]
     },
     "metadata": {},
     "output_type": "display_data"
    },
    {
     "data": {
      "image/png": "[encoded data removed]",
      "text/plain": [
       "<Figure size 500x50 with 1 Axes>"
      ]
     },
     "metadata": {},
     "output_type": "display_data"
    },
    {
     "data": {
      "image/png": "[encoded data removed]",
      "text/plain": [
       "<Figure size 500x50 with 1 Axes>"
      ]
     },
     "metadata": {},
     "output_type": "display_data"
    },
    {
     "data": {
      "image/png": "[encoded data removed]",
      "text/plain": [
       "<Figure size 500x50 with 1 Axes>"
      ]
     },
     "metadata": {},
     "output_type": "display_data"
    },
    {
     "data": {
      "image/png": "[encoded data removed]",
      "text/plain": [
       "<Figure size 500x50 with 1 Axes>"
      ]
     },
     "metadata": {},
     "output_type": "display_data"
    },
    {
     "data": {
      "image/png": "[encoded data removed]",
      "text/plain": [
       "<Figure size 500x50 with 1 Axes>"
      ]
     },
     "metadata": {},
     "output_type": "display_data"
    },
    {
     "data": {
      "image/png": "[encoded data removed]",
      "text/plain": [
       "<Figure size 500x50 with 1 Axes>"
      ]
     },
     "metadata": {},
     "output_type": "display_data"
    },
    {
     "data": {
      "image/png": "[encoded data removed]",
      "text/plain": [
       "<Figure size 500x50 with 1 Axes>"
      ]
     },
     "metadata": {},
     "output_type": "display_data"
    },
    {
     "data": {
      "image/png": "[encoded data removed]",
      "text/plain": [
       "<Figure size 500x50 with 1 Axes>"
      ]
     },
     "metadata": {},
     "output_type": "display_data"
    },
    {
     "data": {
      "image/png": "[encoded data removed]",
      "text/plain": [
       "<Figure size 500x50 with 1 Axes>"
      ]
     },
     "metadata": {},
     "output_type": "display_data"
    },
    {
     "data": {
      "image/png": "[encoded data removed]",
      "text/plain": [
       "<Figure size 500x50 with 1 Axes>"
      ]
     },
     "metadata": {},
     "output_type": "display_data"
    },
    {
     "data": {
      "image/png": "[encoded data removed]",
      "text/plain": [
       "<Figure size 500x50 with 1 Axes>"
      ]
     },
     "metadata": {},
     "output_type": "display_data"
    },
    {
     "data": {
      "image/png": "[encoded data removed]",
      "text/plain": [
       "<Figure size 500x50 with 1 Axes>"
      ]
     },
     "metadata": {},
     "output_type": "display_data"
    },
    {
     "data": {
      "image/png": "[encoded data removed]",
      "text/plain": [
       "<Figure size 500x50 with 1 Axes>"
      ]
     },
     "metadata": {},
     "output_type": "display_data"
    },
    {
     "data": {
      "image/png": "[encoded data removed]",
      "text/plain": [
       "<Figure size 500x50 with 1 Axes>"
      ]
     },
     "metadata": {},
     "output_type": "display_data"
    },
    {
     "data": {
      "image/png": "[encoded data removed]",
      "text/plain": [
       "<Figure size 500x50 with 1 Axes>"
      ]
     },
     "metadata": {},
     "output_type": "display_data"
    },
    {
     "data": {
      "image/png": "[encoded data removed]",
      "text/plain": [
       "<Figure size 500x50 with 1 Axes>"
      ]
     },
     "metadata": {},
     "output_type": "display_data"
    },
    {
     "data": {
      "image/png": "[encoded data removed]",
      "text/plain": [
       "<Figure size 500x50 with 1 Axes>"
      ]
     },
     "metadata": {},
     "output_type": "display_data"
    },
    {
     "data": {
      "image/png": "[encoded data removed]",
      "text/plain": [
       "<Figure size 500x50 with 1 Axes>"
      ]
     },
     "metadata": {},
     "output_type": "display_data"
    },
    {
     "data": {
      "image/png": "[encoded data removed]",
      "text/plain": [
       "<Figure size 500x50 with 1 Axes>"
      ]
     },
     "metadata": {},
     "output_type": "display_data"
    },
    {
     "data": {
      "image/png": "[encoded data removed]",
      "text/plain": [
       "<Figure size 500x50 with 1 Axes>"
      ]
     },
     "metadata": {},
     "output_type": "display_data"
    },
    {
     "data": {
      "image/png": "[encoded data removed]",
      "text/plain": [
       "<Figure size 500x50 with 1 Axes>"
      ]
     },
     "metadata": {},
     "output_type": "display_data"
    },
    {
     "data": {
      "image/png": "[encoded data removed]",
      "text/plain": [
       "<Figure size 500x50 with 1 Axes>"
      ]
     },
     "metadata": {},
     "output_type": "display_data"
    },
    {
     "data": {
      "image/png": "[encoded data removed]",
      "text/plain": [
       "<Figure size 500x50 with 1 Axes>"
      ]
     },
     "metadata": {},
     "output_type": "display_data"
    },
    {
     "data": {
      "image/png": "[encoded data removed]",
      "text/plain": [
       "<Figure size 500x50 with 1 Axes>"
      ]
     },
     "metadata": {},
     "output_type": "display_data"
    },
    {
     "data": {
      "image/png": "[encoded data removed]",
      "text/plain": [
       "<Figure size 500x50 with 1 Axes>"
      ]
     },
     "metadata": {},
     "output_type": "display_data"
    },
    {
     "data": {
      "image/png": "[encoded data removed]",
      "text/plain": [
       "<Figure size 500x50 with 1 Axes>"
      ]
     },
     "metadata": {},
     "output_type": "display_data"
    },
    {
     "data": {
      "image/png": "[encoded data removed]",
      "text/plain": [
       "<Figure size 500x50 with 1 Axes>"
      ]
     },
     "metadata": {},
     "output_type": "display_data"
    },
    {
     "data": {
      "image/png": "[encoded data removed]",
      "text/plain": [
       "<Figure size 500x50 with 1 Axes>"
      ]
     },
     "metadata": {},
     "output_type": "display_data"
    },
    {
     "data": {
      "image/png": "[encoded data removed]",
      "text/plain": [
       "<Figure size 500x50 with 1 Axes>"
      ]
     },
     "metadata": {},
     "output_type": "display_data"
    },
    {
     "data": {
      "image/png": "[encoded data removed]",
      "text/plain": [
       "<Figure size 500x50 with 1 Axes>"
      ]
     },
     "metadata": {},
     "output_type": "display_data"
    },
    {
     "data": {
      "image/png": "[encoded data removed]",
      "text/plain": [
       "<Figure size 500x50 with 1 Axes>"
      ]
     },
     "metadata": {},
     "output_type": "display_data"
    },
    {
     "data": {
      "image/png": "[encoded data removed]",
      "text/plain": [
       "<Figure size 500x50 with 1 Axes>"
      ]
     },
     "metadata": {},
     "output_type": "display_data"
    },
    {
     "data": {
      "image/png": "[encoded data removed]",
      "text/plain": [
       "<Figure size 500x50 with 1 Axes>"
      ]
     },
     "metadata": {},
     "output_type": "display_data"
    },
    {
     "data": {
      "image/png": "[encoded data removed]",
      "text/plain": [
       "<Figure size 500x50 with 1 Axes>"
      ]
     },
     "metadata": {},
     "output_type": "display_data"
    }
   ],
   "source": [
    "print(top_services_overview())"
   ]
  },
  {
   "cell_type": "code",
   "execution_count": 75,
   "metadata": {},
   "outputs": [],
   "source": [
    "from operator import add\n",
    "from datetime import datetime\n",
    "from seaborn import rugplot, FacetGrid, set_theme\n",
    "from pandas import DataFrame\n",
    "\n",
    "def remaining_overview() -> str:\n",
    "    set_theme(style=\"white\", rc={\"axes.facecolor\": (0, 0, 0, 0)})\n",
    "    \n",
    "    name = \"others\"\n",
    "    color = \"#646464\"\n",
    "    \n",
    "    print(f\"Create remaining summary.\")\n",
    "    \n",
    "    num_urls = sc.parallelize(alexa_services, 1000)\\\n",
    "        .filter(lambda service: service not in top_services.keys())\\\n",
    "        .flatMap(lambda service: paths_jsonl(service, \"archived-urls\"))\\\n",
    "        .repartition(10_000)\\\n",
    "        .map(count_jsonl)\\\n",
    "        .aggregate(0, add, add)\n",
    "    print(f\"\\t{num_urls:,.0f} URLs\")\n",
    "    \n",
    "    num_queries = sc.parallelize(alexa_services, 1000)\\\n",
    "        .filter(lambda service: service not in top_services.keys())\\\n",
    "        .flatMap(lambda service: paths_jsonl(service, \"archived-query-urls\"))\\\n",
    "        .repartition(10_000)\\\n",
    "        .map(count_jsonl)\\\n",
    "        .aggregate(0, add, add)\n",
    "    print(f\"\\t{num_queries:,.0f} queries\")\n",
    "    \n",
    "    num_unique_queries = sc.parallelize(alexa_services, 1000)\\\n",
    "        .filter(lambda service: service not in top_services.keys())\\\n",
    "        .flatMap(lambda service: paths_jsonl(service, \"archived-query-urls\"))\\\n",
    "        .repartition(10_000)\\\n",
    "        .flatMap(read_jsonl)\\\n",
    "        .map(lambda url: url[\"query\"])\\\n",
    "        .distinct()\\\n",
    "        .count()\n",
    "    print(f\"\\t{num_unique_queries:,.0f} unique queries\")\n",
    "    \n",
    "    num_serps = sc.parallelize(alexa_services, 1000)\\\n",
    "        .filter(lambda service: service not in top_services.keys())\\\n",
    "        .flatMap(lambda service: paths_jsonl(service, \"archived-parsed-serps\"))\\\n",
    "        .repartition(10_000)\\\n",
    "        .map(count_jsonl)\\\n",
    "        .aggregate(0, add, add)\n",
    "    print(f\"\\t{num_serps:,.0f} SERPs\")\n",
    "    \n",
    "    num_search_results = sc.parallelize(alexa_services, 1000)\\\n",
    "        .filter(lambda service: service not in top_services.keys())\\\n",
    "        .flatMap(lambda service: paths_jsonl(service, \"archived-parsed-serps\"))\\\n",
    "        .repartition(10_000)\\\n",
    "        .flatMap(read_jsonl)\\\n",
    "        .map(lambda serp: len(serp[\"results\"]) if \"results\" in serp else 0)\\\n",
    "        .aggregate(0, add, add)\n",
    "    print(f\"\\t{num_search_results:,.0f} results\")\n",
    "    \n",
    "    most_frequent_query_languages = sc.parallelize(alexa_services, 1000)\\\n",
    "        .filter(lambda service: service not in top_services.keys())\\\n",
    "        .flatMap(lambda service: paths_jsonl(service, \"archived-query-urls\"))\\\n",
    "        .repartition(10_000)\\\n",
    "        .flatMap(read_jsonl)\\\n",
    "        .map(lambda query: query[\"query\"])\\\n",
    "        .map(detect_language)\\\n",
    "        .filter(lambda language: language is not None)\\\n",
    "        .keyBy(lambda language: language)\\\n",
    "        .mapValues(lambda _: 1)\\\n",
    "        .reduceByKey(add)\\\n",
    "        .sortBy(lambda language_counts: language_counts[1], ascending=False)\\\n",
    "        .map(lambda language_counts: language_counts[0])\\\n",
    "        .take(3)\n",
    "    print(f\"\\tQuery languages: {', '.join(most_frequent_query_languages)}\")\n",
    "    \n",
    "    most_frequent_snippet_languages = sc.parallelize(alexa_services, 1000)\\\n",
    "        .filter(lambda service: service not in top_services.keys())\\\n",
    "        .flatMap(lambda service: paths_jsonl(service, \"archived-parsed-serps\"))\\\n",
    "        .repartition(10_000)\\\n",
    "        .flatMap(read_jsonl)\\\n",
    "        .map(lambda serp: serp[\"results\"])\\\n",
    "        .filter(lambda results: results is not None)\\\n",
    "        .flatMap(lambda results: results)\\\n",
    "        .repartition(10_000)\\\n",
    "        .map(result_text)\\\n",
    "        .map(detect_language)\\\n",
    "        .filter(lambda language: language is not None)\\\n",
    "        .keyBy(lambda language: language)\\\n",
    "        .mapValues(lambda _: 1)\\\n",
    "        .reduceByKey(add)\\\n",
    "        .sortBy(lambda language_counts: language_counts[1], ascending=False)\\\n",
    "        .map(lambda language_counts: language_counts[0])\\\n",
    "        .take(3)\n",
    "    print(f\"\\tSnippet languages: {', '.join(most_frequent_snippet_languages)}\")\n",
    "    \n",
    "    query_timeline = sc.parallelize(alexa_services, 1000)\\\n",
    "        .filter(lambda service: service not in top_services.keys())\\\n",
    "        .flatMap(lambda service: paths_jsonl(service, \"archived-query-urls\"))\\\n",
    "        .repartition(10_000)\\\n",
    "        .flatMap(read_jsonl)\\\n",
    "        .map(lambda query: datetime.fromtimestamp(query[\"timestamp\"]))\\\n",
    "        .map(lambda date: (date.year, date.month, date.day))\\\n",
    "        .distinct()\\\n",
    "        .collect()\n",
    "    query_timeline_plot = FacetGrid(\n",
    "        data=DataFrame([\n",
    "            {\"year\": year + (month - 1) / 12 + (day - 1) / 356}\n",
    "            for year, month, day in query_timeline\n",
    "        ]),\n",
    "        height=0.5,\n",
    "        aspect=10,\n",
    "        xlim=year_range,\n",
    "        ylim=(0,1),\n",
    "    )\n",
    "    query_timeline_plot.map_dataframe(\n",
    "        rugplot,\n",
    "        x=\"year\",\n",
    "        height=1,\n",
    "        lw=0.1,\n",
    "        alpha=0.05,\n",
    "        hue=0,\n",
    "        palette=[color],\n",
    "    )\n",
    "    query_timeline_plot.figure.tight_layout()\n",
    "    query_timeline_plot.set(title=\"\", xticks=[], xlabel=\"\", yticks=[], ylabel=\"\")\n",
    "    query_timeline_plot.despine(bottom=True, left=True)\n",
    "    query_timeline_plot.savefig(f\"figures/timelines/remaining-queries.png\")\n",
    "    query_timeline_plot.savefig(f\"figures/timelines/remaining-queries.pdf\")\n",
    "    if len(query_timeline) > 0:\n",
    "        print(f\"\\tQueries timeline: {min(query_timeline)} to {max(query_timeline)}\")\n",
    "    else:\n",
    "        print(f\"\\tQueries timeline: none\")\n",
    "    \n",
    "    result_timeline = sc.parallelize(alexa_services, 1000)\\\n",
    "        .filter(lambda service: service not in top_services.keys())\\\n",
    "        .flatMap(lambda service: paths_jsonl(service, \"archived-parsed-serps\"))\\\n",
    "        .repartition(10_000)\\\n",
    "        .flatMap(read_jsonl)\\\n",
    "        .map(lambda serp: serp[\"results\"])\\\n",
    "        .filter(lambda results: results is not None)\\\n",
    "        .flatMap(lambda results: results)\\\n",
    "        .repartition(10_000)\\\n",
    "        .map(lambda result: datetime.fromtimestamp(result[\"timestamp\"]))\\\n",
    "        .map(lambda date: (date.year, date.month, date.day))\\\n",
    "        .distinct()\\\n",
    "        .collect()\n",
    "    result_timeline_plot = FacetGrid(\n",
    "        data=DataFrame([\n",
    "            {\"year\": year + (month - 1) / 12 + (day - 1) / 356}\n",
    "            for year, month, day in result_timeline\n",
    "        ]),\n",
    "        height=0.5,\n",
    "        aspect=10,\n",
    "        xlim=year_range,\n",
    "        ylim=(0,1),\n",
    "    )\n",
    "    result_timeline_plot.map_dataframe(\n",
    "        rugplot,\n",
    "        x=\"year\",\n",
    "        height=1,\n",
    "        lw=0.1,\n",
    "        alpha=0.05,\n",
    "        hue=0,\n",
    "        palette=[color],\n",
    "    )\n",
    "    result_timeline_plot.figure.tight_layout()\n",
    "    result_timeline_plot.set(title=\"\", xticks=[], xlabel=\"\", yticks=[], ylabel=\"\")\n",
    "    result_timeline_plot.despine(bottom=True, left=True)\n",
    "    result_timeline_plot.savefig(f\"figures/timelines/remaining-results.png\")\n",
    "    result_timeline_plot.savefig(f\"figures/timelines/remaining-results.pdf\")\n",
    "    if len(result_timeline) > 0:\n",
    "        print(f\"\\Results timeline: {min(result_timeline)} to {max(result_timeline)}\")\n",
    "    else:\n",
    "        print(f\"\\Results timeline: none\")\n",
    "    \n",
    "    return fr\"\\hspace{{0.4em}}\\rotatebox{{90}}{{...}} & {len(alexa_services) - len(top_services)}~others & {num_urls:,.0f} & {num_queries:,.0f} & {num_unique_queries:,.0f} & {', '.join(most_frequent_query_languages)} & \\servicetimeline{{remaining-queries}} & {num_serps:,.0f} & {num_search_results:,.0f} & {', '.join(most_frequent_snippet_languages)} & \\servicetimeline{{remaining-results}} \\\\\""
   ]
  },
  {
   "cell_type": "code",
   "execution_count": 76,
   "metadata": {},
   "outputs": [
    {
     "name": "stdout",
     "output_type": "stream",
     "text": [
      "Create remaining summary.\n",
      "\t558,972,258 URLs\n",
      "\t93,841,976 queries\n",
      "\t20,639,713 unique queries\n",
      "\t139,604 SERPs\n",
      "\t1,608,078 results\n",
      "\tQuery languages: en, zh, de\n",
      "\tSnippet languages: en, zh, de\n"
     ]
    },
    {
     "name": "stderr",
     "output_type": "stream",
     "text": [
      "/opt/conda/lib/python3.8/site-packages/seaborn/axisgrid.py:118: UserWarning: Tight layout not applied. The bottom and top margins cannot be made large enough to accommodate all axes decorations.\n",
      "  self._figure.tight_layout(*args, **kwargs)\n",
      "/opt/conda/lib/python3.8/site-packages/seaborn/axisgrid.py:118: UserWarning: Tight layout not applied. The bottom and top margins cannot be made large enough to accommodate all axes decorations.\n",
      "  self._figure.tight_layout(*args, **kwargs)\n",
      "/tmp/ipykernel_228341/109893563.py:121: UserWarning: Tight layout not applied. The bottom and top margins cannot be made large enough to accommodate all axes decorations.\n",
      "  query_timeline_plot.figure.tight_layout()\n"
     ]
    },
    {
     "name": "stdout",
     "output_type": "stream",
     "text": [
      "\tQueries timeline: (2000, 4, 7) to (2022, 11, 11)\n"
     ]
    },
    {
     "name": "stderr",
     "output_type": "stream",
     "text": [
      "/opt/conda/lib/python3.8/site-packages/seaborn/axisgrid.py:118: UserWarning: Tight layout not applied. The bottom and top margins cannot be made large enough to accommodate all axes decorations.\n",
      "  self._figure.tight_layout(*args, **kwargs)\n",
      "/opt/conda/lib/python3.8/site-packages/seaborn/axisgrid.py:118: UserWarning: Tight layout not applied. The bottom and top margins cannot be made large enough to accommodate all axes decorations.\n",
      "  self._figure.tight_layout(*args, **kwargs)\n",
      "/tmp/ipykernel_228341/109893563.py:163: UserWarning: Tight layout not applied. The bottom and top margins cannot be made large enough to accommodate all axes decorations.\n",
      "  result_timeline_plot.figure.tight_layout()\n"
     ]
    },
    {
     "name": "stdout",
     "output_type": "stream",
     "text": [
      "\\Results timeline: (2005, 2, 24) to (2022, 11, 11)\n",
      "\\hspace{0.4em}\\rotatebox{90}{...} & 1067~others & 558,972,258 & 93,841,976 & 20,639,713 & en, zh, de & \\servicetimeline{remaining-queries} & 139,604 & 1,608,078 & en, zh, de & \\servicetimeline{remaining-results} \\\\\n"
     ]
    },
    {
     "data": {
      "image/png": "[encoded data removed]",
      "text/plain": [
       "<Figure size 500x50 with 1 Axes>"
      ]
     },
     "metadata": {},
     "output_type": "display_data"
    },
    {
     "data": {
      "image/png": "[encoded data removed]",
      "text/plain": [
       "<Figure size 500x50 with 1 Axes>"
      ]
     },
     "metadata": {},
     "output_type": "display_data"
    }
   ],
   "source": [
    "print(remaining_overview())"
   ]
  },
  {
   "cell_type": "code",
   "execution_count": 77,
   "metadata": {},
   "outputs": [],
   "source": [
    "from operator import add\n",
    "from datetime import datetime\n",
    "from seaborn import rugplot, FacetGrid, set_theme\n",
    "from pandas import DataFrame\n",
    "\n",
    "def all_overview() -> str:\n",
    "    set_theme(style=\"white\", rc={\"axes.facecolor\": (0, 0, 0, 0)})\n",
    "    \n",
    "    name = \"others\"\n",
    "    color = \"#646464\"\n",
    "    \n",
    "    print(f\"Create all summary.\")\n",
    "    \n",
    "    num_urls = sc.parallelize(alexa_services, 1000)\\\n",
    "        .flatMap(lambda service: paths_jsonl(service, \"archived-urls\"))\\\n",
    "        .repartition(10_000)\\\n",
    "        .map(count_jsonl)\\\n",
    "        .aggregate(0, add, add)\n",
    "    print(f\"\\t{num_urls:,.0f} URLs\")\n",
    "    \n",
    "    num_queries = sc.parallelize(alexa_services, 1000)\\\n",
    "        .flatMap(lambda service: paths_jsonl(service, \"archived-query-urls\"))\\\n",
    "        .repartition(10_000)\\\n",
    "        .map(count_jsonl)\\\n",
    "        .aggregate(0, add, add)\n",
    "    print(f\"\\t{num_queries:,.0f} queries\")\n",
    "    \n",
    "    num_unique_queries = sc.parallelize(alexa_services, 1000)\\\n",
    "        .flatMap(lambda service: paths_jsonl(service, \"archived-query-urls\"))\\\n",
    "        .repartition(10_000)\\\n",
    "        .flatMap(read_jsonl)\\\n",
    "        .map(lambda url: url[\"query\"])\\\n",
    "        .distinct()\\\n",
    "        .count()\n",
    "    print(f\"\\t{num_unique_queries:,.0f} unique queries\")\n",
    "    \n",
    "    num_serps = sc.parallelize(alexa_services, 1000)\\\n",
    "        .flatMap(lambda service: paths_jsonl(service, \"archived-parsed-serps\"))\\\n",
    "        .repartition(10_000)\\\n",
    "        .map(count_jsonl)\\\n",
    "        .aggregate(0, add, add)\n",
    "    print(f\"\\t{num_serps:,.0f} SERPs\")\n",
    "    \n",
    "    num_search_results = sc.parallelize(alexa_services, 1000)\\\n",
    "        .flatMap(lambda service: paths_jsonl(service, \"archived-parsed-serps\"))\\\n",
    "        .repartition(10_000)\\\n",
    "        .flatMap(read_jsonl)\\\n",
    "        .map(lambda serp: len(serp[\"results\"]) if \"results\" in serp else 0)\\\n",
    "        .aggregate(0, add, add)\n",
    "    print(f\"\\t{num_search_results:,.0f} results\")\n",
    "    \n",
    "    most_frequent_query_languages = sc.parallelize(alexa_services, 1000)\\\n",
    "        .flatMap(lambda service: paths_jsonl(service, \"archived-query-urls\"))\\\n",
    "        .repartition(10_000)\\\n",
    "        .flatMap(read_jsonl)\\\n",
    "        .map(lambda query: query[\"query\"])\\\n",
    "        .map(detect_language)\\\n",
    "        .filter(lambda language: language is not None)\\\n",
    "        .keyBy(lambda language: language)\\\n",
    "        .mapValues(lambda _: 1)\\\n",
    "        .reduceByKey(add)\\\n",
    "        .sortBy(lambda language_counts: language_counts[1], ascending=False)\\\n",
    "        .map(lambda language_counts: language_counts[0])\\\n",
    "        .take(3)\n",
    "    print(f\"\\tQuery languages: {', '.join(most_frequent_query_languages)}\")\n",
    "    \n",
    "    most_frequent_snippet_languages = sc.parallelize(alexa_services, 1000)\\\n",
    "        .flatMap(lambda service: paths_jsonl(service, \"archived-parsed-serps\"))\\\n",
    "        .repartition(10_000)\\\n",
    "        .flatMap(read_jsonl)\\\n",
    "        .map(lambda serp: serp[\"results\"])\\\n",
    "        .filter(lambda results: results is not None)\\\n",
    "        .flatMap(lambda results: results)\\\n",
    "        .repartition(10_000)\\\n",
    "        .map(result_text)\\\n",
    "        .map(detect_language)\\\n",
    "        .filter(lambda language: language is not None)\\\n",
    "        .keyBy(lambda language: language)\\\n",
    "        .mapValues(lambda _: 1)\\\n",
    "        .reduceByKey(add)\\\n",
    "        .sortBy(lambda language_counts: language_counts[1], ascending=False)\\\n",
    "        .map(lambda language_counts: language_counts[0])\\\n",
    "        .take(3)\n",
    "    print(f\"\\tSnippet languages: {', '.join(most_frequent_snippet_languages)}\")\n",
    "    \n",
    "    query_timeline = sc.parallelize(alexa_services, 1000)\\\n",
    "        .flatMap(lambda service: paths_jsonl(service, \"archived-query-urls\"))\\\n",
    "        .repartition(10_000)\\\n",
    "        .flatMap(read_jsonl)\\\n",
    "        .map(lambda query: datetime.fromtimestamp(query[\"timestamp\"]))\\\n",
    "        .map(lambda date: (date.year, date.month, date.day))\\\n",
    "        .distinct()\\\n",
    "        .collect()\n",
    "    query_timeline_plot = FacetGrid(\n",
    "        data=DataFrame([\n",
    "            {\"year\": year + (month - 1) / 12 + (day - 1) / 356}\n",
    "            for year, month, day in query_timeline\n",
    "        ]),\n",
    "        height=0.5,\n",
    "        aspect=10,\n",
    "        xlim=year_range,\n",
    "        ylim=(0,1),\n",
    "    )\n",
    "    query_timeline_plot.map_dataframe(\n",
    "        rugplot,\n",
    "        x=\"year\",\n",
    "        height=1,\n",
    "        lw=0.1,\n",
    "        alpha=0.05,\n",
    "        hue=0,\n",
    "        palette=[color],\n",
    "    )\n",
    "    query_timeline_plot.figure.tight_layout()\n",
    "    query_timeline_plot.set(title=\"\", xticks=[], xlabel=\"\", yticks=[], ylabel=\"\")\n",
    "    query_timeline_plot.despine(bottom=True, left=True)\n",
    "    query_timeline_plot.savefig(f\"figures/timelines/all-queries.png\")\n",
    "    query_timeline_plot.savefig(f\"figures/timelines/all-queries.pdf\")\n",
    "    if len(query_timeline) > 0:\n",
    "        print(f\"\\tQueries timeline: {min(query_timeline)} to {max(query_timeline)}\")\n",
    "    else:\n",
    "        print(f\"\\tQueries timeline: none\")\n",
    "    \n",
    "    result_timeline = sc.parallelize(alexa_services, 1000)\\\n",
    "        .flatMap(lambda service: paths_jsonl(service, \"archived-parsed-serps\"))\\\n",
    "        .repartition(10_000)\\\n",
    "        .flatMap(read_jsonl)\\\n",
    "        .map(lambda serp: serp[\"results\"])\\\n",
    "        .filter(lambda results: results is not None)\\\n",
    "        .flatMap(lambda results: results)\\\n",
    "        .repartition(10_000)\\\n",
    "        .map(lambda result: datetime.fromtimestamp(result[\"timestamp\"]))\\\n",
    "        .map(lambda date: (date.year, date.month, date.day))\\\n",
    "        .distinct()\\\n",
    "        .collect()\n",
    "    result_timeline_plot = FacetGrid(\n",
    "        data=DataFrame([\n",
    "            {\"year\": year + (month - 1) / 12 + (day - 1) / 356}\n",
    "            for year, month, day in result_timeline\n",
    "        ]),\n",
    "        height=0.5,\n",
    "        aspect=10,\n",
    "        xlim=year_range,\n",
    "        ylim=(0,1),\n",
    "    )\n",
    "    result_timeline_plot.map_dataframe(\n",
    "        rugplot,\n",
    "        x=\"year\",\n",
    "        height=1,\n",
    "        lw=0.1,\n",
    "        alpha=0.05,\n",
    "        hue=0,\n",
    "        palette=[color],\n",
    "    )\n",
    "    result_timeline_plot.figure.tight_layout()\n",
    "    result_timeline_plot.set(title=\"\", xticks=[], xlabel=\"\", yticks=[], ylabel=\"\")\n",
    "    result_timeline_plot.despine(bottom=True, left=True)\n",
    "    result_timeline_plot.savefig(f\"figures/timelines/all-results.png\")\n",
    "    result_timeline_plot.savefig(f\"figures/timelines/all-results.pdf\")\n",
    "    if len(result_timeline) > 0:\n",
    "        print(f\"\\Results timeline: {min(result_timeline)} to {max(result_timeline)}\")\n",
    "    else:\n",
    "        print(f\"\\Results timeline: none\")\n",
    "    \n",
    "    return fr\"\\(\\sum\\) & {len(alexa_services)}~providers & {num_urls:,.0f} & {num_queries:,.0f} & {num_unique_queries:,.0f} & {', '.join(most_frequent_query_languages)} & \\servicetimeline{{all-queries}} & {num_serps:,.0f} & {num_search_results:,.0f} & {', '.join(most_frequent_snippet_languages)} & \\servicetimeline{{all-results}} \\\\\""
   ]
  },
  {
   "cell_type": "code",
   "execution_count": 78,
   "metadata": {},
   "outputs": [
    {
     "name": "stdout",
     "output_type": "stream",
     "text": [
      "Create all summary.\n",
      "\t1,009,735,130 URLs\n",
      "\t356,421,234 queries\n",
      "\t64,544,345 unique queries\n",
      "\t5,464,013 SERPs\n",
      "\t58,282,774 results\n",
      "\tQuery languages: zh, en, ga\n",
      "\tSnippet languages: en, ru, ko\n"
     ]
    },
    {
     "name": "stderr",
     "output_type": "stream",
     "text": [
      "/opt/conda/lib/python3.8/site-packages/seaborn/axisgrid.py:118: UserWarning: Tight layout not applied. The bottom and top margins cannot be made large enough to accommodate all axes decorations.\n",
      "  self._figure.tight_layout(*args, **kwargs)\n",
      "/opt/conda/lib/python3.8/site-packages/seaborn/axisgrid.py:118: UserWarning: Tight layout not applied. The bottom and top margins cannot be made large enough to accommodate all axes decorations.\n",
      "  self._figure.tight_layout(*args, **kwargs)\n",
      "/tmp/ipykernel_228341/2187545317.py:113: UserWarning: Tight layout not applied. The bottom and top margins cannot be made large enough to accommodate all axes decorations.\n",
      "  query_timeline_plot.figure.tight_layout()\n"
     ]
    },
    {
     "name": "stdout",
     "output_type": "stream",
     "text": [
      "\tQueries timeline: (1999, 7, 26) to (2022, 11, 11)\n"
     ]
    },
    {
     "name": "stderr",
     "output_type": "stream",
     "text": [
      "/opt/conda/lib/python3.8/site-packages/seaborn/axisgrid.py:118: UserWarning: Tight layout not applied. The bottom and top margins cannot be made large enough to accommodate all axes decorations.\n",
      "  self._figure.tight_layout(*args, **kwargs)\n",
      "/opt/conda/lib/python3.8/site-packages/seaborn/axisgrid.py:118: UserWarning: Tight layout not applied. The bottom and top margins cannot be made large enough to accommodate all axes decorations.\n",
      "  self._figure.tight_layout(*args, **kwargs)\n",
      "/tmp/ipykernel_228341/2187545317.py:154: UserWarning: Tight layout not applied. The bottom and top margins cannot be made large enough to accommodate all axes decorations.\n",
      "  result_timeline_plot.figure.tight_layout()\n"
     ]
    },
    {
     "name": "stdout",
     "output_type": "stream",
     "text": [
      "\\Results timeline: (2000, 1, 8) to (2022, 11, 11)\n",
      "\\(\\sum\\) & 1087~providers & 1,009,735,130 & 356,421,234 & 64,544,345 & zh, en, ga & \\servicetimeline{all-queries} & 5,464,013 & 58,282,774 & en, ru, ko & \\servicetimeline{all-results} \\\\\n"
     ]
    },
    {
     "data": {
      "image/png": "[encoded data removed]",
      "text/plain": [
       "<Figure size 500x50 with 1 Axes>"
      ]
     },
     "metadata": {},
     "output_type": "display_data"
    },
    {
     "data": {
      "image/png": "[encoded data removed]",
      "text/plain": [
       "<Figure size 500x50 with 1 Axes>"
      ]
     },
     "metadata": {},
     "output_type": "display_data"
    }
   ],
   "source": [
    "print(all_overview())"
   ]
  },
  {
   "cell_type": "code",
   "execution_count": null,
   "metadata": {},
   "outputs": [],
   "source": []
  }
 ],
 "metadata": {
  "kernelspec": {
   "display_name": "Python 3",
   "language": "python",
   "name": "python3"
  },
  "language_info": {
   "codemirror_mode": {
    "name": "ipython",
    "version": 3
   },
   "file_extension": ".py",
   "mimetype": "text/x-python",
   "name": "python",
   "nbconvert_exporter": "python",
   "pygments_lexer": "ipython3",
   "version": "3.8.13"
  }
 },
 "nbformat": 4,
 "nbformat_minor": 4
}
